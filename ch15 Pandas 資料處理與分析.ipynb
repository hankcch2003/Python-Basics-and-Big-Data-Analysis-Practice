{
 "cells": [
  {
   "cell_type": "markdown",
   "metadata": {},
   "source": [
    "# ch15 Pandas 資料處理與分析"
   ]
  },
  {
   "cell_type": "code",
   "execution_count": 1,
   "metadata": {},
   "outputs": [
    {
     "data": {
      "text/plain": [
       "0    Tom\n",
       "1     92\n",
       "2     88\n",
       "dtype: object"
      ]
     },
     "execution_count": 1,
     "metadata": {},
     "output_type": "execute_result"
    }
   ],
   "source": [
    "# 匯入pandas套件，用於資料操作與分析\n",
    "import pandas as pd\n",
    "\n",
    "# 使用pd.Series()函式建立一個Series s1，資料為['Tom', 92, 88]，分別代表姓名、數學成績、英文成績\n",
    "# Series是pandas裡的一維資料結構，類似Python的列表(list)，但每個元素都有自己的索引\n",
    "\n",
    "s1 = pd.Series(['Tom', 92, 88])\n",
    "\n",
    "# 輸出s1的內容，可以看到每個元素的索引、對應的值，以及資料型態(dtype)\n",
    "s1"
   ]
  },
  {
   "cell_type": "code",
   "execution_count": 2,
   "metadata": {},
   "outputs": [
    {
     "data": {
      "text/plain": [
       "'Tom'"
      ]
     },
     "execution_count": 2,
     "metadata": {},
     "output_type": "execute_result"
    }
   ],
   "source": [
    "# 透過位置索引(第0個位置)取得Series s1中的第一個元素，並輸出結果\n",
    "# iloc用於透過位置索引取值，不受索引標籤影響\n",
    "\n",
    "s1.iloc[0]"
   ]
  },
  {
   "cell_type": "code",
   "execution_count": 3,
   "metadata": {},
   "outputs": [
    {
     "data": {
      "text/plain": [
       "name       Tom\n",
       "math        92\n",
       "english     88\n",
       "dtype: object"
      ]
     },
     "execution_count": 3,
     "metadata": {},
     "output_type": "execute_result"
    }
   ],
   "source": [
    "# 使用pd.Series()函式建立一個Series s2，資料為['Tom', 92, 88]，分別代表姓名、數學成績、英文成績，並自訂索引為['name', 'math', 'english']，讓每個資料項都有對應的標籤\n",
    "s2 = pd.Series(['Tom', 92, 88], index = ['name', 'math', 'english'])\n",
    "\n",
    "# 輸出s2的內容\n",
    "s2"
   ]
  },
  {
   "cell_type": "code",
   "execution_count": 4,
   "metadata": {},
   "outputs": [
    {
     "data": {
      "text/plain": [
       "'Tom'"
      ]
     },
     "execution_count": 4,
     "metadata": {},
     "output_type": "execute_result"
    }
   ],
   "source": [
    "# 透過標籤索引'name'取得Series s2中的元素，並輸出結果\n",
    "s2['name']"
   ]
  },
  {
   "cell_type": "code",
   "execution_count": 5,
   "metadata": {},
   "outputs": [
    {
     "data": {
      "text/plain": [
       "'Tom'"
      ]
     },
     "execution_count": 5,
     "metadata": {},
     "output_type": "execute_result"
    }
   ],
   "source": [
    "# 透過位置索引(第0個位置)取得Series s2中的第一個元素，並輸出結果\n",
    "s2.iloc[0]"
   ]
  },
  {
   "cell_type": "code",
   "execution_count": 6,
   "metadata": {},
   "outputs": [
    {
     "data": {
      "text/plain": [
       "貓    cat\n",
       "狗    dog\n",
       "dtype: object"
      ]
     },
     "execution_count": 6,
     "metadata": {},
     "output_type": "execute_result"
    }
   ],
   "source": [
    "# 建立一個字典dict1，鍵為中文動物名稱，值為對應的英文名稱\n",
    "dict1 = {'貓': 'cat', '狗': 'dog'}\n",
    "\n",
    "# 使用pd.Series()函式將字典dict1轉換成Series，索引為字典的鍵，值為字典的值\n",
    "s3 = pd.Series(dict1)\n",
    "\n",
    "# 輸出s3的內容\n",
    "s3"
   ]
  },
  {
   "cell_type": "code",
   "execution_count": 7,
   "metadata": {},
   "outputs": [
    {
     "data": {
      "text/plain": [
       "貓    cat\n",
       "狗    dog\n",
       "鳥    NaN\n",
       "dtype: object"
      ]
     },
     "execution_count": 7,
     "metadata": {},
     "output_type": "execute_result"
    }
   ],
   "source": [
    "# 使用pd.Series()函式將字典dict1轉換成Series，並自訂索引為['貓', '狗', '鳥']\n",
    "# 由於字典中沒有'鳥'這個鍵，對應的值會是NaN(缺失值)\n",
    "\n",
    "s4 = pd.Series(dict1, index = ['貓', '狗', '鳥'])\n",
    "\n",
    "# 輸出s4的內容\n",
    "s4"
   ]
  },
  {
   "cell_type": "code",
   "execution_count": 8,
   "metadata": {},
   "outputs": [
    {
     "data": {
      "text/plain": [
       "0    1\n",
       "1    4\n",
       "2    7\n",
       "dtype: int64"
      ]
     },
     "execution_count": 8,
     "metadata": {},
     "output_type": "execute_result"
    }
   ],
   "source": [
    "# 匯入numpy套件，用於數值計算與陣列處理\n",
    "import numpy as np\n",
    "\n",
    "# 使用np.arange()函式建立一個NumPy一維陣列，從1開始(包含1)到小於10結束，間隔值為3，元素型別為整數，並使用pd.Series()函式將該陣列轉換成Series物件s5\n",
    "s5 = pd.Series(np.arange(1, 10, 3))\n",
    "\n",
    "# 輸出s5的內容\n",
    "s5"
   ]
  },
  {
   "cell_type": "code",
   "execution_count": 9,
   "metadata": {},
   "outputs": [
    {
     "name": "stdout",
     "output_type": "stream",
     "text": [
      "1\n"
     ]
    }
   ],
   "source": [
    "# 透過位置索引(第0個位置)取得Series s5中的第一個元素，並輸出結果\n",
    "print(s5.iloc[0])"
   ]
  },
  {
   "cell_type": "code",
   "execution_count": 10,
   "metadata": {},
   "outputs": [
    {
     "data": {
      "text/plain": [
       "a    5\n",
       "b    5\n",
       "c    5\n",
       "dtype: int64"
      ]
     },
     "execution_count": 10,
     "metadata": {},
     "output_type": "execute_result"
    }
   ],
   "source": [
    "# 使用pd.Series()函式建立一個Series s6，所有元素的值都為5，索引分別為'a'、'b'、'c'\n",
    "# 當使用單一值搭配index建立Series時，該值會被套用到所有索引位置上\n",
    "\n",
    "s6 = pd.Series(5, index = ['a', 'b', 'c'])\n",
    "\n",
    "# 輸出s6的內容\n",
    "s6"
   ]
  },
  {
   "cell_type": "code",
   "execution_count": 11,
   "metadata": {},
   "outputs": [
    {
     "data": {
      "text/plain": [
       "'num'"
      ]
     },
     "execution_count": 11,
     "metadata": {},
     "output_type": "execute_result"
    }
   ],
   "source": [
    "# 使用pd.Series()函式建立一個Series s7，所有元素的值都為5，索引分別為'a'、'b'、'c'，並指定Series的名稱為'num'\n",
    "s7 = pd.Series(5, name = 'num', index = ['a', 'b', 'c'])\n",
    "\n",
    "# 輸出s7的名稱\n",
    "s7.name"
   ]
  },
  {
   "cell_type": "code",
   "execution_count": 12,
   "metadata": {},
   "outputs": [
    {
     "data": {
      "text/plain": [
       "Index(['a', 'b', 'c'], dtype='object')"
      ]
     },
     "execution_count": 12,
     "metadata": {},
     "output_type": "execute_result"
    }
   ],
   "source": [
    "# 輸出s7的索引\n",
    "s7.index"
   ]
  },
  {
   "cell_type": "code",
   "execution_count": 13,
   "metadata": {},
   "outputs": [
    {
     "data": {
      "text/plain": [
       "0    1\n",
       "1    3\n",
       "2    5\n",
       "3    7\n",
       "dtype: int64"
      ]
     },
     "execution_count": 13,
     "metadata": {},
     "output_type": "execute_result"
    }
   ],
   "source": [
    "# 使用pd.Series()函式建立一個Series s，資料為[1, 3, 5, 7]，索引為預設的0到3\n",
    "s = pd.Series([1, 3, 5, 7])\n",
    "\n",
    "# 輸出s的結果\n",
    "s"
   ]
  },
  {
   "cell_type": "code",
   "execution_count": 14,
   "metadata": {},
   "outputs": [
    {
     "data": {
      "text/plain": [
       "2    5\n",
       "3    7\n",
       "dtype: int64"
      ]
     },
     "execution_count": 14,
     "metadata": {},
     "output_type": "execute_result"
    }
   ],
   "source": [
    "# 取得Series s從索引2開始到最後的所有元素(包含索引2)，並輸出結果\n",
    "s[2:]"
   ]
  },
  {
   "cell_type": "code",
   "execution_count": 15,
   "metadata": {},
   "outputs": [
    {
     "data": {
      "text/plain": [
       "0    1\n",
       "1    3\n",
       "dtype: int64"
      ]
     },
     "execution_count": 15,
     "metadata": {},
     "output_type": "execute_result"
    }
   ],
   "source": [
    "# 取得Series s從開始到索引2(不包含索引2)之前的所有元素，並輸出結果\n",
    "s[:2]"
   ]
  },
  {
   "cell_type": "code",
   "execution_count": 16,
   "metadata": {},
   "outputs": [
    {
     "data": {
      "text/plain": [
       "0     2\n",
       "1     6\n",
       "2    10\n",
       "3    14\n",
       "dtype: int64"
      ]
     },
     "execution_count": 16,
     "metadata": {},
     "output_type": "execute_result"
    }
   ],
   "source": [
    "# 將Series s中每個元素與自己逐元素相加，並輸出新的Series\n",
    "s + s"
   ]
  },
  {
   "cell_type": "code",
   "execution_count": 17,
   "metadata": {},
   "outputs": [
    {
     "data": {
      "text/plain": [
       "0    False\n",
       "1     True\n",
       "2     True\n",
       "3     True\n",
       "dtype: bool"
      ]
     },
     "execution_count": 17,
     "metadata": {},
     "output_type": "execute_result"
    }
   ],
   "source": [
    "# 判斷Series s中每個元素是否大於2，並逐元素傳回布林值的Series(True、False)\n",
    "s > 2"
   ]
  },
  {
   "cell_type": "code",
   "execution_count": 18,
   "metadata": {},
   "outputs": [
    {
     "data": {
      "text/plain": [
       "0     1\n",
       "1     9\n",
       "2    25\n",
       "3    49\n",
       "dtype: int64"
      ]
     },
     "execution_count": 18,
     "metadata": {},
     "output_type": "execute_result"
    }
   ],
   "source": [
    "# 使用np.square()函式計算Series s中每個元素的平方，並逐元素傳回新的Series\n",
    "np.square(s)"
   ]
  },
  {
   "cell_type": "code",
   "execution_count": 19,
   "metadata": {},
   "outputs": [
    {
     "data": {
      "text/html": [
       "<div>\n",
       "<style scoped>\n",
       "    .dataframe tbody tr th:only-of-type {\n",
       "        vertical-align: middle;\n",
       "    }\n",
       "\n",
       "    .dataframe tbody tr th {\n",
       "        vertical-align: top;\n",
       "    }\n",
       "\n",
       "    .dataframe thead th {\n",
       "        text-align: right;\n",
       "    }\n",
       "</style>\n",
       "<table border=\"1\" class=\"dataframe\">\n",
       "  <thead>\n",
       "    <tr style=\"text-align: right;\">\n",
       "      <th></th>\n",
       "      <th>a</th>\n",
       "      <th>b</th>\n",
       "      <th>c</th>\n",
       "      <th>d</th>\n",
       "    </tr>\n",
       "  </thead>\n",
       "  <tbody>\n",
       "    <tr>\n",
       "      <th>0</th>\n",
       "      <td>1.0</td>\n",
       "      <td>2.0</td>\n",
       "      <td>3.0</td>\n",
       "      <td>NaN</td>\n",
       "    </tr>\n",
       "    <tr>\n",
       "      <th>1</th>\n",
       "      <td>4.0</td>\n",
       "      <td>5.0</td>\n",
       "      <td>6.0</td>\n",
       "      <td>7.0</td>\n",
       "    </tr>\n",
       "  </tbody>\n",
       "</table>\n",
       "</div>"
      ],
      "text/plain": [
       "     a    b    c    d\n",
       "0  1.0  2.0  3.0  NaN\n",
       "1  4.0  5.0  6.0  7.0"
      ]
     },
     "execution_count": 19,
     "metadata": {},
     "output_type": "execute_result"
    }
   ],
   "source": [
    "# 建立一個包含兩個字典的列表data1，包含兩個鍵值對\n",
    "# 第一個字典有鍵值對'a': 1.0, 'b': 2.0, 'c': 3.0\n",
    "# 第二個字典有鍵值對'a': 4.0, 'b': 5.0, 'c': 6.0, 'd': 7.0(多了一個鍵'd')\n",
    "\n",
    "data1 = [{'a': 1., 'b': 2., 'c': 3.}, {'a': 4., 'b': 5., 'c': 6., 'd': 7.}]\n",
    "\n",
    "# 使用pd.DataFrame()函式將列表data1轉換成DataFrame df1\n",
    "# DataFrame是pandas中的二維表格資料結構\n",
    "# 欄位會根據字典的鍵自動建立，沒有出現的欄位會用NaN來表示缺失值\n",
    "\n",
    "df1 = pd.DataFrame(data1)\n",
    "\n",
    "# 輸出df1的內容，可以看到DataFrame的結構與資料內容\n",
    "df1"
   ]
  },
  {
   "cell_type": "code",
   "execution_count": 20,
   "metadata": {},
   "outputs": [
    {
     "data": {
      "text/plain": [
       "RangeIndex(start=0, stop=2, step=1)"
      ]
     },
     "execution_count": 20,
     "metadata": {},
     "output_type": "execute_result"
    }
   ],
   "source": [
    "# 輸出df1的索引(列標籤)\n",
    "df1.index"
   ]
  },
  {
   "cell_type": "code",
   "execution_count": 21,
   "metadata": {},
   "outputs": [
    {
     "data": {
      "text/plain": [
       "Index(['a', 'b', 'c', 'd'], dtype='object')"
      ]
     },
     "execution_count": 21,
     "metadata": {},
     "output_type": "execute_result"
    }
   ],
   "source": [
    "# 輸出df1的欄位名稱(欄標籤)\n",
    "df1.columns"
   ]
  },
  {
   "cell_type": "code",
   "execution_count": 22,
   "metadata": {},
   "outputs": [
    {
     "data": {
      "text/html": [
       "<div>\n",
       "<style scoped>\n",
       "    .dataframe tbody tr th:only-of-type {\n",
       "        vertical-align: middle;\n",
       "    }\n",
       "\n",
       "    .dataframe tbody tr th {\n",
       "        vertical-align: top;\n",
       "    }\n",
       "\n",
       "    .dataframe thead th {\n",
       "        text-align: right;\n",
       "    }\n",
       "</style>\n",
       "<table border=\"1\" class=\"dataframe\">\n",
       "  <thead>\n",
       "    <tr style=\"text-align: right;\">\n",
       "      <th></th>\n",
       "      <th>a</th>\n",
       "      <th>c</th>\n",
       "    </tr>\n",
       "  </thead>\n",
       "  <tbody>\n",
       "    <tr>\n",
       "      <th>0</th>\n",
       "      <td>1.0</td>\n",
       "      <td>3.0</td>\n",
       "    </tr>\n",
       "    <tr>\n",
       "      <th>1</th>\n",
       "      <td>4.0</td>\n",
       "      <td>6.0</td>\n",
       "    </tr>\n",
       "  </tbody>\n",
       "</table>\n",
       "</div>"
      ],
      "text/plain": [
       "     a    c\n",
       "0  1.0  3.0\n",
       "1  4.0  6.0"
      ]
     },
     "execution_count": 22,
     "metadata": {},
     "output_type": "execute_result"
    }
   ],
   "source": [
    "# 取得DataFrame df1中欄位'a'和'c'的所有資料，並傳回一個新的DataFrame\n",
    "df1[['a', 'c']]"
   ]
  },
  {
   "cell_type": "code",
   "execution_count": 23,
   "metadata": {},
   "outputs": [
    {
     "name": "stdout",
     "output_type": "stream",
     "text": [
      "1.0\n"
     ]
    }
   ],
   "source": [
    "# 取得並輸出DataFrame df1中欄位'a'的第0列(第1筆資料)對應的值\n",
    "print(df1['a'][0])"
   ]
  },
  {
   "cell_type": "code",
   "execution_count": 24,
   "metadata": {},
   "outputs": [
    {
     "data": {
      "text/html": [
       "<div>\n",
       "<style scoped>\n",
       "    .dataframe tbody tr th:only-of-type {\n",
       "        vertical-align: middle;\n",
       "    }\n",
       "\n",
       "    .dataframe tbody tr th {\n",
       "        vertical-align: top;\n",
       "    }\n",
       "\n",
       "    .dataframe thead th {\n",
       "        text-align: right;\n",
       "    }\n",
       "</style>\n",
       "<table border=\"1\" class=\"dataframe\">\n",
       "  <thead>\n",
       "    <tr style=\"text-align: right;\">\n",
       "      <th></th>\n",
       "      <th>a</th>\n",
       "      <th>b</th>\n",
       "      <th>c</th>\n",
       "      <th>d</th>\n",
       "    </tr>\n",
       "  </thead>\n",
       "  <tbody>\n",
       "    <tr>\n",
       "      <th>0</th>\n",
       "      <td>1.0</td>\n",
       "      <td>2.0</td>\n",
       "      <td>3.0</td>\n",
       "      <td>NaN</td>\n",
       "    </tr>\n",
       "  </tbody>\n",
       "</table>\n",
       "</div>"
      ],
      "text/plain": [
       "     a    b    c   d\n",
       "0  1.0  2.0  3.0 NaN"
      ]
     },
     "execution_count": 24,
     "metadata": {},
     "output_type": "execute_result"
    }
   ],
   "source": [
    "# 取得並輸出DataFrame df1中從第0列開始(包含第0列)到第1列之前的所有資料，也就是只取得第0列\n",
    "df1[:1]"
   ]
  },
  {
   "cell_type": "code",
   "execution_count": 25,
   "metadata": {},
   "outputs": [
    {
     "data": {
      "text/html": [
       "<div>\n",
       "<style scoped>\n",
       "    .dataframe tbody tr th:only-of-type {\n",
       "        vertical-align: middle;\n",
       "    }\n",
       "\n",
       "    .dataframe tbody tr th {\n",
       "        vertical-align: top;\n",
       "    }\n",
       "\n",
       "    .dataframe thead th {\n",
       "        text-align: right;\n",
       "    }\n",
       "</style>\n",
       "<table border=\"1\" class=\"dataframe\">\n",
       "  <thead>\n",
       "    <tr style=\"text-align: right;\">\n",
       "      <th></th>\n",
       "      <th>a</th>\n",
       "      <th>b</th>\n",
       "      <th>c</th>\n",
       "      <th>d</th>\n",
       "    </tr>\n",
       "  </thead>\n",
       "  <tbody>\n",
       "    <tr>\n",
       "      <th>first</th>\n",
       "      <td>1.0</td>\n",
       "      <td>2.0</td>\n",
       "      <td>3.0</td>\n",
       "      <td>NaN</td>\n",
       "    </tr>\n",
       "    <tr>\n",
       "      <th>second</th>\n",
       "      <td>4.0</td>\n",
       "      <td>5.0</td>\n",
       "      <td>6.0</td>\n",
       "      <td>7.0</td>\n",
       "    </tr>\n",
       "  </tbody>\n",
       "</table>\n",
       "</div>"
      ],
      "text/plain": [
       "          a    b    c    d\n",
       "first   1.0  2.0  3.0  NaN\n",
       "second  4.0  5.0  6.0  7.0"
      ]
     },
     "execution_count": 25,
     "metadata": {},
     "output_type": "execute_result"
    }
   ],
   "source": [
    "# 使用pd.DataFrame()函式將列表data1轉換為DataFrame，並自訂列索引為['first', 'second']\n",
    "pd.DataFrame(data1, index = ['first', 'second'])"
   ]
  },
  {
   "cell_type": "code",
   "execution_count": 26,
   "metadata": {},
   "outputs": [
    {
     "data": {
      "text/html": [
       "<div>\n",
       "<style scoped>\n",
       "    .dataframe tbody tr th:only-of-type {\n",
       "        vertical-align: middle;\n",
       "    }\n",
       "\n",
       "    .dataframe tbody tr th {\n",
       "        vertical-align: top;\n",
       "    }\n",
       "\n",
       "    .dataframe thead th {\n",
       "        text-align: right;\n",
       "    }\n",
       "</style>\n",
       "<table border=\"1\" class=\"dataframe\">\n",
       "  <thead>\n",
       "    <tr style=\"text-align: right;\">\n",
       "      <th></th>\n",
       "      <th>d</th>\n",
       "      <th>b</th>\n",
       "      <th>a</th>\n",
       "    </tr>\n",
       "  </thead>\n",
       "  <tbody>\n",
       "    <tr>\n",
       "      <th>first</th>\n",
       "      <td>NaN</td>\n",
       "      <td>2.0</td>\n",
       "      <td>1.0</td>\n",
       "    </tr>\n",
       "    <tr>\n",
       "      <th>second</th>\n",
       "      <td>7.0</td>\n",
       "      <td>5.0</td>\n",
       "      <td>4.0</td>\n",
       "    </tr>\n",
       "  </tbody>\n",
       "</table>\n",
       "</div>"
      ],
      "text/plain": [
       "          d    b    a\n",
       "first   NaN  2.0  1.0\n",
       "second  7.0  5.0  4.0"
      ]
     },
     "execution_count": 26,
     "metadata": {},
     "output_type": "execute_result"
    }
   ],
   "source": [
    "# 使用pd.DataFrame()函式將列表data1轉換為DataFrame，並自訂列索引為['first', 'second']\n",
    "# 同時指定欄位順序為['d', 'b', 'a']，只顯示這三個欄位，依指定順序排列\n",
    "# 若某筆資料中沒有對應欄位，則顯示為NaN(缺失值)\n",
    "\n",
    "pd.DataFrame(data1, index = ['first', 'second'], columns = ['d', 'b', 'a'])"
   ]
  },
  {
   "cell_type": "code",
   "execution_count": 27,
   "metadata": {},
   "outputs": [
    {
     "data": {
      "text/html": [
       "<div>\n",
       "<style scoped>\n",
       "    .dataframe tbody tr th:only-of-type {\n",
       "        vertical-align: middle;\n",
       "    }\n",
       "\n",
       "    .dataframe tbody tr th {\n",
       "        vertical-align: top;\n",
       "    }\n",
       "\n",
       "    .dataframe thead th {\n",
       "        text-align: right;\n",
       "    }\n",
       "</style>\n",
       "<table border=\"1\" class=\"dataframe\">\n",
       "  <thead>\n",
       "    <tr style=\"text-align: right;\">\n",
       "      <th></th>\n",
       "      <th>drink</th>\n",
       "      <th>dessert</th>\n",
       "    </tr>\n",
       "  </thead>\n",
       "  <tbody>\n",
       "    <tr>\n",
       "      <th>0</th>\n",
       "      <td>啤酒</td>\n",
       "      <td>蛋糕</td>\n",
       "    </tr>\n",
       "    <tr>\n",
       "      <th>1</th>\n",
       "      <td>咖啡</td>\n",
       "      <td>餅乾</td>\n",
       "    </tr>\n",
       "    <tr>\n",
       "      <th>2</th>\n",
       "      <td>紅茶</td>\n",
       "      <td>泡芙</td>\n",
       "    </tr>\n",
       "  </tbody>\n",
       "</table>\n",
       "</div>"
      ],
      "text/plain": [
       "  drink dessert\n",
       "0    啤酒      蛋糕\n",
       "1    咖啡      餅乾\n",
       "2    紅茶      泡芙"
      ]
     },
     "execution_count": 27,
     "metadata": {},
     "output_type": "execute_result"
    }
   ],
   "source": [
    "# 建立一個字典data，包含兩個鍵值對\n",
    "# 鍵'drink'對應的值是一個列表，包含三種飲料名稱：啤酒、咖啡、紅茶\n",
    "# 鍵'dessert'對應的值是一個列表，包含三種甜點名稱：蛋糕、餅乾、泡芙\n",
    "\n",
    "data = {'drink': ['啤酒', '咖啡', '紅茶'], 'dessert': ['蛋糕', '餅乾', '泡芙']}\n",
    "\n",
    "# 使用pd.DataFrame()函式將字典data轉換成DataFrame，並輸出結果\n",
    "pd.DataFrame(data)"
   ]
  },
  {
   "cell_type": "code",
   "execution_count": 28,
   "metadata": {},
   "outputs": [
    {
     "data": {
      "text/html": [
       "<div>\n",
       "<style scoped>\n",
       "    .dataframe tbody tr th:only-of-type {\n",
       "        vertical-align: middle;\n",
       "    }\n",
       "\n",
       "    .dataframe tbody tr th {\n",
       "        vertical-align: top;\n",
       "    }\n",
       "\n",
       "    .dataframe thead th {\n",
       "        text-align: right;\n",
       "    }\n",
       "</style>\n",
       "<table border=\"1\" class=\"dataframe\">\n",
       "  <thead>\n",
       "    <tr style=\"text-align: right;\">\n",
       "      <th></th>\n",
       "      <th>one</th>\n",
       "      <th>two</th>\n",
       "    </tr>\n",
       "  </thead>\n",
       "  <tbody>\n",
       "    <tr>\n",
       "      <th>a</th>\n",
       "      <td>1.0</td>\n",
       "      <td>3.0</td>\n",
       "    </tr>\n",
       "    <tr>\n",
       "      <th>b</th>\n",
       "      <td>2.0</td>\n",
       "      <td>4.0</td>\n",
       "    </tr>\n",
       "    <tr>\n",
       "      <th>c</th>\n",
       "      <td>NaN</td>\n",
       "      <td>5.0</td>\n",
       "    </tr>\n",
       "  </tbody>\n",
       "</table>\n",
       "</div>"
      ],
      "text/plain": [
       "   one  two\n",
       "a  1.0  3.0\n",
       "b  2.0  4.0\n",
       "c  NaN  5.0"
      ]
     },
     "execution_count": 28,
     "metadata": {},
     "output_type": "execute_result"
    }
   ],
   "source": [
    "# 建立一個字典data，包含兩個鍵值對\n",
    "# 鍵'one'對應的值是一個Series，資料為[1.0, 2.0]，索引分別為['a', 'b']\n",
    "# 鍵'two'對應的值也是一個Series，資料為[3.0, 4.0, 5.0]，索引分別為['a', 'b', 'c']\n",
    "\n",
    "data = {'one': pd.Series([1., 2.], index = ['a', 'b']), 'two': pd.Series([3., 4., 5.], index = ['a', 'b', 'c'])}\n",
    "\n",
    "# 使用pd.DataFrame()函式將字典data轉換成DataFrame，並輸出結果\n",
    "pd.DataFrame(data)"
   ]
  },
  {
   "cell_type": "code",
   "execution_count": 29,
   "metadata": {},
   "outputs": [
    {
     "data": {
      "text/html": [
       "<div>\n",
       "<style scoped>\n",
       "    .dataframe tbody tr th:only-of-type {\n",
       "        vertical-align: middle;\n",
       "    }\n",
       "\n",
       "    .dataframe tbody tr th {\n",
       "        vertical-align: top;\n",
       "    }\n",
       "\n",
       "    .dataframe thead th {\n",
       "        text-align: right;\n",
       "    }\n",
       "</style>\n",
       "<table border=\"1\" class=\"dataframe\">\n",
       "  <thead>\n",
       "    <tr style=\"text-align: right;\">\n",
       "      <th></th>\n",
       "      <th>one</th>\n",
       "      <th>two</th>\n",
       "    </tr>\n",
       "  </thead>\n",
       "  <tbody>\n",
       "    <tr>\n",
       "      <th>c</th>\n",
       "      <td>NaN</td>\n",
       "      <td>5.0</td>\n",
       "    </tr>\n",
       "    <tr>\n",
       "      <th>b</th>\n",
       "      <td>2.0</td>\n",
       "      <td>4.0</td>\n",
       "    </tr>\n",
       "  </tbody>\n",
       "</table>\n",
       "</div>"
      ],
      "text/plain": [
       "   one  two\n",
       "c  NaN  5.0\n",
       "b  2.0  4.0"
      ]
     },
     "execution_count": 29,
     "metadata": {},
     "output_type": "execute_result"
    }
   ],
   "source": [
    "# 使用pd.DataFrame()函式將字典data轉換為DataFrame，並自訂列索引為['c', 'b']\n",
    "pd.DataFrame(data, index = ['c', 'b'])"
   ]
  },
  {
   "cell_type": "code",
   "execution_count": 30,
   "metadata": {},
   "outputs": [
    {
     "data": {
      "text/html": [
       "<div>\n",
       "<style scoped>\n",
       "    .dataframe tbody tr th:only-of-type {\n",
       "        vertical-align: middle;\n",
       "    }\n",
       "\n",
       "    .dataframe tbody tr th {\n",
       "        vertical-align: top;\n",
       "    }\n",
       "\n",
       "    .dataframe thead th {\n",
       "        text-align: right;\n",
       "    }\n",
       "</style>\n",
       "<table border=\"1\" class=\"dataframe\">\n",
       "  <thead>\n",
       "    <tr style=\"text-align: right;\">\n",
       "      <th></th>\n",
       "      <th>two</th>\n",
       "      <th>three</th>\n",
       "    </tr>\n",
       "  </thead>\n",
       "  <tbody>\n",
       "    <tr>\n",
       "      <th>c</th>\n",
       "      <td>5.0</td>\n",
       "      <td>NaN</td>\n",
       "    </tr>\n",
       "    <tr>\n",
       "      <th>b</th>\n",
       "      <td>4.0</td>\n",
       "      <td>NaN</td>\n",
       "    </tr>\n",
       "  </tbody>\n",
       "</table>\n",
       "</div>"
      ],
      "text/plain": [
       "   two three\n",
       "c  5.0   NaN\n",
       "b  4.0   NaN"
      ]
     },
     "execution_count": 30,
     "metadata": {},
     "output_type": "execute_result"
    }
   ],
   "source": [
    "# 使用pd.DataFrame()函式將字典data轉換為DataFrame，並自訂列索引為['c', 'b']\n",
    "# 同時指定欄位順序為['two', 'three']，只顯示這兩個欄位，依指定順序排列\n",
    "\n",
    "pd.DataFrame(data, index = ['c', 'b'], columns = ['two', 'three'])"
   ]
  },
  {
   "cell_type": "code",
   "execution_count": 31,
   "metadata": {},
   "outputs": [
    {
     "data": {
      "text/html": [
       "<div>\n",
       "<style scoped>\n",
       "    .dataframe tbody tr th:only-of-type {\n",
       "        vertical-align: middle;\n",
       "    }\n",
       "\n",
       "    .dataframe tbody tr th {\n",
       "        vertical-align: top;\n",
       "    }\n",
       "\n",
       "    .dataframe thead th {\n",
       "        text-align: right;\n",
       "    }\n",
       "</style>\n",
       "<table border=\"1\" class=\"dataframe\">\n",
       "  <thead>\n",
       "    <tr style=\"text-align: right;\">\n",
       "      <th></th>\n",
       "      <th>a</th>\n",
       "      <th>b</th>\n",
       "      <th>c</th>\n",
       "    </tr>\n",
       "  </thead>\n",
       "  <tbody>\n",
       "    <tr>\n",
       "      <th>x</th>\n",
       "      <td>1</td>\n",
       "      <td>3</td>\n",
       "      <td>5</td>\n",
       "    </tr>\n",
       "    <tr>\n",
       "      <th>y</th>\n",
       "      <td>2</td>\n",
       "      <td>4</td>\n",
       "      <td>6</td>\n",
       "    </tr>\n",
       "    <tr>\n",
       "      <th>z</th>\n",
       "      <td>2</td>\n",
       "      <td>5</td>\n",
       "      <td>7</td>\n",
       "    </tr>\n",
       "  </tbody>\n",
       "</table>\n",
       "</div>"
      ],
      "text/plain": [
       "   a  b  c\n",
       "x  1  3  5\n",
       "y  2  4  6\n",
       "z  2  5  7"
      ]
     },
     "execution_count": 31,
     "metadata": {},
     "output_type": "execute_result"
    }
   ],
   "source": [
    "# 使用pd.DataFrame()函式建立一個3x3的DataFrame，並自訂列索引為['x', 'y', 'z']，欄位名稱為['a', 'b', 'c']\n",
    "df = pd.DataFrame([[1, 3, 5], [2, 4, 6], [2, 5, 7]], index = ['x', 'y', 'z'], columns = ['a', 'b', 'c'])\n",
    "\n",
    "# 輸出df的內容\n",
    "df"
   ]
  },
  {
   "cell_type": "code",
   "execution_count": 32,
   "metadata": {},
   "outputs": [
    {
     "name": "stdout",
     "output_type": "stream",
     "text": [
      "3\n"
     ]
    }
   ],
   "source": [
    "# 取得df中索引為'x'，欄位為'b'的單一元素的值(標籤定位，單個元素)\n",
    "print(df.at['x', 'b'])"
   ]
  },
  {
   "cell_type": "code",
   "execution_count": 33,
   "metadata": {},
   "outputs": [
    {
     "name": "stdout",
     "output_type": "stream",
     "text": [
      "3\n"
     ]
    }
   ],
   "source": [
    "# 取得df中第0列、第1欄的單一元素的值(位置定位，單個元素)\n",
    "print(df.iat[0, 1])"
   ]
  },
  {
   "cell_type": "code",
   "execution_count": 34,
   "metadata": {},
   "outputs": [
    {
     "data": {
      "text/plain": [
       "a    1\n",
       "b    3\n",
       "c    5\n",
       "Name: x, dtype: int64"
      ]
     },
     "execution_count": 34,
     "metadata": {},
     "output_type": "execute_result"
    }
   ],
   "source": [
    "# 取得df中索引為'x'的整列資料(標籤定位，取得一列Series)\n",
    "df.loc['x']"
   ]
  },
  {
   "cell_type": "code",
   "execution_count": 35,
   "metadata": {},
   "outputs": [
    {
     "data": {
      "text/html": [
       "<div>\n",
       "<style scoped>\n",
       "    .dataframe tbody tr th:only-of-type {\n",
       "        vertical-align: middle;\n",
       "    }\n",
       "\n",
       "    .dataframe tbody tr th {\n",
       "        vertical-align: top;\n",
       "    }\n",
       "\n",
       "    .dataframe thead th {\n",
       "        text-align: right;\n",
       "    }\n",
       "</style>\n",
       "<table border=\"1\" class=\"dataframe\">\n",
       "  <thead>\n",
       "    <tr style=\"text-align: right;\">\n",
       "      <th></th>\n",
       "      <th>a</th>\n",
       "      <th>b</th>\n",
       "      <th>c</th>\n",
       "    </tr>\n",
       "  </thead>\n",
       "  <tbody>\n",
       "    <tr>\n",
       "      <th>x</th>\n",
       "      <td>1</td>\n",
       "      <td>3</td>\n",
       "      <td>5</td>\n",
       "    </tr>\n",
       "    <tr>\n",
       "      <th>y</th>\n",
       "      <td>2</td>\n",
       "      <td>4</td>\n",
       "      <td>6</td>\n",
       "    </tr>\n",
       "  </tbody>\n",
       "</table>\n",
       "</div>"
      ],
      "text/plain": [
       "   a  b  c\n",
       "x  1  3  5\n",
       "y  2  4  6"
      ]
     },
     "execution_count": 35,
     "metadata": {},
     "output_type": "execute_result"
    }
   ],
   "source": [
    "# 取得df中索引為'x'和'y'的多列資料(標籤定位，取得多列DataFrame)\n",
    "df.loc[['x', 'y']]"
   ]
  },
  {
   "cell_type": "code",
   "execution_count": 36,
   "metadata": {},
   "outputs": [
    {
     "data": {
      "text/html": [
       "<div>\n",
       "<style scoped>\n",
       "    .dataframe tbody tr th:only-of-type {\n",
       "        vertical-align: middle;\n",
       "    }\n",
       "\n",
       "    .dataframe tbody tr th {\n",
       "        vertical-align: top;\n",
       "    }\n",
       "\n",
       "    .dataframe thead th {\n",
       "        text-align: right;\n",
       "    }\n",
       "</style>\n",
       "<table border=\"1\" class=\"dataframe\">\n",
       "  <thead>\n",
       "    <tr style=\"text-align: right;\">\n",
       "      <th></th>\n",
       "      <th>b</th>\n",
       "      <th>c</th>\n",
       "    </tr>\n",
       "  </thead>\n",
       "  <tbody>\n",
       "    <tr>\n",
       "      <th>y</th>\n",
       "      <td>4</td>\n",
       "      <td>6</td>\n",
       "    </tr>\n",
       "    <tr>\n",
       "      <th>z</th>\n",
       "      <td>5</td>\n",
       "      <td>7</td>\n",
       "    </tr>\n",
       "  </tbody>\n",
       "</table>\n",
       "</div>"
      ],
      "text/plain": [
       "   b  c\n",
       "y  4  6\n",
       "z  5  7"
      ]
     },
     "execution_count": 36,
     "metadata": {},
     "output_type": "execute_result"
    }
   ],
   "source": [
    "# 取得df中從索引'y'到索引'z'(包含'y'和'z')的列，並只取得欄位'b'到欄位'c'(包含'b'和'c')的資料，傳回一個新的DataFrame\n",
    "df.loc['y': 'z', 'b': 'c']"
   ]
  },
  {
   "cell_type": "code",
   "execution_count": 37,
   "metadata": {},
   "outputs": [
    {
     "data": {
      "text/plain": [
       "a    1\n",
       "b    3\n",
       "c    5\n",
       "Name: x, dtype: int64"
      ]
     },
     "execution_count": 37,
     "metadata": {},
     "output_type": "execute_result"
    }
   ],
   "source": [
    "# 透過位置索引(第0個位置)取得DataFrame df中的第一個元素，並輸出結果\n",
    "df.iloc[0]"
   ]
  },
  {
   "cell_type": "code",
   "execution_count": 38,
   "metadata": {},
   "outputs": [
    {
     "data": {
      "text/plain": [
       "x    1\n",
       "y    2\n",
       "z    2\n",
       "Name: a, dtype: int64"
      ]
     },
     "execution_count": 38,
     "metadata": {},
     "output_type": "execute_result"
    }
   ],
   "source": [
    "# 取得並輸出DataFrame df中欄位'a'的所有資料\n",
    "df['a']"
   ]
  },
  {
   "cell_type": "code",
   "execution_count": 39,
   "metadata": {},
   "outputs": [
    {
     "name": "stdout",
     "output_type": "stream",
     "text": [
      "1\n"
     ]
    }
   ],
   "source": [
    "# 取得並輸出DataFrame df中列索引為'x'，欄位為'a'的資料\n",
    "print(df['a']['x'])"
   ]
  },
  {
   "cell_type": "code",
   "execution_count": 40,
   "metadata": {},
   "outputs": [
    {
     "data": {
      "text/html": [
       "<div>\n",
       "<style scoped>\n",
       "    .dataframe tbody tr th:only-of-type {\n",
       "        vertical-align: middle;\n",
       "    }\n",
       "\n",
       "    .dataframe tbody tr th {\n",
       "        vertical-align: top;\n",
       "    }\n",
       "\n",
       "    .dataframe thead th {\n",
       "        text-align: right;\n",
       "    }\n",
       "</style>\n",
       "<table border=\"1\" class=\"dataframe\">\n",
       "  <thead>\n",
       "    <tr style=\"text-align: right;\">\n",
       "      <th></th>\n",
       "      <th>a</th>\n",
       "      <th>c</th>\n",
       "    </tr>\n",
       "  </thead>\n",
       "  <tbody>\n",
       "    <tr>\n",
       "      <th>x</th>\n",
       "      <td>1</td>\n",
       "      <td>5</td>\n",
       "    </tr>\n",
       "    <tr>\n",
       "      <th>y</th>\n",
       "      <td>2</td>\n",
       "      <td>6</td>\n",
       "    </tr>\n",
       "    <tr>\n",
       "      <th>z</th>\n",
       "      <td>2</td>\n",
       "      <td>7</td>\n",
       "    </tr>\n",
       "  </tbody>\n",
       "</table>\n",
       "</div>"
      ],
      "text/plain": [
       "   a  c\n",
       "x  1  5\n",
       "y  2  6\n",
       "z  2  7"
      ]
     },
     "execution_count": 40,
     "metadata": {},
     "output_type": "execute_result"
    }
   ],
   "source": [
    "# 取得並輸出DataFrame df中，欄位'a'和'c'的所有列資料\n",
    "df[['a', 'c']]"
   ]
  },
  {
   "cell_type": "code",
   "execution_count": 41,
   "metadata": {},
   "outputs": [
    {
     "data": {
      "text/html": [
       "<div>\n",
       "<style scoped>\n",
       "    .dataframe tbody tr th:only-of-type {\n",
       "        vertical-align: middle;\n",
       "    }\n",
       "\n",
       "    .dataframe tbody tr th {\n",
       "        vertical-align: top;\n",
       "    }\n",
       "\n",
       "    .dataframe thead th {\n",
       "        text-align: right;\n",
       "    }\n",
       "</style>\n",
       "<table border=\"1\" class=\"dataframe\">\n",
       "  <thead>\n",
       "    <tr style=\"text-align: right;\">\n",
       "      <th></th>\n",
       "      <th>a</th>\n",
       "      <th>b</th>\n",
       "      <th>c</th>\n",
       "    </tr>\n",
       "  </thead>\n",
       "  <tbody>\n",
       "    <tr>\n",
       "      <th>x</th>\n",
       "      <td>1</td>\n",
       "      <td>3</td>\n",
       "      <td>5</td>\n",
       "    </tr>\n",
       "    <tr>\n",
       "      <th>y</th>\n",
       "      <td>2</td>\n",
       "      <td>4</td>\n",
       "      <td>6</td>\n",
       "    </tr>\n",
       "  </tbody>\n",
       "</table>\n",
       "</div>"
      ],
      "text/plain": [
       "   a  b  c\n",
       "x  1  3  5\n",
       "y  2  4  6"
      ]
     },
     "execution_count": 41,
     "metadata": {},
     "output_type": "execute_result"
    }
   ],
   "source": [
    "# 取得並輸出DataFrame df中從第0列開始(包含第0列)到第2列之前的所有資料，也就是取得第0列和第1列\n",
    "df[:2]"
   ]
  },
  {
   "cell_type": "code",
   "execution_count": 42,
   "metadata": {},
   "outputs": [
    {
     "data": {
      "text/html": [
       "<div>\n",
       "<style scoped>\n",
       "    .dataframe tbody tr th:only-of-type {\n",
       "        vertical-align: middle;\n",
       "    }\n",
       "\n",
       "    .dataframe tbody tr th {\n",
       "        vertical-align: top;\n",
       "    }\n",
       "\n",
       "    .dataframe thead th {\n",
       "        text-align: right;\n",
       "    }\n",
       "</style>\n",
       "<table border=\"1\" class=\"dataframe\">\n",
       "  <thead>\n",
       "    <tr style=\"text-align: right;\">\n",
       "      <th></th>\n",
       "      <th>a</th>\n",
       "      <th>b</th>\n",
       "      <th>c</th>\n",
       "    </tr>\n",
       "  </thead>\n",
       "  <tbody>\n",
       "    <tr>\n",
       "      <th>y</th>\n",
       "      <td>2</td>\n",
       "      <td>4</td>\n",
       "      <td>6</td>\n",
       "    </tr>\n",
       "    <tr>\n",
       "      <th>z</th>\n",
       "      <td>2</td>\n",
       "      <td>5</td>\n",
       "      <td>7</td>\n",
       "    </tr>\n",
       "  </tbody>\n",
       "</table>\n",
       "</div>"
      ],
      "text/plain": [
       "   a  b  c\n",
       "y  2  4  6\n",
       "z  2  5  7"
      ]
     },
     "execution_count": 42,
     "metadata": {},
     "output_type": "execute_result"
    }
   ],
   "source": [
    "# 取得並輸出DataFrame df中欄位'b'的值大於3的所有列資料\n",
    "df[df['b'] > 3]"
   ]
  },
  {
   "cell_type": "code",
   "execution_count": 43,
   "metadata": {},
   "outputs": [
    {
     "data": {
      "text/plain": [
       "a    7\n",
       "b    7\n",
       "c    7\n",
       "dtype: int64"
      ]
     },
     "execution_count": 43,
     "metadata": {},
     "output_type": "execute_result"
    }
   ],
   "source": [
    "# 建立兩個Series物件s1與s2，索引皆為['a', 'b', 'c']\n",
    "s1 = pd.Series([6, 2, 4], index = ['a', 'b', 'c'])\n",
    "s2 = pd.Series([1, 5, 3], index = ['a', 'b', 'c'])\n",
    "\n",
    "# 使用s1.add()方法對s1與s2對應索引的元素進行相加，並傳回一個新的Series\n",
    "s1.add(s2)"
   ]
  },
  {
   "cell_type": "code",
   "execution_count": 44,
   "metadata": {},
   "outputs": [
    {
     "data": {
      "text/plain": [
       "a    7\n",
       "b    7\n",
       "c    7\n",
       "dtype: int64"
      ]
     },
     "execution_count": 44,
     "metadata": {},
     "output_type": "execute_result"
    }
   ],
   "source": [
    "# 使用加法運算子\"+\"對s1與s2對應索引的元素進行相加，並傳回一個新的Series\n",
    "s1 + s2"
   ]
  },
  {
   "cell_type": "code",
   "execution_count": 45,
   "metadata": {},
   "outputs": [
    {
     "data": {
      "text/plain": [
       "a    5\n",
       "b   -3\n",
       "c    1\n",
       "dtype: int64"
      ]
     },
     "execution_count": 45,
     "metadata": {},
     "output_type": "execute_result"
    }
   ],
   "source": [
    "# 使用s1.sub()方法對s1與s2對應索引的元素進行相減，並傳回一個新的Series\n",
    "s1.sub(s2)"
   ]
  },
  {
   "cell_type": "code",
   "execution_count": 46,
   "metadata": {},
   "outputs": [
    {
     "data": {
      "text/plain": [
       "a    5\n",
       "b   -3\n",
       "c    1\n",
       "dtype: int64"
      ]
     },
     "execution_count": 46,
     "metadata": {},
     "output_type": "execute_result"
    }
   ],
   "source": [
    "# 使用減法運算子\"-\"對s1與s2對應索引的元素進行相減，並傳回一個新的Series\n",
    "s1 - s2"
   ]
  },
  {
   "cell_type": "code",
   "execution_count": 47,
   "metadata": {},
   "outputs": [
    {
     "data": {
      "text/plain": [
       "a     6\n",
       "b    10\n",
       "c    12\n",
       "dtype: int64"
      ]
     },
     "execution_count": 47,
     "metadata": {},
     "output_type": "execute_result"
    }
   ],
   "source": [
    "# 使用s1.mul()方法對s1與s2對應索引的元素進行相乘，並傳回一個新的Series\n",
    "s1.mul(s2)"
   ]
  },
  {
   "cell_type": "code",
   "execution_count": 48,
   "metadata": {},
   "outputs": [
    {
     "data": {
      "text/plain": [
       "a     6\n",
       "b    10\n",
       "c    12\n",
       "dtype: int64"
      ]
     },
     "execution_count": 48,
     "metadata": {},
     "output_type": "execute_result"
    }
   ],
   "source": [
    "# 使用乘法運算子\"*\"對s1與s2對應索引的元素進行相乘，並傳回一個新的Series\n",
    "s1 * s2"
   ]
  },
  {
   "cell_type": "code",
   "execution_count": 49,
   "metadata": {},
   "outputs": [
    {
     "data": {
      "text/plain": [
       "a    6.000000\n",
       "b    0.400000\n",
       "c    1.333333\n",
       "dtype: float64"
      ]
     },
     "execution_count": 49,
     "metadata": {},
     "output_type": "execute_result"
    }
   ],
   "source": [
    "# 使用s1.div()方法對s1與s2對應索引的元素進行相除，並傳回一個新的Series\n",
    "s1.div(s2)"
   ]
  },
  {
   "cell_type": "code",
   "execution_count": 50,
   "metadata": {},
   "outputs": [
    {
     "data": {
      "text/plain": [
       "a    6.000000\n",
       "b    0.400000\n",
       "c    1.333333\n",
       "dtype: float64"
      ]
     },
     "execution_count": 50,
     "metadata": {},
     "output_type": "execute_result"
    }
   ],
   "source": [
    "# 使用除法運算子\"/\"對s1與s2對應索引的元素進行相除，並傳回一個新的Series\n",
    "s1 / s2"
   ]
  },
  {
   "cell_type": "code",
   "execution_count": 51,
   "metadata": {},
   "outputs": [
    {
     "data": {
      "text/plain": [
       "a    False\n",
       "b     True\n",
       "c    False\n",
       "dtype: bool"
      ]
     },
     "execution_count": 51,
     "metadata": {},
     "output_type": "execute_result"
    }
   ],
   "source": [
    "# 使用s1.lt()方法，比較s1和s2中對應索引的元素，判斷s1是否小於s2，並傳回一個布林值的Series\n",
    "s1.lt(s2)"
   ]
  },
  {
   "cell_type": "code",
   "execution_count": 52,
   "metadata": {},
   "outputs": [
    {
     "data": {
      "text/plain": [
       "a    False\n",
       "b     True\n",
       "c    False\n",
       "dtype: bool"
      ]
     },
     "execution_count": 52,
     "metadata": {},
     "output_type": "execute_result"
    }
   ],
   "source": [
    "# 使用小於運算子\"<\"比較s1和s2中對應索引的元素，判斷s1是否小於s2，並傳回一個布林值的Series\n",
    "s1 < s2"
   ]
  },
  {
   "cell_type": "code",
   "execution_count": 53,
   "metadata": {},
   "outputs": [
    {
     "data": {
      "text/plain": [
       "a     True\n",
       "b    False\n",
       "c     True\n",
       "dtype: bool"
      ]
     },
     "execution_count": 53,
     "metadata": {},
     "output_type": "execute_result"
    }
   ],
   "source": [
    "# 使用s1.gt()方法，比較s1和s2中對應索引的元素，判斷s1是否大於s2，並傳回一個布林值的Series\n",
    "s1.gt(s2)"
   ]
  },
  {
   "cell_type": "code",
   "execution_count": 54,
   "metadata": {},
   "outputs": [
    {
     "data": {
      "text/plain": [
       "a     True\n",
       "b    False\n",
       "c     True\n",
       "dtype: bool"
      ]
     },
     "execution_count": 54,
     "metadata": {},
     "output_type": "execute_result"
    }
   ],
   "source": [
    "# 使用大於運算子\">\"比較s1和s2中對應索引的元素，判斷s1是否大於s2，並傳回一個布林值的Series\n",
    "s1 > s2"
   ]
  },
  {
   "cell_type": "code",
   "execution_count": 55,
   "metadata": {},
   "outputs": [
    {
     "data": {
      "text/plain": [
       "a    False\n",
       "b     True\n",
       "c    False\n",
       "dtype: bool"
      ]
     },
     "execution_count": 55,
     "metadata": {},
     "output_type": "execute_result"
    }
   ],
   "source": [
    "# 使用s1.le()方法，比較s1和s2中對應索引的元素，判斷s1是否小於或等於s2，並傳回一個布林值的Series\n",
    "s1.le(s2)"
   ]
  },
  {
   "cell_type": "code",
   "execution_count": 56,
   "metadata": {},
   "outputs": [
    {
     "data": {
      "text/plain": [
       "a    False\n",
       "b     True\n",
       "c    False\n",
       "dtype: bool"
      ]
     },
     "execution_count": 56,
     "metadata": {},
     "output_type": "execute_result"
    }
   ],
   "source": [
    "# 使用小於等於運算子\"<=\"比較s1和s2中對應索引的元素，判斷s1是否小於或等於s2，並傳回一個布林值的Series\n",
    "s1 <= s2"
   ]
  },
  {
   "cell_type": "code",
   "execution_count": 57,
   "metadata": {},
   "outputs": [
    {
     "data": {
      "text/plain": [
       "a     True\n",
       "b    False\n",
       "c     True\n",
       "dtype: bool"
      ]
     },
     "execution_count": 57,
     "metadata": {},
     "output_type": "execute_result"
    }
   ],
   "source": [
    "# 使用s1.ge()方法，比較s1和s2中對應索引的元素，判斷s1是否大於或等於s2，並傳回一個布林值的Series\n",
    "s1.ge(s2)"
   ]
  },
  {
   "cell_type": "code",
   "execution_count": 58,
   "metadata": {},
   "outputs": [
    {
     "data": {
      "text/plain": [
       "a     True\n",
       "b    False\n",
       "c     True\n",
       "dtype: bool"
      ]
     },
     "execution_count": 58,
     "metadata": {},
     "output_type": "execute_result"
    }
   ],
   "source": [
    "# 使用大於等於運算子\">=\"比較s1和s2中對應索引的元素，判斷s1是否大於或等於s2，並傳回一個布林值的Series\n",
    "s1 >= s2"
   ]
  },
  {
   "cell_type": "code",
   "execution_count": 59,
   "metadata": {},
   "outputs": [
    {
     "data": {
      "text/plain": [
       "a    True\n",
       "b    True\n",
       "c    True\n",
       "dtype: bool"
      ]
     },
     "execution_count": 59,
     "metadata": {},
     "output_type": "execute_result"
    }
   ],
   "source": [
    "# 使用s1.ne()方法，比較s1和s2中對應索引的元素，判斷s1是否不等於s2，並傳回一個布林值的Series\n",
    "s1.ne(s2)"
   ]
  },
  {
   "cell_type": "code",
   "execution_count": 60,
   "metadata": {},
   "outputs": [
    {
     "data": {
      "text/plain": [
       "a    True\n",
       "b    True\n",
       "c    True\n",
       "dtype: bool"
      ]
     },
     "execution_count": 60,
     "metadata": {},
     "output_type": "execute_result"
    }
   ],
   "source": [
    "# 使用不等於運算子\"!=\"比較s1和s2中對應索引的元素，判斷s1是否不等於s2，並傳回一個布林值的Series\n",
    "s1 != s2"
   ]
  },
  {
   "cell_type": "code",
   "execution_count": 61,
   "metadata": {},
   "outputs": [
    {
     "data": {
      "text/plain": [
       "a    False\n",
       "b    False\n",
       "c    False\n",
       "dtype: bool"
      ]
     },
     "execution_count": 61,
     "metadata": {},
     "output_type": "execute_result"
    }
   ],
   "source": [
    "# 使用s1.eq()方法，比較s1和s2中對應索引的元素，判斷s1是否等於s2，並傳回一個布林值的Series\n",
    "s1.eq(s2)"
   ]
  },
  {
   "cell_type": "code",
   "execution_count": 62,
   "metadata": {},
   "outputs": [
    {
     "data": {
      "text/plain": [
       "a    False\n",
       "b    False\n",
       "c    False\n",
       "dtype: bool"
      ]
     },
     "execution_count": 62,
     "metadata": {},
     "output_type": "execute_result"
    }
   ],
   "source": [
    "# 使用等於運算子\"==\"比較s1和s2中對應索引的元素，判斷s1是否等於s2，並傳回一個布林值的Series\n",
    "s1 == s2"
   ]
  },
  {
   "cell_type": "code",
   "execution_count": 63,
   "metadata": {},
   "outputs": [
    {
     "data": {
      "text/plain": [
       "a    2.449490\n",
       "b    1.414214\n",
       "c    2.000000\n",
       "dtype: float64"
      ]
     },
     "execution_count": 63,
     "metadata": {},
     "output_type": "execute_result"
    }
   ],
   "source": [
    "# 使用np.sqrt()函式對Series s1中的每個元素進行平方根運算，並傳回一個新的Series結果\n",
    "np.sqrt(s1)"
   ]
  },
  {
   "cell_type": "code",
   "execution_count": 64,
   "metadata": {},
   "outputs": [
    {
     "data": {
      "text/plain": [
       "a    7.0\n",
       "b    NaN\n",
       "c    NaN\n",
       "dtype: float64"
      ]
     },
     "execution_count": 64,
     "metadata": {},
     "output_type": "execute_result"
    }
   ],
   "source": [
    "# 使用pd.Series()函式建立一個Series s3，資料為[6, 2, NaN]，索引為['a', 'b', 'c']\n",
    "s3 = pd.Series([6, 2, np.nan], index = ['a', 'b', 'c'])\n",
    "\n",
    "# 使用pd.Series()函式建立一個Series s4，資料為[1, NaN, 3]，索引為['a', 'b', 'c']\n",
    "s4 = pd.Series([1, np.nan, 3], index = ['a', 'b', 'c'])\n",
    "\n",
    "# 使用add()方法對s3與s4對應索引的元素進行相加，並傳回一個新的Series\n",
    "# 若某個索引在s3或s4中的值為NaN，則加總結果為NaN\n",
    "\n",
    "s3.add(s4)"
   ]
  },
  {
   "cell_type": "code",
   "execution_count": 65,
   "metadata": {},
   "outputs": [
    {
     "data": {
      "text/plain": [
       "a    7.0\n",
       "b    NaN\n",
       "c    NaN\n",
       "dtype: float64"
      ]
     },
     "execution_count": 65,
     "metadata": {},
     "output_type": "execute_result"
    }
   ],
   "source": [
    "# 使用加法運算子\"+\"對s3與s4對應索引的元素進行相加，並傳回一個新的Series\n",
    "# 若某個索引在s3或s4中的值為NaN，則加總結果為NaN\n",
    "\n",
    "s3 + s4"
   ]
  },
  {
   "cell_type": "code",
   "execution_count": 66,
   "metadata": {},
   "outputs": [
    {
     "data": {
      "text/plain": [
       "a    7.0\n",
       "b    2.0\n",
       "c    3.0\n",
       "dtype: float64"
      ]
     },
     "execution_count": 66,
     "metadata": {},
     "output_type": "execute_result"
    }
   ],
   "source": [
    "# 使用add()方法對s3與s4對應索引的元素進行相加，並傳回一個新的Series\n",
    "# 透過參數fill_value = 0，將NaN視為0來進行加法運算，避免結果出現NaN\n",
    "\n",
    "s3.add(s4, fill_value = 0)"
   ]
  },
  {
   "cell_type": "code",
   "execution_count": 67,
   "metadata": {},
   "outputs": [
    {
     "data": {
      "text/html": [
       "<div>\n",
       "<style scoped>\n",
       "    .dataframe tbody tr th:only-of-type {\n",
       "        vertical-align: middle;\n",
       "    }\n",
       "\n",
       "    .dataframe tbody tr th {\n",
       "        vertical-align: top;\n",
       "    }\n",
       "\n",
       "    .dataframe thead th {\n",
       "        text-align: right;\n",
       "    }\n",
       "</style>\n",
       "<table border=\"1\" class=\"dataframe\">\n",
       "  <thead>\n",
       "    <tr style=\"text-align: right;\">\n",
       "      <th></th>\n",
       "      <th>a</th>\n",
       "      <th>b</th>\n",
       "      <th>c</th>\n",
       "    </tr>\n",
       "  </thead>\n",
       "  <tbody>\n",
       "    <tr>\n",
       "      <th>x</th>\n",
       "      <td>1.0</td>\n",
       "      <td>NaN</td>\n",
       "      <td>5</td>\n",
       "    </tr>\n",
       "    <tr>\n",
       "      <th>y</th>\n",
       "      <td>NaN</td>\n",
       "      <td>NaN</td>\n",
       "      <td>6</td>\n",
       "    </tr>\n",
       "    <tr>\n",
       "      <th>z</th>\n",
       "      <td>2.0</td>\n",
       "      <td>5.0</td>\n",
       "      <td>7</td>\n",
       "    </tr>\n",
       "  </tbody>\n",
       "</table>\n",
       "</div>"
      ],
      "text/plain": [
       "     a    b  c\n",
       "x  1.0  NaN  5\n",
       "y  NaN  NaN  6\n",
       "z  2.0  5.0  7"
      ]
     },
     "execution_count": 67,
     "metadata": {},
     "output_type": "execute_result"
    }
   ],
   "source": [
    "# 使用pd.DataFrame()函式將列表轉換為DataFrame，並自訂列索引為['x', 'y', 'z']，欄位名稱為['a', 'b', 'c']\n",
    "# np.nan表示缺失值(NaN, Not a Number)，是numpy中用來表示缺失值的標準符號，常見於資料不完整的情況\n",
    "\n",
    "df = pd.DataFrame([[1, np.nan, 5], [np.nan, np.nan, 6], [2, 5, 7]], index = ['x', 'y', 'z'], columns = ['a', 'b', 'c'])\n",
    "\n",
    "# 輸出df的內容\n",
    "df"
   ]
  },
  {
   "cell_type": "code",
   "execution_count": 68,
   "metadata": {},
   "outputs": [
    {
     "data": {
      "text/html": [
       "<div>\n",
       "<style scoped>\n",
       "    .dataframe tbody tr th:only-of-type {\n",
       "        vertical-align: middle;\n",
       "    }\n",
       "\n",
       "    .dataframe tbody tr th {\n",
       "        vertical-align: top;\n",
       "    }\n",
       "\n",
       "    .dataframe thead th {\n",
       "        text-align: right;\n",
       "    }\n",
       "</style>\n",
       "<table border=\"1\" class=\"dataframe\">\n",
       "  <thead>\n",
       "    <tr style=\"text-align: right;\">\n",
       "      <th></th>\n",
       "      <th>a</th>\n",
       "      <th>b</th>\n",
       "      <th>c</th>\n",
       "    </tr>\n",
       "  </thead>\n",
       "  <tbody>\n",
       "    <tr>\n",
       "      <th>x</th>\n",
       "      <td>False</td>\n",
       "      <td>True</td>\n",
       "      <td>False</td>\n",
       "    </tr>\n",
       "    <tr>\n",
       "      <th>y</th>\n",
       "      <td>True</td>\n",
       "      <td>True</td>\n",
       "      <td>False</td>\n",
       "    </tr>\n",
       "    <tr>\n",
       "      <th>z</th>\n",
       "      <td>False</td>\n",
       "      <td>False</td>\n",
       "      <td>False</td>\n",
       "    </tr>\n",
       "  </tbody>\n",
       "</table>\n",
       "</div>"
      ],
      "text/plain": [
       "       a      b      c\n",
       "x  False   True  False\n",
       "y   True   True  False\n",
       "z  False  False  False"
      ]
     },
     "execution_count": 68,
     "metadata": {},
     "output_type": "execute_result"
    }
   ],
   "source": [
    "# 使用df.isna()方法檢查DataFrame中的缺失值位置，缺失值(NaN)會顯示為True，其餘為False\n",
    "df.isna()"
   ]
  },
  {
   "cell_type": "code",
   "execution_count": 69,
   "metadata": {},
   "outputs": [
    {
     "data": {
      "text/html": [
       "<div>\n",
       "<style scoped>\n",
       "    .dataframe tbody tr th:only-of-type {\n",
       "        vertical-align: middle;\n",
       "    }\n",
       "\n",
       "    .dataframe tbody tr th {\n",
       "        vertical-align: top;\n",
       "    }\n",
       "\n",
       "    .dataframe thead th {\n",
       "        text-align: right;\n",
       "    }\n",
       "</style>\n",
       "<table border=\"1\" class=\"dataframe\">\n",
       "  <thead>\n",
       "    <tr style=\"text-align: right;\">\n",
       "      <th></th>\n",
       "      <th>a</th>\n",
       "      <th>b</th>\n",
       "      <th>c</th>\n",
       "    </tr>\n",
       "  </thead>\n",
       "  <tbody>\n",
       "    <tr>\n",
       "      <th>x</th>\n",
       "      <td>False</td>\n",
       "      <td>True</td>\n",
       "      <td>False</td>\n",
       "    </tr>\n",
       "    <tr>\n",
       "      <th>y</th>\n",
       "      <td>True</td>\n",
       "      <td>True</td>\n",
       "      <td>False</td>\n",
       "    </tr>\n",
       "    <tr>\n",
       "      <th>z</th>\n",
       "      <td>False</td>\n",
       "      <td>False</td>\n",
       "      <td>False</td>\n",
       "    </tr>\n",
       "  </tbody>\n",
       "</table>\n",
       "</div>"
      ],
      "text/plain": [
       "       a      b      c\n",
       "x  False   True  False\n",
       "y   True   True  False\n",
       "z  False  False  False"
      ]
     },
     "execution_count": 69,
     "metadata": {},
     "output_type": "execute_result"
    }
   ],
   "source": [
    "# 使用df.isnull()方法檢查DataFrame中的缺失值位置，缺失值(NaN)會顯示為True，其餘為False\n",
    "df.isnull()"
   ]
  },
  {
   "cell_type": "code",
   "execution_count": 70,
   "metadata": {},
   "outputs": [
    {
     "data": {
      "text/html": [
       "<div>\n",
       "<style scoped>\n",
       "    .dataframe tbody tr th:only-of-type {\n",
       "        vertical-align: middle;\n",
       "    }\n",
       "\n",
       "    .dataframe tbody tr th {\n",
       "        vertical-align: top;\n",
       "    }\n",
       "\n",
       "    .dataframe thead th {\n",
       "        text-align: right;\n",
       "    }\n",
       "</style>\n",
       "<table border=\"1\" class=\"dataframe\">\n",
       "  <thead>\n",
       "    <tr style=\"text-align: right;\">\n",
       "      <th></th>\n",
       "      <th>a</th>\n",
       "      <th>b</th>\n",
       "      <th>c</th>\n",
       "    </tr>\n",
       "  </thead>\n",
       "  <tbody>\n",
       "    <tr>\n",
       "      <th>x</th>\n",
       "      <td>True</td>\n",
       "      <td>False</td>\n",
       "      <td>True</td>\n",
       "    </tr>\n",
       "    <tr>\n",
       "      <th>y</th>\n",
       "      <td>False</td>\n",
       "      <td>False</td>\n",
       "      <td>True</td>\n",
       "    </tr>\n",
       "    <tr>\n",
       "      <th>z</th>\n",
       "      <td>True</td>\n",
       "      <td>True</td>\n",
       "      <td>True</td>\n",
       "    </tr>\n",
       "  </tbody>\n",
       "</table>\n",
       "</div>"
      ],
      "text/plain": [
       "       a      b     c\n",
       "x   True  False  True\n",
       "y  False  False  True\n",
       "z   True   True  True"
      ]
     },
     "execution_count": 70,
     "metadata": {},
     "output_type": "execute_result"
    }
   ],
   "source": [
    "# 使用df.notna()方法檢查DataFrame中的非缺失值位置，非缺失值會顯示為True，其餘為False\n",
    "df.notna()"
   ]
  },
  {
   "cell_type": "code",
   "execution_count": 71,
   "metadata": {},
   "outputs": [
    {
     "data": {
      "text/html": [
       "<div>\n",
       "<style scoped>\n",
       "    .dataframe tbody tr th:only-of-type {\n",
       "        vertical-align: middle;\n",
       "    }\n",
       "\n",
       "    .dataframe tbody tr th {\n",
       "        vertical-align: top;\n",
       "    }\n",
       "\n",
       "    .dataframe thead th {\n",
       "        text-align: right;\n",
       "    }\n",
       "</style>\n",
       "<table border=\"1\" class=\"dataframe\">\n",
       "  <thead>\n",
       "    <tr style=\"text-align: right;\">\n",
       "      <th></th>\n",
       "      <th>a</th>\n",
       "      <th>b</th>\n",
       "      <th>c</th>\n",
       "    </tr>\n",
       "  </thead>\n",
       "  <tbody>\n",
       "    <tr>\n",
       "      <th>x</th>\n",
       "      <td>True</td>\n",
       "      <td>False</td>\n",
       "      <td>True</td>\n",
       "    </tr>\n",
       "    <tr>\n",
       "      <th>y</th>\n",
       "      <td>False</td>\n",
       "      <td>False</td>\n",
       "      <td>True</td>\n",
       "    </tr>\n",
       "    <tr>\n",
       "      <th>z</th>\n",
       "      <td>True</td>\n",
       "      <td>True</td>\n",
       "      <td>True</td>\n",
       "    </tr>\n",
       "  </tbody>\n",
       "</table>\n",
       "</div>"
      ],
      "text/plain": [
       "       a      b     c\n",
       "x   True  False  True\n",
       "y  False  False  True\n",
       "z   True   True  True"
      ]
     },
     "execution_count": 71,
     "metadata": {},
     "output_type": "execute_result"
    }
   ],
   "source": [
    "# 使用df.notnull()方法檢查DataFrame中的非缺失值位置，非缺失值會顯示為True，其餘為False\n",
    "df.notnull()"
   ]
  },
  {
   "cell_type": "code",
   "execution_count": 72,
   "metadata": {},
   "outputs": [
    {
     "data": {
      "text/html": [
       "<div>\n",
       "<style scoped>\n",
       "    .dataframe tbody tr th:only-of-type {\n",
       "        vertical-align: middle;\n",
       "    }\n",
       "\n",
       "    .dataframe tbody tr th {\n",
       "        vertical-align: top;\n",
       "    }\n",
       "\n",
       "    .dataframe thead th {\n",
       "        text-align: right;\n",
       "    }\n",
       "</style>\n",
       "<table border=\"1\" class=\"dataframe\">\n",
       "  <thead>\n",
       "    <tr style=\"text-align: right;\">\n",
       "      <th></th>\n",
       "      <th>a</th>\n",
       "      <th>b</th>\n",
       "      <th>c</th>\n",
       "    </tr>\n",
       "  </thead>\n",
       "  <tbody>\n",
       "    <tr>\n",
       "      <th>x</th>\n",
       "      <td>1.0</td>\n",
       "      <td>0.0</td>\n",
       "      <td>5</td>\n",
       "    </tr>\n",
       "    <tr>\n",
       "      <th>y</th>\n",
       "      <td>0.0</td>\n",
       "      <td>0.0</td>\n",
       "      <td>6</td>\n",
       "    </tr>\n",
       "    <tr>\n",
       "      <th>z</th>\n",
       "      <td>2.0</td>\n",
       "      <td>5.0</td>\n",
       "      <td>7</td>\n",
       "    </tr>\n",
       "  </tbody>\n",
       "</table>\n",
       "</div>"
      ],
      "text/plain": [
       "     a    b  c\n",
       "x  1.0  0.0  5\n",
       "y  0.0  0.0  6\n",
       "z  2.0  5.0  7"
      ]
     },
     "execution_count": 72,
     "metadata": {},
     "output_type": "execute_result"
    }
   ],
   "source": [
    "# 使用df.fillna(0)方法將DataFrame中的缺失值填補為0，並傳回一個新的DataFrame\n",
    "df.fillna(0)"
   ]
  },
  {
   "cell_type": "code",
   "execution_count": 73,
   "metadata": {},
   "outputs": [
    {
     "data": {
      "text/html": [
       "<div>\n",
       "<style scoped>\n",
       "    .dataframe tbody tr th:only-of-type {\n",
       "        vertical-align: middle;\n",
       "    }\n",
       "\n",
       "    .dataframe tbody tr th {\n",
       "        vertical-align: top;\n",
       "    }\n",
       "\n",
       "    .dataframe thead th {\n",
       "        text-align: right;\n",
       "    }\n",
       "</style>\n",
       "<table border=\"1\" class=\"dataframe\">\n",
       "  <thead>\n",
       "    <tr style=\"text-align: right;\">\n",
       "      <th></th>\n",
       "      <th>a</th>\n",
       "      <th>b</th>\n",
       "      <th>c</th>\n",
       "    </tr>\n",
       "  </thead>\n",
       "  <tbody>\n",
       "    <tr>\n",
       "      <th>z</th>\n",
       "      <td>2.0</td>\n",
       "      <td>5.0</td>\n",
       "      <td>7</td>\n",
       "    </tr>\n",
       "  </tbody>\n",
       "</table>\n",
       "</div>"
      ],
      "text/plain": [
       "     a    b  c\n",
       "z  2.0  5.0  7"
      ]
     },
     "execution_count": 73,
     "metadata": {},
     "output_type": "execute_result"
    }
   ],
   "source": [
    "# 使用df.dropna()方法刪除含有缺失值的列，並傳回一個新的DataFrame\n",
    "df.dropna()"
   ]
  },
  {
   "cell_type": "code",
   "execution_count": 74,
   "metadata": {},
   "outputs": [
    {
     "data": {
      "text/html": [
       "<div>\n",
       "<style scoped>\n",
       "    .dataframe tbody tr th:only-of-type {\n",
       "        vertical-align: middle;\n",
       "    }\n",
       "\n",
       "    .dataframe tbody tr th {\n",
       "        vertical-align: top;\n",
       "    }\n",
       "\n",
       "    .dataframe thead th {\n",
       "        text-align: right;\n",
       "    }\n",
       "</style>\n",
       "<table border=\"1\" class=\"dataframe\">\n",
       "  <thead>\n",
       "    <tr style=\"text-align: right;\">\n",
       "      <th></th>\n",
       "      <th>c</th>\n",
       "    </tr>\n",
       "  </thead>\n",
       "  <tbody>\n",
       "    <tr>\n",
       "      <th>x</th>\n",
       "      <td>5</td>\n",
       "    </tr>\n",
       "    <tr>\n",
       "      <th>y</th>\n",
       "      <td>6</td>\n",
       "    </tr>\n",
       "    <tr>\n",
       "      <th>z</th>\n",
       "      <td>7</td>\n",
       "    </tr>\n",
       "  </tbody>\n",
       "</table>\n",
       "</div>"
      ],
      "text/plain": [
       "   c\n",
       "x  5\n",
       "y  6\n",
       "z  7"
      ]
     },
     "execution_count": 74,
     "metadata": {},
     "output_type": "execute_result"
    }
   ],
   "source": [
    "# 使用df.dropna()方法刪除含有缺失值的欄(columns)，並傳回一個新的DataFrame\n",
    "df.dropna(axis = \"columns\")"
   ]
  },
  {
   "cell_type": "code",
   "execution_count": 75,
   "metadata": {},
   "outputs": [
    {
     "data": {
      "text/html": [
       "<div>\n",
       "<style scoped>\n",
       "    .dataframe tbody tr th:only-of-type {\n",
       "        vertical-align: middle;\n",
       "    }\n",
       "\n",
       "    .dataframe tbody tr th {\n",
       "        vertical-align: top;\n",
       "    }\n",
       "\n",
       "    .dataframe thead th {\n",
       "        text-align: right;\n",
       "    }\n",
       "</style>\n",
       "<table border=\"1\" class=\"dataframe\">\n",
       "  <thead>\n",
       "    <tr style=\"text-align: right;\">\n",
       "      <th></th>\n",
       "      <th>a</th>\n",
       "      <th>b</th>\n",
       "      <th>c</th>\n",
       "    </tr>\n",
       "  </thead>\n",
       "  <tbody>\n",
       "    <tr>\n",
       "      <th>x</th>\n",
       "      <td>1.0</td>\n",
       "      <td>NaN</td>\n",
       "      <td>5</td>\n",
       "    </tr>\n",
       "    <tr>\n",
       "      <th>z</th>\n",
       "      <td>2.0</td>\n",
       "      <td>5.0</td>\n",
       "      <td>7</td>\n",
       "    </tr>\n",
       "  </tbody>\n",
       "</table>\n",
       "</div>"
      ],
      "text/plain": [
       "     a    b  c\n",
       "x  1.0  NaN  5\n",
       "z  2.0  5.0  7"
      ]
     },
     "execution_count": 75,
     "metadata": {},
     "output_type": "execute_result"
    }
   ],
   "source": [
    "# 使用df.dropna()方法刪除在欄位'a'或'c'中含有缺失值的列，並傳回一個新的DataFrame\n",
    "df.dropna(subset = ['a', 'c'])"
   ]
  },
  {
   "cell_type": "code",
   "execution_count": 76,
   "metadata": {},
   "outputs": [
    {
     "data": {
      "text/html": [
       "<div>\n",
       "<style scoped>\n",
       "    .dataframe tbody tr th:only-of-type {\n",
       "        vertical-align: middle;\n",
       "    }\n",
       "\n",
       "    .dataframe tbody tr th {\n",
       "        vertical-align: top;\n",
       "    }\n",
       "\n",
       "    .dataframe thead th {\n",
       "        text-align: right;\n",
       "    }\n",
       "</style>\n",
       "<table border=\"1\" class=\"dataframe\">\n",
       "  <thead>\n",
       "    <tr style=\"text-align: right;\">\n",
       "      <th></th>\n",
       "      <th>a</th>\n",
       "      <th>b</th>\n",
       "      <th>c</th>\n",
       "    </tr>\n",
       "  </thead>\n",
       "  <tbody>\n",
       "    <tr>\n",
       "      <th>x</th>\n",
       "      <td>1.0</td>\n",
       "      <td>NaN</td>\n",
       "      <td>5</td>\n",
       "    </tr>\n",
       "    <tr>\n",
       "      <th>z</th>\n",
       "      <td>2.0</td>\n",
       "      <td>5.0</td>\n",
       "      <td>7</td>\n",
       "    </tr>\n",
       "  </tbody>\n",
       "</table>\n",
       "</div>"
      ],
      "text/plain": [
       "     a    b  c\n",
       "x  1.0  NaN  5\n",
       "z  2.0  5.0  7"
      ]
     },
     "execution_count": 76,
     "metadata": {},
     "output_type": "execute_result"
    }
   ],
   "source": [
    "# 使用df.dropna()方法保留至少有2個非缺失值的列，刪除其他列，並傳回一個新的DataFrame\n",
    "df.dropna(thresh = 2)"
   ]
  },
  {
   "cell_type": "code",
   "execution_count": 77,
   "metadata": {},
   "outputs": [
    {
     "data": {
      "text/html": [
       "<div>\n",
       "<style scoped>\n",
       "    .dataframe tbody tr th:only-of-type {\n",
       "        vertical-align: middle;\n",
       "    }\n",
       "\n",
       "    .dataframe tbody tr th {\n",
       "        vertical-align: top;\n",
       "    }\n",
       "\n",
       "    .dataframe thead th {\n",
       "        text-align: right;\n",
       "    }\n",
       "</style>\n",
       "<table border=\"1\" class=\"dataframe\">\n",
       "  <thead>\n",
       "    <tr style=\"text-align: right;\">\n",
       "      <th></th>\n",
       "      <th>主修</th>\n",
       "      <th>副修</th>\n",
       "      <th>視唱</th>\n",
       "      <th>樂理</th>\n",
       "      <th>聽寫</th>\n",
       "    </tr>\n",
       "  </thead>\n",
       "  <tbody>\n",
       "    <tr>\n",
       "      <th>學生1</th>\n",
       "      <td>80</td>\n",
       "      <td>75</td>\n",
       "      <td>88</td>\n",
       "      <td>80</td>\n",
       "      <td>78</td>\n",
       "    </tr>\n",
       "    <tr>\n",
       "      <th>學生2</th>\n",
       "      <td>88</td>\n",
       "      <td>86</td>\n",
       "      <td>90</td>\n",
       "      <td>95</td>\n",
       "      <td>86</td>\n",
       "    </tr>\n",
       "    <tr>\n",
       "      <th>學生3</th>\n",
       "      <td>92</td>\n",
       "      <td>85</td>\n",
       "      <td>92</td>\n",
       "      <td>98</td>\n",
       "      <td>90</td>\n",
       "    </tr>\n",
       "    <tr>\n",
       "      <th>學生4</th>\n",
       "      <td>81</td>\n",
       "      <td>88</td>\n",
       "      <td>80</td>\n",
       "      <td>82</td>\n",
       "      <td>85</td>\n",
       "    </tr>\n",
       "    <tr>\n",
       "      <th>學生5</th>\n",
       "      <td>75</td>\n",
       "      <td>80</td>\n",
       "      <td>78</td>\n",
       "      <td>80</td>\n",
       "      <td>70</td>\n",
       "    </tr>\n",
       "  </tbody>\n",
       "</table>\n",
       "</div>"
      ],
      "text/plain": [
       "     主修  副修  視唱  樂理  聽寫\n",
       "學生1  80  75  88  80  78\n",
       "學生2  88  86  90  95  86\n",
       "學生3  92  85  92  98  90\n",
       "學生4  81  88  80  82  85\n",
       "學生5  75  80  78  80  70"
      ]
     },
     "execution_count": 77,
     "metadata": {},
     "output_type": "execute_result"
    }
   ],
   "source": [
    "# 使用np.array()函式建立一個5x5的NumPy二維陣列scores，包含二十五個整數元素(5位學生的五科成績)\n",
    "# 使用pd.DataFrame()函式將scores陣列轉換為DataFrame，並自訂列索引為學生1~學生5，欄位名稱為各科成績\n",
    "\n",
    "scores = pd.DataFrame(np.array([[80, 75, 88, 80, 78], [88, 86, 90, 95, 86], [92, 85, 92, 98, 90],\n",
    "                                [81, 88, 80, 82, 85], [75, 80, 78, 80, 70]]),\n",
    "                                index = [\"學生1\", \"學生2\", \"學生3\", \"學生4\", \"學生5\"],\n",
    "                                columns = [\"主修\", \"副修\", \"視唱\", \"樂理\", \"聽寫\"])\n",
    "\n",
    "# 輸出scores的內容\n",
    "scores"
   ]
  },
  {
   "cell_type": "code",
   "execution_count": 78,
   "metadata": {},
   "outputs": [
    {
     "data": {
      "text/plain": [
       "學生1    80.2\n",
       "學生2    89.0\n",
       "學生3    91.4\n",
       "學生4    83.2\n",
       "學生5    76.6\n",
       "dtype: float64"
      ]
     },
     "execution_count": 78,
     "metadata": {},
     "output_type": "execute_result"
    }
   ],
   "source": [
    "# 使用scores.mean()方法計算每位學生的平均成績\n",
    "# axis = 1：表示對每列(每位學生)的多筆成績做平均，屬於橫向計算(跨欄計算)\n",
    "\n",
    "scores.mean(axis = 1)"
   ]
  },
  {
   "cell_type": "code",
   "execution_count": 79,
   "metadata": {},
   "outputs": [
    {
     "data": {
      "text/plain": [
       "學生1    80.0\n",
       "學生2    88.0\n",
       "學生3    92.0\n",
       "學生4    82.0\n",
       "學生5    78.0\n",
       "dtype: float64"
      ]
     },
     "execution_count": 79,
     "metadata": {},
     "output_type": "execute_result"
    }
   ],
   "source": [
    "# 使用scores.median()方法計算每位學生的中位數成績\n",
    "# axis = 1：表示對每列(每位學生)的多筆成績進行橫向計算(跨欄計算)\n",
    "\n",
    "scores.median(axis = 1)"
   ]
  },
  {
   "cell_type": "code",
   "execution_count": 80,
   "metadata": {},
   "outputs": [
    {
     "data": {
      "text/plain": [
       "主修    83.2\n",
       "副修    82.8\n",
       "視唱    85.6\n",
       "樂理    87.0\n",
       "聽寫    81.8\n",
       "dtype: float64"
      ]
     },
     "execution_count": 80,
     "metadata": {},
     "output_type": "execute_result"
    }
   ],
   "source": [
    "# 使用scores.mean()方法計算每一科的平均成績\n",
    "# axis = 0：表示對每一欄(每一科)的多筆成績做平均，屬於直向計算(跨列計算)\n",
    "\n",
    "scores.mean(axis = 0)"
   ]
  },
  {
   "cell_type": "code",
   "execution_count": 81,
   "metadata": {},
   "outputs": [
    {
     "data": {
      "text/plain": [
       "主修    81.0\n",
       "副修    85.0\n",
       "視唱    88.0\n",
       "樂理    82.0\n",
       "聽寫    85.0\n",
       "dtype: float64"
      ]
     },
     "execution_count": 81,
     "metadata": {},
     "output_type": "execute_result"
    }
   ],
   "source": [
    "# 使用scores.median()方法計算每位學生的中位數成績\n",
    "# axis = 0：表示對每一欄(每一科)的多筆成績進行直向運算(跨列計算)\n",
    "\n",
    "scores.median(axis = 0)"
   ]
  },
  {
   "cell_type": "code",
   "execution_count": 82,
   "metadata": {},
   "outputs": [
    {
     "data": {
      "text/html": [
       "<div>\n",
       "<style scoped>\n",
       "    .dataframe tbody tr th:only-of-type {\n",
       "        vertical-align: middle;\n",
       "    }\n",
       "\n",
       "    .dataframe tbody tr th {\n",
       "        vertical-align: top;\n",
       "    }\n",
       "\n",
       "    .dataframe thead th {\n",
       "        text-align: right;\n",
       "    }\n",
       "</style>\n",
       "<table border=\"1\" class=\"dataframe\">\n",
       "  <thead>\n",
       "    <tr style=\"text-align: right;\">\n",
       "      <th></th>\n",
       "      <th>0</th>\n",
       "      <th>1</th>\n",
       "      <th>2</th>\n",
       "    </tr>\n",
       "  </thead>\n",
       "  <tbody>\n",
       "    <tr>\n",
       "      <th>0</th>\n",
       "      <td>15</td>\n",
       "      <td>160</td>\n",
       "      <td>48</td>\n",
       "    </tr>\n",
       "    <tr>\n",
       "      <th>1</th>\n",
       "      <td>14</td>\n",
       "      <td>175</td>\n",
       "      <td>66</td>\n",
       "    </tr>\n",
       "    <tr>\n",
       "      <th>2</th>\n",
       "      <td>15</td>\n",
       "      <td>153</td>\n",
       "      <td>50</td>\n",
       "    </tr>\n",
       "    <tr>\n",
       "      <th>3</th>\n",
       "      <td>15</td>\n",
       "      <td>162</td>\n",
       "      <td>44</td>\n",
       "    </tr>\n",
       "  </tbody>\n",
       "</table>\n",
       "</div>"
      ],
      "text/plain": [
       "    0    1   2\n",
       "0  15  160  48\n",
       "1  14  175  66\n",
       "2  15  153  50\n",
       "3  15  162  44"
      ]
     },
     "execution_count": 82,
     "metadata": {},
     "output_type": "execute_result"
    }
   ],
   "source": [
    "# 使用np.array()函式建立一個4x3的NumPy二維陣列df，包含十二個整數元素\n",
    "# 使用pd.DataFrame()函式將該陣列轉換為DataFrame\n",
    "\n",
    "df = pd.DataFrame(np.array([[15, 160, 48], [14, 175, 66], [15, 153, 50], [15, 162, 44]]))\n",
    "\n",
    "# 輸出df的內容\n",
    "df"
   ]
  },
  {
   "cell_type": "code",
   "execution_count": 83,
   "metadata": {},
   "outputs": [],
   "source": [
    "# 使用df.to_csv()方法將DataFrame df輸出為CSV檔案，儲存路徑為指定的資料夾\n",
    "# header = 0：表示不輸出欄位名稱(因為0是布林值False的替代用法，效果等同header = False)\n",
    "# index = 0：表示不輸出列索引(效果等同index = False)\n",
    "\n",
    "df.to_csv(\"E:\\\\Python\\\\Python1-基礎Python開發實務\\\\df.csv\", header = 0, index = 0)"
   ]
  },
  {
   "cell_type": "code",
   "execution_count": 84,
   "metadata": {},
   "outputs": [
    {
     "data": {
      "text/html": [
       "<div>\n",
       "<style scoped>\n",
       "    .dataframe tbody tr th:only-of-type {\n",
       "        vertical-align: middle;\n",
       "    }\n",
       "\n",
       "    .dataframe tbody tr th {\n",
       "        vertical-align: top;\n",
       "    }\n",
       "\n",
       "    .dataframe thead th {\n",
       "        text-align: right;\n",
       "    }\n",
       "</style>\n",
       "<table border=\"1\" class=\"dataframe\">\n",
       "  <thead>\n",
       "    <tr style=\"text-align: right;\">\n",
       "      <th></th>\n",
       "      <th>年齡</th>\n",
       "      <th>身高</th>\n",
       "      <th>體重</th>\n",
       "    </tr>\n",
       "  </thead>\n",
       "  <tbody>\n",
       "    <tr>\n",
       "      <th>0</th>\n",
       "      <td>15</td>\n",
       "      <td>160</td>\n",
       "      <td>48</td>\n",
       "    </tr>\n",
       "    <tr>\n",
       "      <th>1</th>\n",
       "      <td>14</td>\n",
       "      <td>175</td>\n",
       "      <td>66</td>\n",
       "    </tr>\n",
       "    <tr>\n",
       "      <th>2</th>\n",
       "      <td>15</td>\n",
       "      <td>153</td>\n",
       "      <td>50</td>\n",
       "    </tr>\n",
       "    <tr>\n",
       "      <th>3</th>\n",
       "      <td>15</td>\n",
       "      <td>162</td>\n",
       "      <td>44</td>\n",
       "    </tr>\n",
       "  </tbody>\n",
       "</table>\n",
       "</div>"
      ],
      "text/plain": [
       "   年齡   身高  體重\n",
       "0  15  160  48\n",
       "1  14  175  66\n",
       "2  15  153  50\n",
       "3  15  162  44"
      ]
     },
     "execution_count": 84,
     "metadata": {},
     "output_type": "execute_result"
    }
   ],
   "source": [
    "# 使用pd.read_csv()方法讀取指定路徑的CSV檔案，並轉換成DataFrame\n",
    "# names參數用來指定讀入DataFrame的欄位名稱(當CSV檔案沒有header，或想自訂欄名時使用)\n",
    "# 這裡將欄位命名為[\"年齡\", \"身高\", \"體重\"]\n",
    "\n",
    "pd.read_csv(\"E:\\\\Python\\\\Python1-基礎Python開發實務\\\\df.csv\", names = [\"年齡\", \"身高\", \"體重\"])"
   ]
  },
  {
   "cell_type": "code",
   "execution_count": 85,
   "metadata": {},
   "outputs": [
    {
     "data": {
      "text/html": [
       "<div>\n",
       "<style scoped>\n",
       "    .dataframe tbody tr th:only-of-type {\n",
       "        vertical-align: middle;\n",
       "    }\n",
       "\n",
       "    .dataframe tbody tr th {\n",
       "        vertical-align: top;\n",
       "    }\n",
       "\n",
       "    .dataframe thead th {\n",
       "        text-align: right;\n",
       "    }\n",
       "</style>\n",
       "<table border=\"1\" class=\"dataframe\">\n",
       "  <thead>\n",
       "    <tr style=\"text-align: right;\">\n",
       "      <th></th>\n",
       "      <th>年齡</th>\n",
       "      <th>身高</th>\n",
       "      <th>體重</th>\n",
       "    </tr>\n",
       "  </thead>\n",
       "  <tbody>\n",
       "    <tr>\n",
       "      <th>0</th>\n",
       "      <td>15</td>\n",
       "      <td>160</td>\n",
       "      <td>48</td>\n",
       "    </tr>\n",
       "    <tr>\n",
       "      <th>1</th>\n",
       "      <td>14</td>\n",
       "      <td>175</td>\n",
       "      <td>66</td>\n",
       "    </tr>\n",
       "  </tbody>\n",
       "</table>\n",
       "</div>"
      ],
      "text/plain": [
       "   年齡   身高  體重\n",
       "0  15  160  48\n",
       "1  14  175  66"
      ]
     },
     "execution_count": 85,
     "metadata": {},
     "output_type": "execute_result"
    }
   ],
   "source": [
    "# 使用pd.read_csv()方法讀取指定路徑的CSV檔案，並轉換成DataFrame\n",
    "# nrows參數用來只讀取CSV檔案的前2筆資料\n",
    "\n",
    "pd.read_csv(\"E:\\\\Python\\\\Python1-基礎Python開發實務\\\\df.csv\", names = [\"年齡\", \"身高\", \"體重\"], nrows = 2)"
   ]
  },
  {
   "cell_type": "code",
   "execution_count": 86,
   "metadata": {},
   "outputs": [
    {
     "data": {
      "text/html": [
       "<div>\n",
       "<style scoped>\n",
       "    .dataframe tbody tr th:only-of-type {\n",
       "        vertical-align: middle;\n",
       "    }\n",
       "\n",
       "    .dataframe tbody tr th {\n",
       "        vertical-align: top;\n",
       "    }\n",
       "\n",
       "    .dataframe thead th {\n",
       "        text-align: right;\n",
       "    }\n",
       "</style>\n",
       "<table border=\"1\" class=\"dataframe\">\n",
       "  <thead>\n",
       "    <tr style=\"text-align: right;\">\n",
       "      <th></th>\n",
       "      <th>年齡</th>\n",
       "      <th>體重</th>\n",
       "    </tr>\n",
       "  </thead>\n",
       "  <tbody>\n",
       "    <tr>\n",
       "      <th>0</th>\n",
       "      <td>15</td>\n",
       "      <td>48</td>\n",
       "    </tr>\n",
       "    <tr>\n",
       "      <th>1</th>\n",
       "      <td>14</td>\n",
       "      <td>66</td>\n",
       "    </tr>\n",
       "    <tr>\n",
       "      <th>2</th>\n",
       "      <td>15</td>\n",
       "      <td>50</td>\n",
       "    </tr>\n",
       "    <tr>\n",
       "      <th>3</th>\n",
       "      <td>15</td>\n",
       "      <td>44</td>\n",
       "    </tr>\n",
       "  </tbody>\n",
       "</table>\n",
       "</div>"
      ],
      "text/plain": [
       "   年齡  體重\n",
       "0  15  48\n",
       "1  14  66\n",
       "2  15  50\n",
       "3  15  44"
      ]
     },
     "execution_count": 86,
     "metadata": {},
     "output_type": "execute_result"
    }
   ],
   "source": [
    "# 使用pd.read_csv()方法讀取指定路徑的CSV檔案，並轉換成DataFrame\n",
    "# usecols參數用來選擇讀取CSV檔案中的特定欄位(以欄位索引或欄位名稱指定)\n",
    "# 這裡選擇只讀取第0和第2欄(即「年齡」和「體重」欄)\n",
    "\n",
    "pd.read_csv(\"E:\\\\Python\\\\Python1-基礎Python開發實務\\\\df.csv\", names = [\"年齡\", \"身高\", \"體重\"], usecols = [0, 2])"
   ]
  },
  {
   "cell_type": "code",
   "execution_count": 87,
   "metadata": {},
   "outputs": [
    {
     "data": {
      "text/html": [
       "<div>\n",
       "<style scoped>\n",
       "    .dataframe tbody tr th:only-of-type {\n",
       "        vertical-align: middle;\n",
       "    }\n",
       "\n",
       "    .dataframe tbody tr th {\n",
       "        vertical-align: top;\n",
       "    }\n",
       "\n",
       "    .dataframe thead th {\n",
       "        text-align: right;\n",
       "    }\n",
       "</style>\n",
       "<table border=\"1\" class=\"dataframe\">\n",
       "  <thead>\n",
       "    <tr style=\"text-align: right;\">\n",
       "      <th></th>\n",
       "      <th>year</th>\n",
       "      <th>life</th>\n",
       "      <th>pop</th>\n",
       "    </tr>\n",
       "  </thead>\n",
       "  <tbody>\n",
       "    <tr>\n",
       "      <th>0</th>\n",
       "      <td>1955</td>\n",
       "      <td>56</td>\n",
       "      <td>1000000</td>\n",
       "    </tr>\n",
       "    <tr>\n",
       "      <th>1</th>\n",
       "      <td>1960</td>\n",
       "      <td>58</td>\n",
       "      <td>1200000</td>\n",
       "    </tr>\n",
       "    <tr>\n",
       "      <th>2</th>\n",
       "      <td>1965</td>\n",
       "      <td>62</td>\n",
       "      <td>1500000</td>\n",
       "    </tr>\n",
       "    <tr>\n",
       "      <th>3</th>\n",
       "      <td>1970</td>\n",
       "      <td>63</td>\n",
       "      <td>1800000</td>\n",
       "    </tr>\n",
       "    <tr>\n",
       "      <th>4</th>\n",
       "      <td>1975</td>\n",
       "      <td>66</td>\n",
       "      <td>2200000</td>\n",
       "    </tr>\n",
       "    <tr>\n",
       "      <th>5</th>\n",
       "      <td>1980</td>\n",
       "      <td>70</td>\n",
       "      <td>2300000</td>\n",
       "    </tr>\n",
       "    <tr>\n",
       "      <th>6</th>\n",
       "      <td>1985</td>\n",
       "      <td>71</td>\n",
       "      <td>2380000</td>\n",
       "    </tr>\n",
       "    <tr>\n",
       "      <th>7</th>\n",
       "      <td>1990</td>\n",
       "      <td>75</td>\n",
       "      <td>2500000</td>\n",
       "    </tr>\n",
       "    <tr>\n",
       "      <th>8</th>\n",
       "      <td>1995</td>\n",
       "      <td>76</td>\n",
       "      <td>3000000</td>\n",
       "    </tr>\n",
       "    <tr>\n",
       "      <th>9</th>\n",
       "      <td>2000</td>\n",
       "      <td>77</td>\n",
       "      <td>3100000</td>\n",
       "    </tr>\n",
       "    <tr>\n",
       "      <th>10</th>\n",
       "      <td>2005</td>\n",
       "      <td>78</td>\n",
       "      <td>3150000</td>\n",
       "    </tr>\n",
       "    <tr>\n",
       "      <th>11</th>\n",
       "      <td>2010</td>\n",
       "      <td>80</td>\n",
       "      <td>3200000</td>\n",
       "    </tr>\n",
       "    <tr>\n",
       "      <th>12</th>\n",
       "      <td>2015</td>\n",
       "      <td>81</td>\n",
       "      <td>3280000</td>\n",
       "    </tr>\n",
       "    <tr>\n",
       "      <th>13</th>\n",
       "      <td>2020</td>\n",
       "      <td>85</td>\n",
       "      <td>3400000</td>\n",
       "    </tr>\n",
       "  </tbody>\n",
       "</table>\n",
       "</div>"
      ],
      "text/plain": [
       "    year  life      pop\n",
       "0   1955    56  1000000\n",
       "1   1960    58  1200000\n",
       "2   1965    62  1500000\n",
       "3   1970    63  1800000\n",
       "4   1975    66  2200000\n",
       "5   1980    70  2300000\n",
       "6   1985    71  2380000\n",
       "7   1990    75  2500000\n",
       "8   1995    76  3000000\n",
       "9   2000    77  3100000\n",
       "10  2005    78  3150000\n",
       "11  2010    80  3200000\n",
       "12  2015    81  3280000\n",
       "13  2020    85  3400000"
      ]
     },
     "execution_count": 87,
     "metadata": {},
     "output_type": "execute_result"
    }
   ],
   "source": [
    "# 使用pd.read_csv()方法讀取指定路徑的CSV檔案，並轉換成DataFrame\n",
    "# names參數用來指定讀入DataFrame的欄位名稱(當CSV檔案沒有header，或想自訂欄名時使用)\n",
    "# 這裡將欄位命名為[\"year\", \"life\", \"pop\"]\n",
    "\n",
    "country = pd.read_csv(\"E:\\\\Python\\\\Python1-基礎Python開發實務\\\\country.csv\", names = [\"year\", \"life\", \"pop\"])\n",
    "\n",
    "# 輸出country的內容\n",
    "country"
   ]
  },
  {
   "cell_type": "code",
   "execution_count": 88,
   "metadata": {},
   "outputs": [
    {
     "data": {
      "text/plain": [
       "<Axes: xlabel='year'>"
      ]
     },
     "execution_count": 88,
     "metadata": {},
     "output_type": "execute_result"
    },
    {
     "data": {
      "image/png": "[encoded data removed]",
      "text/plain": [
       "<Figure size 640x480 with 1 Axes>"
      ]
     },
     "metadata": {},
     "output_type": "display_data"
    }
   ],
   "source": [
    "# 從DataFrame中選取\"year\"和\"pop\"兩個欄位，並使用plot()函式繪製年份(year)與人口數(pop)的折線圖\n",
    "# x參數：設定X軸為\"year\"(年份)\n",
    "# y參數：設定Y軸為\"pop\"(人口數)\n",
    "# kind = \"line\"：表示繪製折線圖\n",
    "# legend = False：表示不顯示圖例\n",
    "\n",
    "country[[\"year\", \"pop\"]].plot(x = \"year\", y = \"pop\", kind = \"line\", legend = False)"
   ]
  },
  {
   "cell_type": "code",
   "execution_count": 89,
   "metadata": {},
   "outputs": [
    {
     "data": {
      "text/plain": [
       "<Axes: xlabel='year'>"
      ]
     },
     "execution_count": 89,
     "metadata": {},
     "output_type": "execute_result"
    },
    {
     "data": {
      "image/png": "[encoded data removed]",
      "text/plain": [
       "<Figure size 640x480 with 1 Axes>"
      ]
     },
     "metadata": {},
     "output_type": "display_data"
    }
   ],
   "source": [
    "# 從DataFrame中選取\"year\"和\"life\"兩個欄位，並使用plot()函式繪製年份(year)與壽命(life)的長條圖\n",
    "# x參數：設定X軸為\"year\"(年份)\n",
    "# y參數：設定Y軸為\"life\"(壽命)\n",
    "# kind = \"bar\"：表示繪製長條圖\n",
    "# legend = False：表示不顯示圖例\n",
    "\n",
    "country[[\"year\", \"life\"]].plot(x = \"year\", y = \"life\", kind = \"bar\", legend = False)"
   ]
  },
  {
   "cell_type": "code",
   "execution_count": 90,
   "metadata": {},
   "outputs": [
    {
     "data": {
      "text/plain": [
       "<Axes: xlabel='pop', ylabel='life'>"
      ]
     },
     "execution_count": 90,
     "metadata": {},
     "output_type": "execute_result"
    },
    {
     "data": {
      "image/png": "[encoded data removed]",
      "text/plain": [
       "<Figure size 640x480 with 1 Axes>"
      ]
     },
     "metadata": {},
     "output_type": "display_data"
    }
   ],
   "source": [
    "# 從DataFrame中選取\"pop\"和\"life\"兩個欄位，並使用plot()函式繪製人口數(pop)與壽命(life)的散佈圖\n",
    "# x參數：設定X軸為\"pop\"(人口數)\n",
    "# y參數：設定Y軸為\"life\"(壽命)\n",
    "# kind = \"scatter\"：表示繪製散佈圖\n",
    "# legend = False：表示不顯示圖例\n",
    "\n",
    "country[[\"pop\", \"life\"]].plot(x = \"pop\", y = \"life\", kind = \"scatter\", legend = False)"
   ]
  },
  {
   "cell_type": "code",
   "execution_count": 91,
   "metadata": {},
   "outputs": [
    {
     "data": {
      "text/html": [
       "<div>\n",
       "<style scoped>\n",
       "    .dataframe tbody tr th:only-of-type {\n",
       "        vertical-align: middle;\n",
       "    }\n",
       "\n",
       "    .dataframe tbody tr th {\n",
       "        vertical-align: top;\n",
       "    }\n",
       "\n",
       "    .dataframe thead th {\n",
       "        text-align: right;\n",
       "    }\n",
       "</style>\n",
       "<table border=\"1\" class=\"dataframe\">\n",
       "  <thead>\n",
       "    <tr style=\"text-align: right;\">\n",
       "      <th></th>\n",
       "      <th>name</th>\n",
       "      <th>主修</th>\n",
       "      <th>副修</th>\n",
       "      <th>視唱</th>\n",
       "      <th>樂理</th>\n",
       "      <th>聽寫</th>\n",
       "      <th>mean</th>\n",
       "      <th>median</th>\n",
       "    </tr>\n",
       "  </thead>\n",
       "  <tbody>\n",
       "    <tr>\n",
       "      <th>0</th>\n",
       "      <td>學生1</td>\n",
       "      <td>80</td>\n",
       "      <td>75</td>\n",
       "      <td>88</td>\n",
       "      <td>80</td>\n",
       "      <td>78</td>\n",
       "      <td>80.2</td>\n",
       "      <td>80.0</td>\n",
       "    </tr>\n",
       "    <tr>\n",
       "      <th>1</th>\n",
       "      <td>學生2</td>\n",
       "      <td>88</td>\n",
       "      <td>86</td>\n",
       "      <td>90</td>\n",
       "      <td>95</td>\n",
       "      <td>86</td>\n",
       "      <td>89.0</td>\n",
       "      <td>88.0</td>\n",
       "    </tr>\n",
       "    <tr>\n",
       "      <th>2</th>\n",
       "      <td>學生3</td>\n",
       "      <td>92</td>\n",
       "      <td>85</td>\n",
       "      <td>92</td>\n",
       "      <td>98</td>\n",
       "      <td>90</td>\n",
       "      <td>91.4</td>\n",
       "      <td>92.0</td>\n",
       "    </tr>\n",
       "    <tr>\n",
       "      <th>3</th>\n",
       "      <td>學生4</td>\n",
       "      <td>81</td>\n",
       "      <td>88</td>\n",
       "      <td>80</td>\n",
       "      <td>82</td>\n",
       "      <td>85</td>\n",
       "      <td>83.2</td>\n",
       "      <td>82.0</td>\n",
       "    </tr>\n",
       "    <tr>\n",
       "      <th>4</th>\n",
       "      <td>學生5</td>\n",
       "      <td>75</td>\n",
       "      <td>80</td>\n",
       "      <td>78</td>\n",
       "      <td>80</td>\n",
       "      <td>70</td>\n",
       "      <td>76.6</td>\n",
       "      <td>78.0</td>\n",
       "    </tr>\n",
       "  </tbody>\n",
       "</table>\n",
       "</div>"
      ],
      "text/plain": [
       "  name  主修  副修  視唱  樂理  聽寫  mean  median\n",
       "0  學生1  80  75  88  80  78  80.2    80.0\n",
       "1  學生2  88  86  90  95  86  89.0    88.0\n",
       "2  學生3  92  85  92  98  90  91.4    92.0\n",
       "3  學生4  81  88  80  82  85  83.2    82.0\n",
       "4  學生5  75  80  78  80  70  76.6    78.0"
      ]
     },
     "execution_count": 91,
     "metadata": {},
     "output_type": "execute_result"
    }
   ],
   "source": [
    "# 使用np.array()函式建立一個5x5的NumPy二維陣列scores，包含二十五個整數元素(5位學生的五科成績)\n",
    "# 使用pd.DataFrame()函式將scores陣列轉換為DataFrame，預設欄位名稱為數字索引(0~4)\n",
    "\n",
    "scores = pd.DataFrame(np.array([[80, 75, 88, 80, 78], [88, 86, 90, 95, 86], [92, 85, 92, 98, 90],\n",
    "                                [81, 88, 80, 82, 85], [75, 80, 78, 80, 70]]))\n",
    "\n",
    "# 將預設的數字欄位名稱修改為五科科目名稱[\"主修\", \"副修\", \"視唱\", \"樂理\", \"聽寫\"]\n",
    "scores.columns = [\"主修\", \"副修\", \"視唱\", \"樂理\", \"聽寫\"]\n",
    "\n",
    "# 使用scores.insert()方法在第0欄插入一個新的欄位\"name\"，並指定每位學生的名字\n",
    "scores.insert(0, column = \"name\", value = [\"學生1\", \"學生2\", \"學生3\", \"學生4\", \"學生5\"])\n",
    "\n",
    "# 使用scores.insert()方法在第6欄插入欄位\"mean\"，計算每位學生五科成績的平均值\n",
    "scores.insert(6, column = \"mean\", value = scores.iloc[:, 1:6].mean(axis = 1))\n",
    "\n",
    "# 使用scores.insert()方法在第7欄插入欄位\"median\"，計算每位學生五科成績的中位數\n",
    "scores.insert(7, column = \"median\", value = scores.iloc[:, 1:6].median(axis = 1))\n",
    "\n",
    "# 輸出scores的內容\n",
    "scores"
   ]
  },
  {
   "cell_type": "code",
   "execution_count": 92,
   "metadata": {},
   "outputs": [
    {
     "data": {
      "text/plain": [
       "<Axes: xlabel='name'>"
      ]
     },
     "execution_count": 92,
     "metadata": {},
     "output_type": "execute_result"
    },
    {
     "data": {
      "image/png": "[encoded data removed]",
      "text/plain": [
       "<Figure size 640x480 with 1 Axes>"
      ]
     },
     "metadata": {},
     "output_type": "display_data"
    }
   ],
   "source": [
    "# 從matplotlib模組中匯入rcParams，用於設定繪圖時的字型和樣式\n",
    "from matplotlib import rcParams\n",
    "\n",
    "# 設定繪圖時的字型為Microsoft JhengHei(微軟正黑體)，方便顯示中文\n",
    "rcParams[\"font.family\"] = [\"Microsoft JhengHei\"]\n",
    "\n",
    "# 解決負號顯示問題，讓繪圖中的負號正常顯示(不會變成方塊或亂碼)\n",
    "rcParams[\"axes.unicode_minus\"] = False\n",
    "\n",
    "# 從DataFrame中選取\"name\"和\"mean\"兩個欄位，並使用plot()函式繪製學生名稱(name)與平均成績(mean)的折線圖\n",
    "# x參數：設定X軸為\"name\"(學生名稱)\n",
    "# kind = \"line\"：表示繪製折線圖\n",
    "# legend = False：表示不顯示圖例\n",
    "\n",
    "scores[[\"name\", \"mean\"]].plot(x = \"name\", kind = \"line\", legend = False)"
   ]
  },
  {
   "cell_type": "code",
   "execution_count": 93,
   "metadata": {},
   "outputs": [
    {
     "data": {
      "text/html": [
       "<div>\n",
       "<style scoped>\n",
       "    .dataframe tbody tr th:only-of-type {\n",
       "        vertical-align: middle;\n",
       "    }\n",
       "\n",
       "    .dataframe tbody tr th {\n",
       "        vertical-align: top;\n",
       "    }\n",
       "\n",
       "    .dataframe thead th {\n",
       "        text-align: right;\n",
       "    }\n",
       "</style>\n",
       "<table border=\"1\" class=\"dataframe\">\n",
       "  <thead>\n",
       "    <tr style=\"text-align: right;\">\n",
       "      <th></th>\n",
       "      <th>SepalL</th>\n",
       "      <th>SepalW</th>\n",
       "      <th>PetalL</th>\n",
       "      <th>PetalW</th>\n",
       "      <th>Class</th>\n",
       "    </tr>\n",
       "  </thead>\n",
       "  <tbody>\n",
       "    <tr>\n",
       "      <th>0</th>\n",
       "      <td>5.1</td>\n",
       "      <td>3.5</td>\n",
       "      <td>1.4</td>\n",
       "      <td>0.2</td>\n",
       "      <td>Iris-setosa</td>\n",
       "    </tr>\n",
       "    <tr>\n",
       "      <th>1</th>\n",
       "      <td>4.9</td>\n",
       "      <td>3.0</td>\n",
       "      <td>1.4</td>\n",
       "      <td>0.2</td>\n",
       "      <td>Iris-setosa</td>\n",
       "    </tr>\n",
       "    <tr>\n",
       "      <th>2</th>\n",
       "      <td>4.7</td>\n",
       "      <td>3.2</td>\n",
       "      <td>1.3</td>\n",
       "      <td>0.2</td>\n",
       "      <td>Iris-setosa</td>\n",
       "    </tr>\n",
       "    <tr>\n",
       "      <th>3</th>\n",
       "      <td>4.6</td>\n",
       "      <td>3.1</td>\n",
       "      <td>1.5</td>\n",
       "      <td>0.2</td>\n",
       "      <td>Iris-setosa</td>\n",
       "    </tr>\n",
       "    <tr>\n",
       "      <th>4</th>\n",
       "      <td>5.0</td>\n",
       "      <td>3.6</td>\n",
       "      <td>1.4</td>\n",
       "      <td>0.2</td>\n",
       "      <td>Iris-setosa</td>\n",
       "    </tr>\n",
       "    <tr>\n",
       "      <th>...</th>\n",
       "      <td>...</td>\n",
       "      <td>...</td>\n",
       "      <td>...</td>\n",
       "      <td>...</td>\n",
       "      <td>...</td>\n",
       "    </tr>\n",
       "    <tr>\n",
       "      <th>145</th>\n",
       "      <td>6.7</td>\n",
       "      <td>3.0</td>\n",
       "      <td>5.2</td>\n",
       "      <td>2.3</td>\n",
       "      <td>Iris-virginica</td>\n",
       "    </tr>\n",
       "    <tr>\n",
       "      <th>146</th>\n",
       "      <td>6.3</td>\n",
       "      <td>2.5</td>\n",
       "      <td>5.0</td>\n",
       "      <td>1.9</td>\n",
       "      <td>Iris-virginica</td>\n",
       "    </tr>\n",
       "    <tr>\n",
       "      <th>147</th>\n",
       "      <td>6.5</td>\n",
       "      <td>3.0</td>\n",
       "      <td>5.2</td>\n",
       "      <td>2.0</td>\n",
       "      <td>Iris-virginica</td>\n",
       "    </tr>\n",
       "    <tr>\n",
       "      <th>148</th>\n",
       "      <td>6.2</td>\n",
       "      <td>3.4</td>\n",
       "      <td>5.4</td>\n",
       "      <td>2.3</td>\n",
       "      <td>Iris-virginica</td>\n",
       "    </tr>\n",
       "    <tr>\n",
       "      <th>149</th>\n",
       "      <td>5.9</td>\n",
       "      <td>3.0</td>\n",
       "      <td>5.1</td>\n",
       "      <td>1.8</td>\n",
       "      <td>Iris-virginica</td>\n",
       "    </tr>\n",
       "  </tbody>\n",
       "</table>\n",
       "<p>150 rows × 5 columns</p>\n",
       "</div>"
      ],
      "text/plain": [
       "     SepalL  SepalW  PetalL  PetalW           Class\n",
       "0       5.1     3.5     1.4     0.2     Iris-setosa\n",
       "1       4.9     3.0     1.4     0.2     Iris-setosa\n",
       "2       4.7     3.2     1.3     0.2     Iris-setosa\n",
       "3       4.6     3.1     1.5     0.2     Iris-setosa\n",
       "4       5.0     3.6     1.4     0.2     Iris-setosa\n",
       "..      ...     ...     ...     ...             ...\n",
       "145     6.7     3.0     5.2     2.3  Iris-virginica\n",
       "146     6.3     2.5     5.0     1.9  Iris-virginica\n",
       "147     6.5     3.0     5.2     2.0  Iris-virginica\n",
       "148     6.2     3.4     5.4     2.3  Iris-virginica\n",
       "149     5.9     3.0     5.1     1.8  Iris-virginica\n",
       "\n",
       "[150 rows x 5 columns]"
      ]
     },
     "execution_count": 93,
     "metadata": {},
     "output_type": "execute_result"
    }
   ],
   "source": [
    "# 使用pd.read_csv()方法讀取指定路徑的CSV檔案，並轉換成DataFrame\n",
    "# names參數用來指定讀入DataFrame的欄位名稱(當CSV檔案沒有header，或想自訂欄名時使用)\n",
    "# 這裡將欄位命名為[\"SepalL\", \"SepalW\", \"PetalL\", \"PetalW\", \"Class\"]，代表花萼長寬、花瓣長寬與品種\n",
    "\n",
    "iris = pd.read_csv(\"E:\\\\Python\\\\Python1-基礎Python開發實務\\\\iris.csv\", names = [\"SepalL\", \"SepalW\", \"PetalL\", \"PetalW\", \"Class\"])\n",
    "\n",
    "# 輸出iris的內容\n",
    "iris"
   ]
  },
  {
   "cell_type": "code",
   "execution_count": 94,
   "metadata": {},
   "outputs": [
    {
     "data": {
      "image/png": "[encoded data removed]",
      "text/plain": [
       "<Figure size 640x480 with 1 Axes>"
      ]
     },
     "metadata": {},
     "output_type": "display_data"
    }
   ],
   "source": [
    "# 匯入matplotlib.pyplot模組，用於繪製圖表\n",
    "import matplotlib.pyplot as plt\n",
    "\n",
    "# 篩選出品種為Iris-setosa的資料，並建立一個新的DataFrame iris1，方便後續分析或繪圖使用\n",
    "iris1 = iris[iris[\"Class\"] == \"Iris-setosa\"]\n",
    "\n",
    "# 篩選出品種為Iris-versicolor的資料，建立新的DataFrame iris2，方便後續分析或繪圖使用\n",
    "iris2 = iris[iris[\"Class\"] == \"Iris-versicolor\"]\n",
    "\n",
    "# 篩選出品種為Iris-virginica的資料，建立新的DataFrame iris3，方便後續分析或繪圖使用\n",
    "iris3 = iris[iris[\"Class\"] == \"Iris-virginica\"]\n",
    "\n",
    "# 繪製Iris-setosa的散佈圖，並設定以下參數：\n",
    "# x軸資料：iris1[\"SepalL\"](花萼長度)\n",
    "# y軸資料：iris1[\"SepalW\"](花萼寬度)\n",
    "# color = \"red\"：設定標記(資料點)的顏色為紅色\n",
    "# marker = \"o\"：使用圓形\"o\"標記資料點\n",
    "# label = \"setosa\"：設定圖例標籤文字為\"setosa\"\n",
    "\n",
    "plt.scatter(iris1[\"SepalL\"], iris1[\"SepalW\"], color = \"red\", marker = 'o', label = \"setosa\")\n",
    "\n",
    "# 繪製Iris-versicolor的散佈圖，並設定以下參數：\n",
    "# x軸資料：iris2[\"SepalL\"](花萼長度)\n",
    "# y軸資料：iris2[\"SepalW\"](花萼寬度)\n",
    "# color = \"green\"：設定標記(資料點)的顏色為綠色\n",
    "# marker = \"D\"：使用藍色粗鑽石形\"D\"標記資料點\n",
    "# label = \"versicolor\"：設定圖例標籤文字為\"versicolor\"\n",
    "\n",
    "plt.scatter(iris2[\"SepalL\"], iris2[\"SepalW\"], color = \"green\", marker = 'D', label = \"versicolor\")\n",
    "\n",
    "# 繪製Iris-virginica的散佈圖，並設定以下參數：\n",
    "# x軸資料：iris3[\"SepalL\"](花萼長度)\n",
    "# y軸資料：iris3[\"SepalW\"](花萼寬度)\n",
    "# color = \"blue\"：設定標記(資料點)的顏色為藍色\n",
    "# marker = \"x\"：使用叉號\"x\"標記資料點\n",
    "# label = \"virginica\"：設定圖例標籤文字為\"virginica\"\n",
    "\n",
    "plt.scatter(iris3[\"SepalL\"], iris3[\"SepalW\"], color = \"blue\", marker = 'x', label = \"virginica\")\n",
    "\n",
    "# 設定X軸的標籤文字為\"Sepal Length (cm)\"，表示X軸數據是花萼長度，單位為公分\n",
    "plt.xlabel(\"Sepal Length (cm)\")\n",
    "\n",
    "# 設定Y軸的標籤文字為\"Sepal Width (cm)\"，表示Y軸數據是花萼寬度，單位為公分\n",
    "plt.ylabel(\"Sepal Width (cm)\")\n",
    "\n",
    "# 顯示圖例\n",
    "plt.legend()\n",
    "\n",
    "# 顯示圖表\n",
    "plt.show()"
   ]
  },
  {
   "cell_type": "code",
   "execution_count": 95,
   "metadata": {},
   "outputs": [
    {
     "data": {
      "text/plain": [
       "0    0.00\n",
       "1    0.25\n",
       "2    0.50\n",
       "3    0.75\n",
       "4    1.00\n",
       "5    1.25\n",
       "6    1.50\n",
       "7    1.75\n",
       "8    2.00\n",
       "dtype: float64"
      ]
     },
     "execution_count": 95,
     "metadata": {},
     "output_type": "execute_result"
    }
   ],
   "source": [
    "# 使用np.linspace()函式建立一個NumPy一維陣列，從0到2(包含)，產生9個平均分佈的數值，並使用pd.Series()函式將該陣列轉換成Series物件S\n",
    "S = pd.Series(np.linspace(0, 2, 9))\n",
    "\n",
    "# 輸出S的內容\n",
    "S"
   ]
  },
  {
   "cell_type": "code",
   "execution_count": 96,
   "metadata": {},
   "outputs": [
    {
     "data": {
      "text/plain": [
       "5    1.25\n",
       "6    1.50\n",
       "7    1.75\n",
       "8    2.00\n",
       "dtype: float64"
      ]
     },
     "execution_count": 96,
     "metadata": {},
     "output_type": "execute_result"
    }
   ],
   "source": [
    "# 透過位置索引取得Series S中位置索引5~8的所有元素(第六個元素到最後)\n",
    "S.iloc[5:]"
   ]
  },
  {
   "cell_type": "code",
   "execution_count": 97,
   "metadata": {},
   "outputs": [
    {
     "data": {
      "text/plain": [
       "0    0.00\n",
       "1    0.25\n",
       "2    0.50\n",
       "dtype: float64"
      ]
     },
     "execution_count": 97,
     "metadata": {},
     "output_type": "execute_result"
    }
   ],
   "source": [
    "# 透過位置索引取得Series S中位置索引0~2的所有元素(第一個元素到第三個)\n",
    "S.iloc[:3]"
   ]
  },
  {
   "cell_type": "code",
   "execution_count": 98,
   "metadata": {},
   "outputs": [
    {
     "name": "stdout",
     "output_type": "stream",
     "text": [
      "9.0\n"
     ]
    }
   ],
   "source": [
    "# 使用S.sum()方法計算Series S中所有元素的總和，並輸出結果\n",
    "print(S.sum())"
   ]
  },
  {
   "cell_type": "code",
   "execution_count": 99,
   "metadata": {},
   "outputs": [
    {
     "name": "stdout",
     "output_type": "stream",
     "text": [
      "1.0\n"
     ]
    }
   ],
   "source": [
    "# 使用S.median()方法計算Series S中所有元素的中位數，並輸出結果\n",
    "print(S.median())"
   ]
  },
  {
   "cell_type": "code",
   "execution_count": 100,
   "metadata": {},
   "outputs": [
    {
     "name": "stdout",
     "output_type": "stream",
     "text": [
      "1.0\n"
     ]
    }
   ],
   "source": [
    "# 使用S.mean()方法計算Series S中所有元素的平均值，並輸出結果\n",
    "print(S.mean())"
   ]
  },
  {
   "cell_type": "code",
   "execution_count": 101,
   "metadata": {},
   "outputs": [
    {
     "name": "stdout",
     "output_type": "stream",
     "text": [
      "0    0.000\n",
      "1    0.025\n",
      "2    0.050\n",
      "3    0.075\n",
      "4    0.100\n",
      "5    0.125\n",
      "6    0.150\n",
      "7    0.175\n",
      "8    0.200\n",
      "dtype: float64\n"
     ]
    }
   ],
   "source": [
    "# 使用S.div(10)方法將Series S中的每個元素除以10，並輸出結果\n",
    "print(S.div(10))"
   ]
  },
  {
   "cell_type": "code",
   "execution_count": 102,
   "metadata": {},
   "outputs": [
    {
     "name": "stdout",
     "output_type": "stream",
     "text": [
      "0    0.000\n",
      "1    0.025\n",
      "2    0.050\n",
      "3    0.075\n",
      "4    0.100\n",
      "5    0.125\n",
      "6    0.150\n",
      "7    0.175\n",
      "8    0.200\n",
      "dtype: float64\n"
     ]
    }
   ],
   "source": [
    "# 使用除法運算子\"/\"將Series S中的每個元素除以10，並輸出結果\n",
    "print(S / 10)"
   ]
  },
  {
   "cell_type": "code",
   "execution_count": 103,
   "metadata": {},
   "outputs": [
    {
     "data": {
      "text/html": [
       "<div>\n",
       "<style scoped>\n",
       "    .dataframe tbody tr th:only-of-type {\n",
       "        vertical-align: middle;\n",
       "    }\n",
       "\n",
       "    .dataframe tbody tr th {\n",
       "        vertical-align: top;\n",
       "    }\n",
       "\n",
       "    .dataframe thead th {\n",
       "        text-align: right;\n",
       "    }\n",
       "</style>\n",
       "<table border=\"1\" class=\"dataframe\">\n",
       "  <thead>\n",
       "    <tr style=\"text-align: right;\">\n",
       "      <th></th>\n",
       "      <th>Chinese</th>\n",
       "      <th>English</th>\n",
       "      <th>Math</th>\n",
       "    </tr>\n",
       "  </thead>\n",
       "  <tbody>\n",
       "    <tr>\n",
       "      <th>ID1</th>\n",
       "      <td>NaN</td>\n",
       "      <td>92.0</td>\n",
       "      <td>83.0</td>\n",
       "    </tr>\n",
       "    <tr>\n",
       "      <th>ID2</th>\n",
       "      <td>85.0</td>\n",
       "      <td>78.0</td>\n",
       "      <td>60.0</td>\n",
       "    </tr>\n",
       "    <tr>\n",
       "      <th>ID3</th>\n",
       "      <td>80.0</td>\n",
       "      <td>NaN</td>\n",
       "      <td>72.0</td>\n",
       "    </tr>\n",
       "    <tr>\n",
       "      <th>ID4</th>\n",
       "      <td>60.0</td>\n",
       "      <td>NaN</td>\n",
       "      <td>72.0</td>\n",
       "    </tr>\n",
       "    <tr>\n",
       "      <th>ID5</th>\n",
       "      <td>98.0</td>\n",
       "      <td>88.0</td>\n",
       "      <td>91.0</td>\n",
       "    </tr>\n",
       "  </tbody>\n",
       "</table>\n",
       "</div>"
      ],
      "text/plain": [
       "     Chinese  English  Math\n",
       "ID1      NaN     92.0  83.0\n",
       "ID2     85.0     78.0  60.0\n",
       "ID3     80.0      NaN  72.0\n",
       "ID4     60.0      NaN  72.0\n",
       "ID5     98.0     88.0  91.0"
      ]
     },
     "execution_count": 103,
     "metadata": {},
     "output_type": "execute_result"
    }
   ],
   "source": [
    "# 使用np.array()函式建立一個5x3的NumPy二維陣列scores，包含十五個整數元素(5位學生的三科成績)\n",
    "# 使用pd.DataFrame()函式將scores陣列轉換為DataFrame，並自訂列索引為ID1~ID5，欄位名稱為三科成績\n",
    "\n",
    "scores = pd.DataFrame(np.array([[np.nan, 92, 83], [85, 78, 60], [80, np.nan, 72],\n",
    "                                [60, np.nan, 72], [98, 88, 91]]), \n",
    "                                index = [\"ID1\", \"ID2\", \"ID3\", \"ID4\", \"ID5\"],\n",
    "                                columns = [\"Chinese\", \"English\", \"Math\"])\n",
    "\n",
    "# 輸出scores的內容\n",
    "scores"
   ]
  },
  {
   "cell_type": "code",
   "execution_count": 104,
   "metadata": {},
   "outputs": [
    {
     "data": {
      "text/html": [
       "<div>\n",
       "<style scoped>\n",
       "    .dataframe tbody tr th:only-of-type {\n",
       "        vertical-align: middle;\n",
       "    }\n",
       "\n",
       "    .dataframe tbody tr th {\n",
       "        vertical-align: top;\n",
       "    }\n",
       "\n",
       "    .dataframe thead th {\n",
       "        text-align: right;\n",
       "    }\n",
       "</style>\n",
       "<table border=\"1\" class=\"dataframe\">\n",
       "  <thead>\n",
       "    <tr style=\"text-align: right;\">\n",
       "      <th></th>\n",
       "      <th>Chinese</th>\n",
       "      <th>English</th>\n",
       "    </tr>\n",
       "  </thead>\n",
       "  <tbody>\n",
       "    <tr>\n",
       "      <th>ID1</th>\n",
       "      <td>NaN</td>\n",
       "      <td>92.0</td>\n",
       "    </tr>\n",
       "    <tr>\n",
       "      <th>ID2</th>\n",
       "      <td>85.0</td>\n",
       "      <td>78.0</td>\n",
       "    </tr>\n",
       "    <tr>\n",
       "      <th>ID3</th>\n",
       "      <td>80.0</td>\n",
       "      <td>NaN</td>\n",
       "    </tr>\n",
       "    <tr>\n",
       "      <th>ID4</th>\n",
       "      <td>60.0</td>\n",
       "      <td>NaN</td>\n",
       "    </tr>\n",
       "    <tr>\n",
       "      <th>ID5</th>\n",
       "      <td>98.0</td>\n",
       "      <td>88.0</td>\n",
       "    </tr>\n",
       "  </tbody>\n",
       "</table>\n",
       "</div>"
      ],
      "text/plain": [
       "     Chinese  English\n",
       "ID1      NaN     92.0\n",
       "ID2     85.0     78.0\n",
       "ID3     80.0      NaN\n",
       "ID4     60.0      NaN\n",
       "ID5     98.0     88.0"
      ]
     },
     "execution_count": 104,
     "metadata": {},
     "output_type": "execute_result"
    }
   ],
   "source": [
    "# 取得DataFrame scores中欄位\"Chinese\"和\"English\"的所有資料，並傳回一個新的DataFrame\n",
    "scores[[\"Chinese\", \"English\"]]"
   ]
  },
  {
   "cell_type": "code",
   "execution_count": 105,
   "metadata": {},
   "outputs": [
    {
     "data": {
      "text/plain": [
       "Chinese    98.0\n",
       "English    88.0\n",
       "Math       91.0\n",
       "Name: ID5, dtype: float64"
      ]
     },
     "execution_count": 105,
     "metadata": {},
     "output_type": "execute_result"
    }
   ],
   "source": [
    "# 取得DataFrame scores中索引為\"ID5\"的整列資料，並傳回一個新的Series\n",
    "scores.loc[\"ID5\"]"
   ]
  },
  {
   "cell_type": "code",
   "execution_count": 106,
   "metadata": {},
   "outputs": [
    {
     "data": {
      "text/plain": [
       "ID1    175.0\n",
       "ID2    223.0\n",
       "ID3    152.0\n",
       "ID4    132.0\n",
       "ID5    277.0\n",
       "dtype: float64"
      ]
     },
     "execution_count": 106,
     "metadata": {},
     "output_type": "execute_result"
    }
   ],
   "source": [
    "# 使用scores.fillna(0)方法將DataFrame中的缺失值填補為0，並傳回一個新的DataFrame\n",
    "scores_filled = scores.fillna(0)\n",
    "\n",
    "# 從填補後的DataFrame中，分別取出每位學生的各科分數(Chinese、English、Math)，並使用add()方法計算每位學生的總分，傳回一個新的Series\n",
    "total_scores_1 = scores_filled[\"Chinese\"].add(scores_filled[\"English\"]).add(scores_filled[\"Math\"])\n",
    "\n",
    "# 輸出每位學生的總分(total_scores_1)\n",
    "total_scores_1"
   ]
  },
  {
   "cell_type": "code",
   "execution_count": 107,
   "metadata": {},
   "outputs": [
    {
     "data": {
      "text/plain": [
       "ID1    175.0\n",
       "ID2    223.0\n",
       "ID3    152.0\n",
       "ID4    132.0\n",
       "ID5    277.0\n",
       "dtype: float64"
      ]
     },
     "execution_count": 107,
     "metadata": {},
     "output_type": "execute_result"
    }
   ],
   "source": [
    "# 使用scores.fillna(0)方法將DataFrame中的缺失值填補為0，並傳回一個新的DataFrame\n",
    "scores_filled = scores.fillna(0)\n",
    "\n",
    "# 從填補後的DataFrame中，分別取出每位學生的各科分數(Chinese、English、Math)，並使用加法運算子\"+\"計算每位學生的總分，傳回一個新的Series\n",
    "total_scores_2 = scores_filled[\"Chinese\"] + (scores_filled[\"English\"]) + (scores_filled[\"Math\"])\n",
    "\n",
    "# 輸出每位學生的總分(total_scores_2)\n",
    "total_scores_2"
   ]
  },
  {
   "cell_type": "code",
   "execution_count": 108,
   "metadata": {},
   "outputs": [
    {
     "data": {
      "text/html": [
       "<div>\n",
       "<style scoped>\n",
       "    .dataframe tbody tr th:only-of-type {\n",
       "        vertical-align: middle;\n",
       "    }\n",
       "\n",
       "    .dataframe tbody tr th {\n",
       "        vertical-align: top;\n",
       "    }\n",
       "\n",
       "    .dataframe thead th {\n",
       "        text-align: right;\n",
       "    }\n",
       "</style>\n",
       "<table border=\"1\" class=\"dataframe\">\n",
       "  <thead>\n",
       "    <tr style=\"text-align: right;\">\n",
       "      <th></th>\n",
       "      <th>city</th>\n",
       "      <th>year</th>\n",
       "      <th>life</th>\n",
       "      <th>pop</th>\n",
       "    </tr>\n",
       "  </thead>\n",
       "  <tbody>\n",
       "    <tr>\n",
       "      <th>0</th>\n",
       "      <td>city1</td>\n",
       "      <td>1955</td>\n",
       "      <td>56</td>\n",
       "      <td>1000000</td>\n",
       "    </tr>\n",
       "    <tr>\n",
       "      <th>1</th>\n",
       "      <td>city1</td>\n",
       "      <td>1960</td>\n",
       "      <td>58</td>\n",
       "      <td>1200000</td>\n",
       "    </tr>\n",
       "    <tr>\n",
       "      <th>2</th>\n",
       "      <td>city1</td>\n",
       "      <td>1965</td>\n",
       "      <td>62</td>\n",
       "      <td>1500000</td>\n",
       "    </tr>\n",
       "    <tr>\n",
       "      <th>3</th>\n",
       "      <td>city1</td>\n",
       "      <td>1970</td>\n",
       "      <td>63</td>\n",
       "      <td>1800000</td>\n",
       "    </tr>\n",
       "    <tr>\n",
       "      <th>4</th>\n",
       "      <td>city1</td>\n",
       "      <td>1975</td>\n",
       "      <td>66</td>\n",
       "      <td>2200000</td>\n",
       "    </tr>\n",
       "    <tr>\n",
       "      <th>5</th>\n",
       "      <td>city1</td>\n",
       "      <td>1980</td>\n",
       "      <td>70</td>\n",
       "      <td>2300000</td>\n",
       "    </tr>\n",
       "    <tr>\n",
       "      <th>6</th>\n",
       "      <td>city1</td>\n",
       "      <td>1985</td>\n",
       "      <td>71</td>\n",
       "      <td>2380000</td>\n",
       "    </tr>\n",
       "    <tr>\n",
       "      <th>7</th>\n",
       "      <td>city1</td>\n",
       "      <td>1990</td>\n",
       "      <td>75</td>\n",
       "      <td>2500000</td>\n",
       "    </tr>\n",
       "    <tr>\n",
       "      <th>8</th>\n",
       "      <td>city1</td>\n",
       "      <td>1995</td>\n",
       "      <td>76</td>\n",
       "      <td>3000000</td>\n",
       "    </tr>\n",
       "    <tr>\n",
       "      <th>9</th>\n",
       "      <td>city1</td>\n",
       "      <td>2000</td>\n",
       "      <td>77</td>\n",
       "      <td>3100000</td>\n",
       "    </tr>\n",
       "    <tr>\n",
       "      <th>10</th>\n",
       "      <td>city1</td>\n",
       "      <td>2005</td>\n",
       "      <td>78</td>\n",
       "      <td>3150000</td>\n",
       "    </tr>\n",
       "    <tr>\n",
       "      <th>11</th>\n",
       "      <td>city1</td>\n",
       "      <td>2010</td>\n",
       "      <td>80</td>\n",
       "      <td>3200000</td>\n",
       "    </tr>\n",
       "    <tr>\n",
       "      <th>12</th>\n",
       "      <td>city1</td>\n",
       "      <td>2015</td>\n",
       "      <td>81</td>\n",
       "      <td>3280000</td>\n",
       "    </tr>\n",
       "    <tr>\n",
       "      <th>13</th>\n",
       "      <td>city1</td>\n",
       "      <td>2020</td>\n",
       "      <td>85</td>\n",
       "      <td>3400000</td>\n",
       "    </tr>\n",
       "    <tr>\n",
       "      <th>14</th>\n",
       "      <td>city2</td>\n",
       "      <td>1955</td>\n",
       "      <td>45</td>\n",
       "      <td>450000</td>\n",
       "    </tr>\n",
       "    <tr>\n",
       "      <th>15</th>\n",
       "      <td>city2</td>\n",
       "      <td>1960</td>\n",
       "      <td>48</td>\n",
       "      <td>500000</td>\n",
       "    </tr>\n",
       "    <tr>\n",
       "      <th>16</th>\n",
       "      <td>city2</td>\n",
       "      <td>1965</td>\n",
       "      <td>52</td>\n",
       "      <td>600000</td>\n",
       "    </tr>\n",
       "    <tr>\n",
       "      <th>17</th>\n",
       "      <td>city2</td>\n",
       "      <td>1970</td>\n",
       "      <td>56</td>\n",
       "      <td>780000</td>\n",
       "    </tr>\n",
       "    <tr>\n",
       "      <th>18</th>\n",
       "      <td>city2</td>\n",
       "      <td>1975</td>\n",
       "      <td>60</td>\n",
       "      <td>820000</td>\n",
       "    </tr>\n",
       "    <tr>\n",
       "      <th>19</th>\n",
       "      <td>city2</td>\n",
       "      <td>1980</td>\n",
       "      <td>62</td>\n",
       "      <td>850000</td>\n",
       "    </tr>\n",
       "    <tr>\n",
       "      <th>20</th>\n",
       "      <td>city2</td>\n",
       "      <td>1985</td>\n",
       "      <td>65</td>\n",
       "      <td>1000000</td>\n",
       "    </tr>\n",
       "    <tr>\n",
       "      <th>21</th>\n",
       "      <td>city2</td>\n",
       "      <td>1990</td>\n",
       "      <td>70</td>\n",
       "      <td>1200000</td>\n",
       "    </tr>\n",
       "    <tr>\n",
       "      <th>22</th>\n",
       "      <td>city2</td>\n",
       "      <td>1995</td>\n",
       "      <td>71</td>\n",
       "      <td>1220000</td>\n",
       "    </tr>\n",
       "    <tr>\n",
       "      <th>23</th>\n",
       "      <td>city2</td>\n",
       "      <td>2000</td>\n",
       "      <td>72</td>\n",
       "      <td>1250000</td>\n",
       "    </tr>\n",
       "    <tr>\n",
       "      <th>24</th>\n",
       "      <td>city2</td>\n",
       "      <td>2005</td>\n",
       "      <td>75</td>\n",
       "      <td>1330000</td>\n",
       "    </tr>\n",
       "    <tr>\n",
       "      <th>25</th>\n",
       "      <td>city2</td>\n",
       "      <td>2010</td>\n",
       "      <td>77</td>\n",
       "      <td>1500000</td>\n",
       "    </tr>\n",
       "    <tr>\n",
       "      <th>26</th>\n",
       "      <td>city2</td>\n",
       "      <td>2015</td>\n",
       "      <td>79</td>\n",
       "      <td>1800000</td>\n",
       "    </tr>\n",
       "    <tr>\n",
       "      <th>27</th>\n",
       "      <td>city2</td>\n",
       "      <td>2020</td>\n",
       "      <td>80</td>\n",
       "      <td>1850000</td>\n",
       "    </tr>\n",
       "  </tbody>\n",
       "</table>\n",
       "</div>"
      ],
      "text/plain": [
       "     city  year  life      pop\n",
       "0   city1  1955    56  1000000\n",
       "1   city1  1960    58  1200000\n",
       "2   city1  1965    62  1500000\n",
       "3   city1  1970    63  1800000\n",
       "4   city1  1975    66  2200000\n",
       "5   city1  1980    70  2300000\n",
       "6   city1  1985    71  2380000\n",
       "7   city1  1990    75  2500000\n",
       "8   city1  1995    76  3000000\n",
       "9   city1  2000    77  3100000\n",
       "10  city1  2005    78  3150000\n",
       "11  city1  2010    80  3200000\n",
       "12  city1  2015    81  3280000\n",
       "13  city1  2020    85  3400000\n",
       "14  city2  1955    45   450000\n",
       "15  city2  1960    48   500000\n",
       "16  city2  1965    52   600000\n",
       "17  city2  1970    56   780000\n",
       "18  city2  1975    60   820000\n",
       "19  city2  1980    62   850000\n",
       "20  city2  1985    65  1000000\n",
       "21  city2  1990    70  1200000\n",
       "22  city2  1995    71  1220000\n",
       "23  city2  2000    72  1250000\n",
       "24  city2  2005    75  1330000\n",
       "25  city2  2010    77  1500000\n",
       "26  city2  2015    79  1800000\n",
       "27  city2  2020    80  1850000"
      ]
     },
     "execution_count": 108,
     "metadata": {},
     "output_type": "execute_result"
    }
   ],
   "source": [
    "# 使用pd.read_csv()方法讀取指定路徑的CSV檔案，並轉換成DataFrame\n",
    "# names參數用來指定讀入DataFrame的欄位名稱(當CSV檔案沒有header，或想自訂欄名時使用)\n",
    "# 這裡將欄位命名為[\"city\", \"year\", \"life\", \"pop\"]，代表城市、年份、平均壽命與人口總數\n",
    "\n",
    "city = pd.read_csv(\"E:\\\\Python\\\\Python1-基礎Python開發實務\\\\city.csv\", names = [\"city\", \"year\", \"life\", \"pop\"])\n",
    "\n",
    "# 輸出city的內容\n",
    "city"
   ]
  },
  {
   "cell_type": "code",
   "execution_count": 109,
   "metadata": {},
   "outputs": [
    {
     "data": {
      "image/png": "[encoded data removed]",
      "text/plain": [
       "<Figure size 600x400 with 1 Axes>"
      ]
     },
     "metadata": {},
     "output_type": "display_data"
    }
   ],
   "source": [
    "# 篩選出城市為city1的資料，並建立一個新的DataFrame city1，方便後續分析或繪圖使用\n",
    "city1 = city[city[\"city\"] == \"city1\"]\n",
    "\n",
    "# 篩選出城市為city2的資料，並建立一個新的DataFrame city2，方便後續分析或繪圖使用\n",
    "city2 = city[city[\"city\"] == \"city2\"]\n",
    "\n",
    "# 建立一個新圖表，並設定圖表大小為6x4吋\n",
    "plt.figure(figsize = (6, 4))\n",
    "\n",
    "# 繪製city1的折線圖(人口數以百萬為單位)，並設定以下參數：\n",
    "# x軸資料：city1[\"year\"](年份)\n",
    "# y軸資料：city1[\"pop\"] / 1e6(人口數，單位百萬)\n",
    "# color = \"blue\"：設定線條的顏色為藍色\n",
    "# label = \"city1\"：設定圖例標籤文字為\"city1\"\n",
    "\n",
    "plt.plot(city1[\"year\"], city1[\"pop\"] / 1e6, color = \"blue\", label = \"city1\")\n",
    "\n",
    "# 繪製city2的折線圖(人口數以百萬為單位)，並設定以下參數：\n",
    "# x軸資料：city2[\"year\"](年份)\n",
    "# y軸資料：city2[\"pop\"] / 1e6(人口數，單位百萬)\n",
    "# color = \"orange\"：設定線條的顏色為橙色\n",
    "# label = \"city2\"：設定圖例標籤文字為\"city2\"\n",
    "\n",
    "plt.plot(city2[\"year\"], city2[\"pop\"] / 1e6, color = \"orange\", label = \"city2\")\n",
    "\n",
    "# 設定圖表標題為\"city1 V.S. city2 population\"\n",
    "plt.title(\"city1 V.S. city2 population\")\n",
    "\n",
    "# 將x軸主刻度位置與標籤設定為指定的範圍和文字\n",
    "# 使用np.arange()函式建立一個NumPy一維陣列，從1960開始(包含1960)到小於2030結束，間隔值為10，元素型別為整數\n",
    "\n",
    "plt.xticks(np.arange(1960, 2030, 10))\n",
    "\n",
    "# 將y軸主刻度位置與標籤設定為指定的範圍和文字\n",
    "# 使用np.arange()函式建立一個NumPy一維陣列，從0開始(包含0)到小於4結束，間隔值為0.5(單位：百萬)，元素型別為浮點數\n",
    "\n",
    "plt.yticks(np.arange(0, 4, 0.5))\n",
    "\n",
    "# 顯示圖例於左上角\n",
    "plt.legend(loc = 'upper left')\n",
    "\n",
    "# 顯示圖表\n",
    "plt.show()"
   ]
  }
 ],
 "metadata": {
  "kernelspec": {
   "display_name": "myenv39",
   "language": "python",
   "name": "python3"
  },
  "language_info": {
   "codemirror_mode": {
    "name": "ipython",
    "version": 3
   },
   "file_extension": ".py",
   "mimetype": "text/x-python",
   "name": "python",
   "nbconvert_exporter": "python",
   "pygments_lexer": "ipython3",
   "version": "3.9.23"
  }
 },
 "nbformat": 4,
 "nbformat_minor": 2
}
