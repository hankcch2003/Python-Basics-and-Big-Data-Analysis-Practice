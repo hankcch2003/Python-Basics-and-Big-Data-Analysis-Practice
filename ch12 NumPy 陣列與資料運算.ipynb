{
 "cells": [
  {
   "cell_type": "markdown",
   "metadata": {},
   "source": [
    "# ch12 NumPy 陣列與資料運算"
   ]
  },
  {
   "cell_type": "code",
   "execution_count": 1,
   "metadata": {},
   "outputs": [],
   "source": [
    "# 匯入numpy套件，用於數值計算與陣列處理\n",
    "import numpy as np\n",
    "\n",
    "# 使用np.array()函式建立一個NumPy一維陣列A，包含三個整數元素\n",
    "A = np.array([10, 20, 30])"
   ]
  },
  {
   "cell_type": "code",
   "execution_count": 2,
   "metadata": {},
   "outputs": [
    {
     "data": {
      "text/plain": [
       "array([1, 3, 5, 7, 9])"
      ]
     },
     "execution_count": 2,
     "metadata": {},
     "output_type": "execute_result"
    }
   ],
   "source": [
    "# 使用np.array()函式建立一個NumPy一維陣列A，包含五個整數元素\n",
    "A = np.array([1, 3, 5, 7, 9])\n",
    "\n",
    "# 輸出陣列A的值\n",
    "A"
   ]
  },
  {
   "cell_type": "code",
   "execution_count": 3,
   "metadata": {},
   "outputs": [
    {
     "name": "stdout",
     "output_type": "stream",
     "text": [
      "[1 3 5 7 9]\n"
     ]
    }
   ],
   "source": [
    "# 輸出陣列A的值\n",
    "print(A)"
   ]
  },
  {
   "cell_type": "code",
   "execution_count": 4,
   "metadata": {},
   "outputs": [
    {
     "data": {
      "text/plain": [
       "numpy.ndarray"
      ]
     },
     "execution_count": 4,
     "metadata": {},
     "output_type": "execute_result"
    }
   ],
   "source": [
    "# 輸出陣列A的資料型別(會輸出numpy.ndarray，表示A是NumPy陣列物件)\n",
    "type(A)"
   ]
  },
  {
   "cell_type": "code",
   "execution_count": 5,
   "metadata": {},
   "outputs": [
    {
     "data": {
      "text/plain": [
       "1"
      ]
     },
     "execution_count": 5,
     "metadata": {},
     "output_type": "execute_result"
    }
   ],
   "source": [
    "# 輸出陣列A的維度(代表陣列有幾個維度，例如一維陣列ndim = 1)\n",
    "A.ndim"
   ]
  },
  {
   "cell_type": "code",
   "execution_count": 6,
   "metadata": {},
   "outputs": [
    {
     "data": {
      "text/plain": [
       "(5,)"
      ]
     },
     "execution_count": 6,
     "metadata": {},
     "output_type": "execute_result"
    }
   ],
   "source": [
    "# 輸出陣列A的形狀(以元組tuple形式呈現陣列每個維度的大小，例如(5,)表示有五個元素的一維陣列)\n",
    "A.shape"
   ]
  },
  {
   "cell_type": "code",
   "execution_count": 7,
   "metadata": {},
   "outputs": [
    {
     "data": {
      "text/plain": [
       "5"
      ]
     },
     "execution_count": 7,
     "metadata": {},
     "output_type": "execute_result"
    }
   ],
   "source": [
    "# 輸出陣列A的元素個數(陣列中所有元素的總數)\n",
    "A.size"
   ]
  },
  {
   "cell_type": "code",
   "execution_count": 8,
   "metadata": {},
   "outputs": [
    {
     "data": {
      "text/plain": [
       "dtype('int64')"
      ]
     },
     "execution_count": 8,
     "metadata": {},
     "output_type": "execute_result"
    }
   ],
   "source": [
    "# 輸出陣列A中元素的資料型別(int64表示64位元整數)\n",
    "A.dtype"
   ]
  },
  {
   "cell_type": "code",
   "execution_count": 9,
   "metadata": {},
   "outputs": [
    {
     "data": {
      "text/plain": [
       "8"
      ]
     },
     "execution_count": 9,
     "metadata": {},
     "output_type": "execute_result"
    }
   ],
   "source": [
    "# 輸出陣列A中每個元素所佔的記憶體大小(單位：位元組bytes)\n",
    "A.itemsize"
   ]
  },
  {
   "cell_type": "code",
   "execution_count": 10,
   "metadata": {},
   "outputs": [
    {
     "name": "stdout",
     "output_type": "stream",
     "text": [
      "1\n"
     ]
    }
   ],
   "source": [
    "# 輸出陣列A的第一個元素(索引從0開始)\n",
    "print(A[0])"
   ]
  },
  {
   "cell_type": "code",
   "execution_count": 11,
   "metadata": {},
   "outputs": [
    {
     "data": {
      "text/plain": [
       "array([5, 7, 9])"
      ]
     },
     "execution_count": 11,
     "metadata": {},
     "output_type": "execute_result"
    }
   ],
   "source": [
    "# 輸出從索引2開始到陣列結尾的所有元素(包含索引2)\n",
    "A[2:]"
   ]
  },
  {
   "cell_type": "code",
   "execution_count": 12,
   "metadata": {},
   "outputs": [
    {
     "data": {
      "text/plain": [
       "array([1, 3])"
      ]
     },
     "execution_count": 12,
     "metadata": {},
     "output_type": "execute_result"
    }
   ],
   "source": [
    "# 輸出從陣列開始到索引2(不包含索引2)的元素\n",
    "A[:2]"
   ]
  },
  {
   "cell_type": "code",
   "execution_count": 13,
   "metadata": {},
   "outputs": [
    {
     "data": {
      "text/plain": [
       "array([5, 7, 9])"
      ]
     },
     "execution_count": 13,
     "metadata": {},
     "output_type": "execute_result"
    }
   ],
   "source": [
    "# 輸出從索引2到索引5(不包含索引5)的元素\n",
    "A[2:5]"
   ]
  },
  {
   "cell_type": "code",
   "execution_count": 14,
   "metadata": {},
   "outputs": [
    {
     "name": "stdout",
     "output_type": "stream",
     "text": [
      "7\n"
     ]
    }
   ],
   "source": [
    "# 輸出陣列A的倒數第二個元素(負索引代表從尾巴數起)\n",
    "print(A[-2])"
   ]
  },
  {
   "cell_type": "code",
   "execution_count": 15,
   "metadata": {},
   "outputs": [
    {
     "data": {
      "text/plain": [
       "dtype('int64')"
      ]
     },
     "execution_count": 15,
     "metadata": {},
     "output_type": "execute_result"
    }
   ],
   "source": [
    "# 使用np.array()函式建立一個NumPy一維陣列A，包含五個整數元素\n",
    "A = np.array([1, 6, 8, 3, 9])\n",
    "\n",
    "# 輸出陣列A中元素的資料型別(int64表示64位元整數)\n",
    "A.dtype"
   ]
  },
  {
   "cell_type": "code",
   "execution_count": 16,
   "metadata": {},
   "outputs": [
    {
     "name": "stdout",
     "output_type": "stream",
     "text": [
      "[1 6 8 3 9]\n"
     ]
    }
   ],
   "source": [
    "# 輸出陣列A的內容\n",
    "print(A)"
   ]
  },
  {
   "cell_type": "code",
   "execution_count": 17,
   "metadata": {},
   "outputs": [
    {
     "data": {
      "text/plain": [
       "dtype('int16')"
      ]
     },
     "execution_count": 17,
     "metadata": {},
     "output_type": "execute_result"
    }
   ],
   "source": [
    "# 使用np.array()函式建立一個NumPy一維陣列A，包含五個整數元素，並指定資料型別為16位元整數(int16)\n",
    "A = np.array([1, 6, 8, 3, 9], dtype = np.int16)\n",
    "\n",
    "# 輸出陣列A中元素的資料型別(int16表示16位元整數)\n",
    "A.dtype"
   ]
  },
  {
   "cell_type": "code",
   "execution_count": 18,
   "metadata": {},
   "outputs": [
    {
     "data": {
      "text/plain": [
       "dtype('float64')"
      ]
     },
     "execution_count": 18,
     "metadata": {},
     "output_type": "execute_result"
    }
   ],
   "source": [
    "# 使用np.array()函式建立一個NumPy一維陣列B，包含三個浮點數元素\n",
    "B = np.array([1.2, -3.5, 7.6])\n",
    "\n",
    "# 輸出陣列B中元素的資料型別(float64表示64位元浮點數)\n",
    "B.dtype"
   ]
  },
  {
   "cell_type": "code",
   "execution_count": 19,
   "metadata": {},
   "outputs": [
    {
     "data": {
      "text/plain": [
       "dtype('<U3')"
      ]
     },
     "execution_count": 19,
     "metadata": {},
     "output_type": "execute_result"
    }
   ],
   "source": [
    "# 使用np.array()函式建立一個NumPy一維陣列C，包含三個字串元素\n",
    "C = np.array([\"cat\", \"dog\", \"pig\"])\n",
    "\n",
    "# 輸出陣列C中元素的資料型別(<U3表示每個字串最多為3個Unicode字元)\n",
    "C.dtype"
   ]
  },
  {
   "cell_type": "code",
   "execution_count": 20,
   "metadata": {},
   "outputs": [
    {
     "data": {
      "text/plain": [
       "array([0., 0., 0., 0., 0., 0., 0., 0., 0., 0.])"
      ]
     },
     "execution_count": 20,
     "metadata": {},
     "output_type": "execute_result"
    }
   ],
   "source": [
    "# 使用np.zeros()函式建立一個長度為10的NumPy一維陣列，元素全為0，資料型別預設為float64\n",
    "np.zeros(10)"
   ]
  },
  {
   "cell_type": "code",
   "execution_count": 21,
   "metadata": {},
   "outputs": [
    {
     "data": {
      "text/plain": [
       "array([1., 1., 1., 1., 1., 1., 1., 1., 1., 1.])"
      ]
     },
     "execution_count": 21,
     "metadata": {},
     "output_type": "execute_result"
    }
   ],
   "source": [
    "# 使用np.ones()函式建立一個長度為10的NumPy一維陣列，元素全為1，資料型別預設為float64\n",
    "np.ones(10)"
   ]
  },
  {
   "cell_type": "code",
   "execution_count": 22,
   "metadata": {},
   "outputs": [
    {
     "data": {
      "text/plain": [
       "array([1.15175131e-311, 0.00000000e+000, 7.36496231e+271])"
      ]
     },
     "execution_count": 22,
     "metadata": {},
     "output_type": "execute_result"
    }
   ],
   "source": [
    "# 使用np.empty()函式建立一個長度為3的NumPy一維陣列，元素為未初始化的隨機值(內容不確定)\n",
    "np.empty(3)"
   ]
  },
  {
   "cell_type": "code",
   "execution_count": 23,
   "metadata": {},
   "outputs": [
    {
     "data": {
      "text/plain": [
       "array([1, 4, 7])"
      ]
     },
     "execution_count": 23,
     "metadata": {},
     "output_type": "execute_result"
    }
   ],
   "source": [
    "# 使用np.arange()函式建立一個NumPy一維陣列，從1開始(包含1)到小於10結束，間隔值為3，元素型別為整數\n",
    "np.arange(start = 1, stop = 10, step = 3, dtype = int)"
   ]
  },
  {
   "cell_type": "code",
   "execution_count": 24,
   "metadata": {},
   "outputs": [
    {
     "data": {
      "text/plain": [
       "array([0, 1, 2, 3, 4])"
      ]
     },
     "execution_count": 24,
     "metadata": {},
     "output_type": "execute_result"
    }
   ],
   "source": [
    "# 使用np.arange()函式建立一個NumPy一維陣列，從0開始(包含0)到小於5結束，間隔值為1，元素型別為整數\n",
    "np.arange(5, dtype = int)"
   ]
  },
  {
   "cell_type": "code",
   "execution_count": 25,
   "metadata": {},
   "outputs": [
    {
     "data": {
      "text/plain": [
       "array([0. , 0.3, 0.6, 0.9, 1.2, 1.5, 1.8])"
      ]
     },
     "execution_count": 25,
     "metadata": {},
     "output_type": "execute_result"
    }
   ],
   "source": [
    "# 使用np.arange()函式建立一個NumPy一維陣列，從0開始(包含0)，到小於2結束，間隔值為0.3，元素型別為浮點數\n",
    "np.arange(0, 2, 0.3)"
   ]
  },
  {
   "cell_type": "code",
   "execution_count": 26,
   "metadata": {},
   "outputs": [
    {
     "data": {
      "text/plain": [
       "array([0.  , 0.25, 0.5 , 0.75, 1.  , 1.25, 1.5 , 1.75, 2.  ])"
      ]
     },
     "execution_count": 26,
     "metadata": {},
     "output_type": "execute_result"
    }
   ],
   "source": [
    "# 使用np.linspace()函式建立一個NumPy一維陣列，從0到2(包含)，產生9個平均分佈的數值\n",
    "np.linspace(0, 2, 9)"
   ]
  },
  {
   "cell_type": "code",
   "execution_count": 27,
   "metadata": {},
   "outputs": [
    {
     "data": {
      "text/plain": [
       "array([ 20,  40,  60,  80, 100])"
      ]
     },
     "execution_count": 27,
     "metadata": {},
     "output_type": "execute_result"
    }
   ],
   "source": [
    "# 使用np.array()函式建立一個NumPy一維陣列A，包含五個整數元素\n",
    "A = np.array([10, 20, 30, 40, 50])\n",
    "\n",
    "# 使用np.array()函式建立一個NumPy一維陣列B，包含五個整數元素\n",
    "B = np.array([1, 2, 3, 4, 5])\n",
    "\n",
    "# 對陣列A的每個元素乘以2\n",
    "A * 2"
   ]
  },
  {
   "cell_type": "code",
   "execution_count": 28,
   "metadata": {},
   "outputs": [
    {
     "data": {
      "text/plain": [
       "array([ 100,  400,  900, 1600, 2500])"
      ]
     },
     "execution_count": 28,
     "metadata": {},
     "output_type": "execute_result"
    }
   ],
   "source": [
    "# 對陣列A的每個元素做平方運算\n",
    "A ** 2"
   ]
  },
  {
   "cell_type": "code",
   "execution_count": 29,
   "metadata": {},
   "outputs": [
    {
     "data": {
      "text/plain": [
       "array([ True,  True,  True, False, False])"
      ]
     },
     "execution_count": 29,
     "metadata": {},
     "output_type": "execute_result"
    }
   ],
   "source": [
    "# 對陣列A的每個元素進行比較，判斷元素是否小於35，並傳回布林陣列(True、False)\n",
    "A < 35"
   ]
  },
  {
   "cell_type": "code",
   "execution_count": 30,
   "metadata": {},
   "outputs": [
    {
     "data": {
      "text/plain": [
       "array([11, 22, 33, 44, 55])"
      ]
     },
     "execution_count": 30,
     "metadata": {},
     "output_type": "execute_result"
    }
   ],
   "source": [
    "# 對陣列A和B做矩陣相加，並產生新陣列\n",
    "A + B"
   ]
  },
  {
   "cell_type": "code",
   "execution_count": 31,
   "metadata": {},
   "outputs": [
    {
     "data": {
      "text/plain": [
       "array([ 9, 18, 27, 36, 45])"
      ]
     },
     "execution_count": 31,
     "metadata": {},
     "output_type": "execute_result"
    }
   ],
   "source": [
    "# 對陣列A和B做矩陣相減，並產生新陣列\n",
    "A - B"
   ]
  },
  {
   "cell_type": "code",
   "execution_count": 32,
   "metadata": {},
   "outputs": [
    {
     "data": {
      "text/plain": [
       "array([ 10,  40,  90, 160, 250])"
      ]
     },
     "execution_count": 32,
     "metadata": {},
     "output_type": "execute_result"
    }
   ],
   "source": [
    "# 對陣列A和B做矩陣相乘，並產生新陣列\n",
    "A * B"
   ]
  },
  {
   "cell_type": "code",
   "execution_count": 33,
   "metadata": {},
   "outputs": [
    {
     "data": {
      "text/plain": [
       "array([10., 10., 10., 10., 10.])"
      ]
     },
     "execution_count": 33,
     "metadata": {},
     "output_type": "execute_result"
    }
   ],
   "source": [
    "# 對陣列A和B做矩陣相除，並產生新陣列\n",
    "A / B"
   ]
  },
  {
   "cell_type": "code",
   "execution_count": 34,
   "metadata": {},
   "outputs": [
    {
     "data": {
      "text/plain": [
       "array([ True,  True,  True,  True,  True])"
      ]
     },
     "execution_count": 34,
     "metadata": {},
     "output_type": "execute_result"
    }
   ],
   "source": [
    "# 對陣列A和B做元素對應比較，判斷A中的元素是否大於B中的元素，並傳回布林陣列(True、False)\n",
    "A > B"
   ]
  },
  {
   "cell_type": "code",
   "execution_count": 35,
   "metadata": {},
   "outputs": [
    {
     "data": {
      "text/plain": [
       "array([100,  20,  30,  40,  50])"
      ]
     },
     "execution_count": 35,
     "metadata": {},
     "output_type": "execute_result"
    }
   ],
   "source": [
    "# 將陣列A的第一個元素設定為100\n",
    "A[0] = 100\n",
    "\n",
    "# 輸出修改後的陣列A\n",
    "A"
   ]
  },
  {
   "cell_type": "code",
   "execution_count": 36,
   "metadata": {},
   "outputs": [
    {
     "data": {
      "text/plain": [
       "array([70, 70, 30, 40, 50])"
      ]
     },
     "execution_count": 36,
     "metadata": {},
     "output_type": "execute_result"
    }
   ],
   "source": [
    "# 將陣列A的第一個與第二個元素設定為70\n",
    "A[[0, 1]] = 70\n",
    "\n",
    "# 輸出再次修改後的陣列A\n",
    "A"
   ]
  },
  {
   "cell_type": "code",
   "execution_count": 37,
   "metadata": {},
   "outputs": [
    {
     "data": {
      "text/plain": [
       "array([ 10, 100,  20,  30,  40,  50])"
      ]
     },
     "execution_count": 37,
     "metadata": {},
     "output_type": "execute_result"
    }
   ],
   "source": [
    "# 使用np.array()函式建立一個NumPy一維陣列A，包含五個整數元素\n",
    "A = np.array([10, 20, 30, 40, 50])\n",
    "\n",
    "# 使用np.insert()函式在陣列A的索引位置1插入值100，並傳回插入後的新陣列C\n",
    "C = np.insert(A, 1, 100)\n",
    "\n",
    "# 輸出插入元素後的新陣列C\n",
    "C"
   ]
  },
  {
   "cell_type": "code",
   "execution_count": 38,
   "metadata": {},
   "outputs": [
    {
     "data": {
      "text/plain": [
       "array([10,  7, 20, 30,  7, 40, 50])"
      ]
     },
     "execution_count": 38,
     "metadata": {},
     "output_type": "execute_result"
    }
   ],
   "source": [
    "# 使用np.insert()函式在陣列A的索引位置1和3插入值7，並傳回插入後的新陣列D\n",
    "D = np.insert(A, [1, 3], 7)\n",
    "\n",
    "# 輸出插入元素後的新陣列D\n",
    "D"
   ]
  },
  {
   "cell_type": "code",
   "execution_count": 39,
   "metadata": {},
   "outputs": [
    {
     "data": {
      "text/plain": [
       "array([10, 20, 40, 50])"
      ]
     },
     "execution_count": 39,
     "metadata": {},
     "output_type": "execute_result"
    }
   ],
   "source": [
    "# 使用np.array()函式建立一個NumPy一維陣列A，包含五個整數元素\n",
    "A = np.array([10, 20, 30, 40, 50])\n",
    "\n",
    "# 使用np.delete()函式刪除陣列A中索引位置為2的元素，並傳回刪除後的新陣列C\n",
    "C = np.delete(A, 2)\n",
    "\n",
    "# 輸出刪除元素後的新陣列C\n",
    "C"
   ]
  },
  {
   "cell_type": "code",
   "execution_count": 40,
   "metadata": {},
   "outputs": [
    {
     "data": {
      "text/plain": [
       "array([10, 30, 50])"
      ]
     },
     "execution_count": 40,
     "metadata": {},
     "output_type": "execute_result"
    }
   ],
   "source": [
    "# 使用np.delete()函式刪除陣列A中索引位置為1和3的元素，並傳回刪除後的新陣列D\n",
    "D = np.delete(A, [1, 3])\n",
    "\n",
    "# 輸出刪除元素後的新陣列D\n",
    "D"
   ]
  },
  {
   "cell_type": "code",
   "execution_count": 41,
   "metadata": {},
   "outputs": [
    {
     "data": {
      "text/plain": [
       "array([1, 2, 3, 4, 5])"
      ]
     },
     "execution_count": 41,
     "metadata": {},
     "output_type": "execute_result"
    }
   ],
   "source": [
    "# 使用np.array()函式建立一個NumPy一維陣列A，包含三個整數元素\n",
    "A = np.array([1, 2, 3])\n",
    "\n",
    "# 使用np.array()函式建立一個NumPy一維陣列B，包含兩個整數元素\n",
    "B = np.array([4, 5])\n",
    "\n",
    "# 使用np.concatenate()函式串接陣列A和B，並傳回產生的新陣列C\n",
    "C = np.concatenate((A, B))\n",
    "\n",
    "# 輸出串接後的新陣列C\n",
    "C"
   ]
  },
  {
   "cell_type": "code",
   "execution_count": 42,
   "metadata": {},
   "outputs": [
    {
     "data": {
      "text/plain": [
       "array([ 1,  2,  3, 10, 20])"
      ]
     },
     "execution_count": 42,
     "metadata": {},
     "output_type": "execute_result"
    }
   ],
   "source": [
    "# 使用np.concatenate()函式串接陣列A和另一個NumPy陣列[10, 20]，並傳回產生的新陣列D\n",
    "D = np.concatenate((A, [10, 20]))\n",
    "\n",
    "# 輸出串接後的新陣列D\n",
    "D"
   ]
  },
  {
   "cell_type": "code",
   "execution_count": 43,
   "metadata": {},
   "outputs": [
    {
     "name": "stdout",
     "output_type": "stream",
     "text": [
      "4\n"
     ]
    }
   ],
   "source": [
    "# 使用np.array()函式建立一個NumPy一維陣列U，包含三個整數元素\n",
    "U = np.array([1, 2, 3])\n",
    "\n",
    "# 使用np.array()函式建立一個NumPy一維陣列V，包含三個整數元素\n",
    "V = np.array([1, 0, 1])\n",
    "\n",
    "# 使用np.inner()函式計算並輸出陣列U和V的內積\n",
    "print(np.inner(U, V))"
   ]
  },
  {
   "cell_type": "code",
   "execution_count": 44,
   "metadata": {},
   "outputs": [
    {
     "data": {
      "text/plain": [
       "array([ 2,  2, -2])"
      ]
     },
     "execution_count": 44,
     "metadata": {},
     "output_type": "execute_result"
    }
   ],
   "source": [
    "# 使用np.cross()函式計算並輸出陣列U和V的叉積(只適用於三維向量)\n",
    "np.cross(U, V)"
   ]
  },
  {
   "cell_type": "code",
   "execution_count": 45,
   "metadata": {},
   "outputs": [
    {
     "data": {
      "text/plain": [
       "array([[1, 0, 1],\n",
       "       [2, 0, 2],\n",
       "       [3, 0, 3]])"
      ]
     },
     "execution_count": 45,
     "metadata": {},
     "output_type": "execute_result"
    }
   ],
   "source": [
    "# 使用np.outer()函式計算並輸出陣列U和V的外積\n",
    "np.outer(U, V)"
   ]
  },
  {
   "cell_type": "code",
   "execution_count": 46,
   "metadata": {},
   "outputs": [
    {
     "data": {
      "text/plain": [
       "array([10, 20, 30, 40, 50])"
      ]
     },
     "execution_count": 46,
     "metadata": {},
     "output_type": "execute_result"
    }
   ],
   "source": [
    "# 使用np.array()函式建立一個NumPy一維陣列A，包含五個整數元素\n",
    "A = np.array([10, 20, 30, 40, 50])\n",
    "\n",
    "# 輸出陣列A的值\n",
    "A"
   ]
  },
  {
   "cell_type": "code",
   "execution_count": 47,
   "metadata": {},
   "outputs": [
    {
     "data": {
      "text/plain": [
       "array([0., 0., 0., 0., 0.])"
      ]
     },
     "execution_count": 47,
     "metadata": {},
     "output_type": "execute_result"
    }
   ],
   "source": [
    "# 使用np.zeros()函式建立一個長度為5的NumPy一維陣列B，元素全為0，資料型別預設為float64\n",
    "B = np.zeros(5)\n",
    "\n",
    "# 輸出陣列B的值\n",
    "B"
   ]
  },
  {
   "cell_type": "code",
   "execution_count": 48,
   "metadata": {},
   "outputs": [
    {
     "data": {
      "text/plain": [
       "array([1., 1., 1., 1., 1.])"
      ]
     },
     "execution_count": 48,
     "metadata": {},
     "output_type": "execute_result"
    }
   ],
   "source": [
    "# 使用np.ones()函式建立一個長度為5的NumPy一維陣列C，元素全為1，資料型別預設為float64\n",
    "C = np.ones(5)\n",
    "\n",
    "# 輸出陣列C的值\n",
    "C"
   ]
  },
  {
   "cell_type": "code",
   "execution_count": 49,
   "metadata": {},
   "outputs": [
    {
     "data": {
      "text/plain": [
       "array([4.9e-324, 9.9e-324, 1.5e-323])"
      ]
     },
     "execution_count": 49,
     "metadata": {},
     "output_type": "execute_result"
    }
   ],
   "source": [
    "# 使用np.empty()函式建立一個長度為3的NumPy一維陣列D，元素為未初始化的隨機值(內容不確定)\n",
    "D = np.empty(3)\n",
    "\n",
    "# 輸出陣列D的值\n",
    "D"
   ]
  },
  {
   "cell_type": "code",
   "execution_count": 50,
   "metadata": {},
   "outputs": [
    {
     "data": {
      "text/plain": [
       "array([ 10, 100,  20,  30,  40,  50])"
      ]
     },
     "execution_count": 50,
     "metadata": {},
     "output_type": "execute_result"
    }
   ],
   "source": [
    "# 使用np.insert()函式在陣列A的索引位置1插入值100，並傳回插入後的新陣列E\n",
    "E = np.insert(A, 1, 100)\n",
    "\n",
    "# 輸出插入元素後的新陣列E\n",
    "E"
   ]
  },
  {
   "cell_type": "code",
   "execution_count": 51,
   "metadata": {},
   "outputs": [
    {
     "data": {
      "text/plain": [
       "array([10, 20, 40, 50])"
      ]
     },
     "execution_count": 51,
     "metadata": {},
     "output_type": "execute_result"
    }
   ],
   "source": [
    "# 使用np.delete()函式刪除陣列A中索引位置為2的元素，並傳回刪除後的新陣列C\n",
    "C = np.delete(A, 2)\n",
    "\n",
    "# 輸出刪除元素後的新陣列C\n",
    "C"
   ]
  },
  {
   "cell_type": "code",
   "execution_count": 52,
   "metadata": {},
   "outputs": [
    {
     "data": {
      "text/plain": [
       "array([ 10,  20,  40,  50,  10, 100,  20,  30,  40,  50])"
      ]
     },
     "execution_count": 52,
     "metadata": {},
     "output_type": "execute_result"
    }
   ],
   "source": [
    "# 使用np.concatenate()函式串接陣列C和E，並傳回產生的新陣列F\n",
    "F = np.concatenate((C, E))\n",
    "\n",
    "# 輸出串接後的新陣列F\n",
    "F"
   ]
  },
  {
   "cell_type": "code",
   "execution_count": 53,
   "metadata": {},
   "outputs": [
    {
     "name": "stdout",
     "output_type": "stream",
     "text": [
      "80\n"
     ]
    }
   ],
   "source": [
    "# 使用np.array()函式建立一個NumPy一維陣列U，包含三個整數元素\n",
    "U = np.array([1, 2, 3])\n",
    "\n",
    "# 使用np.array()函式建立一個NumPy一維陣列V，包含三個整數元素\n",
    "V = np.array([10, 5, 20])\n",
    "\n",
    "# 使用np.inner()函式計算陣列U和V的內積，並將結果存放到變數X中\n",
    "X = np.inner(U, V)\n",
    "\n",
    "# 輸出內積結果\n",
    "print(X)"
   ]
  },
  {
   "cell_type": "code",
   "execution_count": 54,
   "metadata": {},
   "outputs": [
    {
     "data": {
      "text/plain": [
       "array([ 25,  10, -15])"
      ]
     },
     "execution_count": 54,
     "metadata": {},
     "output_type": "execute_result"
    }
   ],
   "source": [
    "# 使用np.cross()函式計算陣列U和V的叉積(只適用於三維向量)，並將結果存放到變數Y中\n",
    "Y = np.cross(U, V)\n",
    "\n",
    "# 輸出叉積結果\n",
    "Y"
   ]
  },
  {
   "cell_type": "code",
   "execution_count": 55,
   "metadata": {},
   "outputs": [
    {
     "data": {
      "text/plain": [
       "array([[10,  5, 20],\n",
       "       [20, 10, 40],\n",
       "       [30, 15, 60]])"
      ]
     },
     "execution_count": 55,
     "metadata": {},
     "output_type": "execute_result"
    }
   ],
   "source": [
    "# 使用np.outer()函式計算陣列U和V的外積，並將結果存放到變數Z中\n",
    "Z = np.outer(U, V)\n",
    "\n",
    "# 輸出外積結果\n",
    "Z"
   ]
  },
  {
   "cell_type": "code",
   "execution_count": 56,
   "metadata": {},
   "outputs": [
    {
     "name": "stdout",
     "output_type": "stream",
     "text": [
      "[[ 95 100 100]\n",
      " [ 86  90  75]\n",
      " [ 98  98  96]\n",
      " [ 78  90  80]\n",
      " [ 70  68  72]]\n"
     ]
    }
   ],
   "source": [
    "# 使用np.array()函式建立一個5x3的NumPy二維陣列grades，包含十五個整數元素(5位學生的三筆成績)\n",
    "grades = np.array([[95, 100, 100],  # 第1位學生的成績\n",
    "                   [86, 90, 75],    # 第2位學生的成績\n",
    "                   [98, 98, 96],    # 第3位學生的成績\n",
    "                   [78, 90, 80],    # 第4位學生的成績\n",
    "                   [70, 68, 72]])   # 第5位學生的成績\n",
    "\n",
    "# 輸出陣列grades的值\n",
    "print(grades)"
   ]
  },
  {
   "cell_type": "code",
   "execution_count": 57,
   "metadata": {},
   "outputs": [
    {
     "data": {
      "text/plain": [
       "array([ 95, 100, 100])"
      ]
     },
     "execution_count": 57,
     "metadata": {},
     "output_type": "execute_result"
    }
   ],
   "source": [
    "# 輸出陣列grades的第一列(第1位學生的所有成績)\n",
    "grades[0, ]"
   ]
  },
  {
   "cell_type": "code",
   "execution_count": 58,
   "metadata": {},
   "outputs": [
    {
     "name": "stdout",
     "output_type": "stream",
     "text": [
      "95\n"
     ]
    }
   ],
   "source": [
    "# 輸出陣列grades的第1位學生的第1科成績(第0列第0欄)\n",
    "print(grades[0, 0])"
   ]
  },
  {
   "cell_type": "code",
   "execution_count": 59,
   "metadata": {},
   "outputs": [
    {
     "name": "stdout",
     "output_type": "stream",
     "text": [
      "75\n"
     ]
    }
   ],
   "source": [
    "# 輸出陣列grades的第2位學生的第3科成績(第1列第2欄）\n",
    "print(grades[1, 2])"
   ]
  },
  {
   "cell_type": "code",
   "execution_count": 60,
   "metadata": {},
   "outputs": [
    {
     "name": "stdout",
     "output_type": "stream",
     "text": [
      "[[ 1  2  3]\n",
      " [ 4  5  6]\n",
      " [ 7  8  9]\n",
      " [10 11 12]]\n"
     ]
    }
   ],
   "source": [
    "# 使用np.array()函式建立一個4x3的NumPy二維陣列A，包含十二個整數元素\n",
    "A = np.array([[1, 2, 3], [4, 5, 6], [7, 8, 9], [10, 11, 12]])\n",
    "\n",
    "# 輸出陣列A的值\n",
    "print(A)"
   ]
  },
  {
   "cell_type": "code",
   "execution_count": 61,
   "metadata": {},
   "outputs": [
    {
     "name": "stdout",
     "output_type": "stream",
     "text": [
      "[[ 1  2  3]\n",
      " [ 4  5  6]\n",
      " [ 7  8  9]\n",
      " [10 11 12]]\n"
     ]
    }
   ],
   "source": [
    "# 使用np.array()函式建立一個NumPy一維陣列A，包含十二個整數元素，並使用reshape()方法改成4x3的二維陣列A\n",
    "A = np.array([1, 2, 3, 4, 5, 6, 7, 8, 9, 10, 11, 12]).reshape(4, 3)\n",
    "\n",
    "# 輸出陣列A的值\n",
    "print(A)"
   ]
  },
  {
   "cell_type": "code",
   "execution_count": 62,
   "metadata": {},
   "outputs": [
    {
     "data": {
      "text/plain": [
       "array([[0., 0., 0., 0., 0.],\n",
       "       [0., 0., 0., 0., 0.],\n",
       "       [0., 0., 0., 0., 0.]])"
      ]
     },
     "execution_count": 62,
     "metadata": {},
     "output_type": "execute_result"
    }
   ],
   "source": [
    "# 使用np.zeros()函式建立一個3x5的NumPy二維陣列，元素全為0，資料型別預設為float64\n",
    "np.zeros((3, 5))"
   ]
  },
  {
   "cell_type": "code",
   "execution_count": 63,
   "metadata": {},
   "outputs": [
    {
     "data": {
      "text/plain": [
       "array([[1., 1., 1., 1., 1.],\n",
       "       [1., 1., 1., 1., 1.],\n",
       "       [1., 1., 1., 1., 1.]])"
      ]
     },
     "execution_count": 63,
     "metadata": {},
     "output_type": "execute_result"
    }
   ],
   "source": [
    "# 使用np.ones()函式建立一個3x5的NumPy二維陣列，元素全為1，資料型別預設為float64\n",
    "np.ones((3, 5))"
   ]
  },
  {
   "cell_type": "code",
   "execution_count": 64,
   "metadata": {},
   "outputs": [
    {
     "data": {
      "text/plain": [
       "array([[6.23042070e-307, 4.67296746e-307, 1.69121096e-306],\n",
       "       [1.33511018e-306, 1.89146896e-307, 7.56571288e-307]])"
      ]
     },
     "execution_count": 64,
     "metadata": {},
     "output_type": "execute_result"
    }
   ],
   "source": [
    "# 使用np.empty()函式建立一個2x3的NumPy二維陣列，元素為未初始化的隨機值(內容不確定)\n",
    "np.empty((2, 3))"
   ]
  },
  {
   "cell_type": "code",
   "execution_count": 65,
   "metadata": {},
   "outputs": [
    {
     "data": {
      "text/plain": [
       "array([[ 0,  1,  2,  3,  4],\n",
       "       [ 5,  6,  7,  8,  9],\n",
       "       [10, 11, 12, 13, 14]])"
      ]
     },
     "execution_count": 65,
     "metadata": {},
     "output_type": "execute_result"
    }
   ],
   "source": [
    "# 使用np.arange()函式建立一個NumPy一維陣列，從0開始(包含0)到小於15結束，間隔值為1，並使用reshape()方法改成3x5的二維陣列\n",
    "np.arange(15).reshape(3, 5)"
   ]
  },
  {
   "cell_type": "code",
   "execution_count": 66,
   "metadata": {},
   "outputs": [
    {
     "data": {
      "text/plain": [
       "array([[0.  , 0.25, 0.5 ],\n",
       "       [0.75, 1.  , 1.25],\n",
       "       [1.5 , 1.75, 2.  ]])"
      ]
     },
     "execution_count": 66,
     "metadata": {},
     "output_type": "execute_result"
    }
   ],
   "source": [
    "# 使用np.linspace()函式建立一個NumPy一維陣列，從0到2(包含)，產生9個平均分佈的數值，並使用reshape()方法改成3x3的二維陣列\n",
    "np.linspace(0, 2, 9).reshape(3, 3)"
   ]
  },
  {
   "cell_type": "code",
   "execution_count": 67,
   "metadata": {},
   "outputs": [
    {
     "name": "stdout",
     "output_type": "stream",
     "text": [
      "[[ 1  2  3]\n",
      " [ 4  5  6]\n",
      " [ 7  8  9]\n",
      " [10 11 12]]\n"
     ]
    }
   ],
   "source": [
    "# 使用np.array()函式建立一個NumPy一維陣列A，包含十二個元素，並使用reshape()方法改成4x3的二維陣列A\n",
    "A = np.array([1, 2, 3, 4, 5, 6, 7, 8, 9, 10, 11, 12]).reshape(4, 3)\n",
    "\n",
    "# 輸出陣列A的值\n",
    "print(A)"
   ]
  },
  {
   "cell_type": "code",
   "execution_count": 68,
   "metadata": {},
   "outputs": [
    {
     "data": {
      "text/plain": [
       "2"
      ]
     },
     "execution_count": 68,
     "metadata": {},
     "output_type": "execute_result"
    }
   ],
   "source": [
    "# 輸出陣列A的維度(代表陣列有幾個維度，例如二維陣列ndim = 2)\n",
    "A.ndim"
   ]
  },
  {
   "cell_type": "code",
   "execution_count": 69,
   "metadata": {},
   "outputs": [
    {
     "data": {
      "text/plain": [
       "(4, 3)"
      ]
     },
     "execution_count": 69,
     "metadata": {},
     "output_type": "execute_result"
    }
   ],
   "source": [
    "# 輸出陣列A的形狀(以元組tuple形式呈現陣列每個維度的大小，例如(4, 3)表示有4行3列，共十二個元素的二維陣列)\n",
    "A.shape"
   ]
  },
  {
   "cell_type": "code",
   "execution_count": 70,
   "metadata": {},
   "outputs": [
    {
     "data": {
      "text/plain": [
       "4"
      ]
     },
     "execution_count": 70,
     "metadata": {},
     "output_type": "execute_result"
    }
   ],
   "source": [
    "# 輸出陣列A在第0維的大小(也就是陣列的行數)\n",
    "A.shape[0]"
   ]
  },
  {
   "cell_type": "code",
   "execution_count": 71,
   "metadata": {},
   "outputs": [
    {
     "data": {
      "text/plain": [
       "3"
      ]
     },
     "execution_count": 71,
     "metadata": {},
     "output_type": "execute_result"
    }
   ],
   "source": [
    "# 輸出陣列A在第1維的大小(也就是陣列的列數)\n",
    "A.shape[1]"
   ]
  },
  {
   "cell_type": "code",
   "execution_count": 72,
   "metadata": {},
   "outputs": [
    {
     "data": {
      "text/plain": [
       "12"
      ]
     },
     "execution_count": 72,
     "metadata": {},
     "output_type": "execute_result"
    }
   ],
   "source": [
    "# 輸出陣列A的元素個數(陣列中所有元素的總數)\n",
    "A.size"
   ]
  },
  {
   "cell_type": "code",
   "execution_count": 73,
   "metadata": {},
   "outputs": [
    {
     "data": {
      "text/plain": [
       "dtype('int64')"
      ]
     },
     "execution_count": 73,
     "metadata": {},
     "output_type": "execute_result"
    }
   ],
   "source": [
    "# 輸出陣列A中元素的資料型別(int64表示64位元整數)\n",
    "A.dtype"
   ]
  },
  {
   "cell_type": "code",
   "execution_count": 74,
   "metadata": {},
   "outputs": [
    {
     "data": {
      "text/plain": [
       "8"
      ]
     },
     "execution_count": 74,
     "metadata": {},
     "output_type": "execute_result"
    }
   ],
   "source": [
    "# 輸出陣列A中每個元素所佔的記憶體大小(單位：位元組bytes)\n",
    "A.itemsize"
   ]
  },
  {
   "cell_type": "code",
   "execution_count": 75,
   "metadata": {},
   "outputs": [
    {
     "name": "stdout",
     "output_type": "stream",
     "text": [
      "1\n"
     ]
    }
   ],
   "source": [
    "# 輸出陣列A的第一個元素(索引從0開始，取第0行第0列的元素)\n",
    "print(A[0, 0])"
   ]
  },
  {
   "cell_type": "code",
   "execution_count": 76,
   "metadata": {},
   "outputs": [
    {
     "data": {
      "text/plain": [
       "array([1, 2, 3])"
      ]
     },
     "execution_count": 76,
     "metadata": {},
     "output_type": "execute_result"
    }
   ],
   "source": [
    "# 輸出陣列A的第一行所有元素(使用冒號:表示該維度的全部元素)\n",
    "A[0, :]"
   ]
  },
  {
   "cell_type": "code",
   "execution_count": 77,
   "metadata": {},
   "outputs": [
    {
     "data": {
      "text/plain": [
       "array([ 1,  4,  7, 10])"
      ]
     },
     "execution_count": 77,
     "metadata": {},
     "output_type": "execute_result"
    }
   ],
   "source": [
    "# 輸出陣列A的所有行的第一列所有元素(使用冒號:表示該維度的全部元素)\n",
    "A[:, 0]"
   ]
  },
  {
   "cell_type": "code",
   "execution_count": 78,
   "metadata": {},
   "outputs": [
    {
     "data": {
      "text/plain": [
       "array([4, 7])"
      ]
     },
     "execution_count": 78,
     "metadata": {},
     "output_type": "execute_result"
    }
   ],
   "source": [
    "# 輸出陣列A的第一行到第二行(不包含第三行)中的第一欄元素\n",
    "A[1:3, 0]"
   ]
  },
  {
   "cell_type": "code",
   "execution_count": 79,
   "metadata": {},
   "outputs": [
    {
     "data": {
      "text/plain": [
       "array([[ 7,  8,  9],\n",
       "       [10, 11, 12]])"
      ]
     },
     "execution_count": 79,
     "metadata": {},
     "output_type": "execute_result"
    }
   ],
   "source": [
    "# 輸出陣列A從第二行(含)開始，到最後一行的所有元素(所有欄位)\n",
    "A[2:]"
   ]
  },
  {
   "cell_type": "code",
   "execution_count": 80,
   "metadata": {},
   "outputs": [
    {
     "data": {
      "text/plain": [
       "array([[1, 2, 3],\n",
       "       [4, 5, 6]])"
      ]
     },
     "execution_count": 80,
     "metadata": {},
     "output_type": "execute_result"
    }
   ],
   "source": [
    "# 輸出陣列A的前二行(索引0和1)的所有元素(所有欄位)\n",
    "A[:2]"
   ]
  },
  {
   "cell_type": "code",
   "execution_count": 81,
   "metadata": {},
   "outputs": [
    {
     "data": {
      "text/plain": [
       "array([10, 11, 12])"
      ]
     },
     "execution_count": 81,
     "metadata": {},
     "output_type": "execute_result"
    }
   ],
   "source": [
    "# 輸出陣列A的最後一行(所有欄位的元素)\n",
    "A[-1]"
   ]
  },
  {
   "cell_type": "code",
   "execution_count": 82,
   "metadata": {},
   "outputs": [
    {
     "name": "stdout",
     "output_type": "stream",
     "text": [
      "[11 12 13]\n",
      "[14 15 16]\n",
      "[17 18 19]\n",
      "[20 21 22]\n"
     ]
    }
   ],
   "source": [
    "# 逐行遍歷陣列A，將每行元素加上10後輸出陣列結果\n",
    "for i in A:\n",
    "    print(i + 10)"
   ]
  },
  {
   "cell_type": "code",
   "execution_count": 83,
   "metadata": {},
   "outputs": [
    {
     "data": {
      "text/plain": [
       "array([[2, 4],\n",
       "       [6, 8]])"
      ]
     },
     "execution_count": 83,
     "metadata": {},
     "output_type": "execute_result"
    }
   ],
   "source": [
    "# 使用np.array()函式建立一個2x2的NumPy二維陣列A，包含四個整數元素\n",
    "A = np.array([[1, 2], [3, 4]])\n",
    "\n",
    "# 使用np.array()函式建立一個2x2的NumPy二維陣列B，包含四個整數元素\n",
    "B = np.array([[2, 2], [1, 1]])\n",
    "\n",
    "# 對陣列A的每個元素乘以2\n",
    "A * 2"
   ]
  },
  {
   "cell_type": "code",
   "execution_count": 84,
   "metadata": {},
   "outputs": [
    {
     "data": {
      "text/plain": [
       "array([[False, False],\n",
       "       [ True,  True]])"
      ]
     },
     "execution_count": 84,
     "metadata": {},
     "output_type": "execute_result"
    }
   ],
   "source": [
    "# 判斷陣列A中的每個元素是否大於2，並傳回布林陣列(True、False)\n",
    "A > 2"
   ]
  },
  {
   "cell_type": "code",
   "execution_count": 85,
   "metadata": {},
   "outputs": [
    {
     "data": {
      "text/plain": [
       "array([[3, 4],\n",
       "       [4, 5]])"
      ]
     },
     "execution_count": 85,
     "metadata": {},
     "output_type": "execute_result"
    }
   ],
   "source": [
    "# 對陣列A和B做矩陣相加，並產生新陣列\n",
    "A + B"
   ]
  },
  {
   "cell_type": "code",
   "execution_count": 86,
   "metadata": {},
   "outputs": [
    {
     "data": {
      "text/plain": [
       "array([[-1,  0],\n",
       "       [ 2,  3]])"
      ]
     },
     "execution_count": 86,
     "metadata": {},
     "output_type": "execute_result"
    }
   ],
   "source": [
    "# 對陣列A和B做矩陣相減，並產生新陣列\n",
    "A - B"
   ]
  },
  {
   "cell_type": "code",
   "execution_count": 87,
   "metadata": {},
   "outputs": [
    {
     "data": {
      "text/plain": [
       "array([[2, 4],\n",
       "       [3, 4]])"
      ]
     },
     "execution_count": 87,
     "metadata": {},
     "output_type": "execute_result"
    }
   ],
   "source": [
    "# 對陣列A和B做矩陣相乘，並產生新陣列\n",
    "A * B"
   ]
  },
  {
   "cell_type": "code",
   "execution_count": 88,
   "metadata": {},
   "outputs": [
    {
     "data": {
      "text/plain": [
       "array([[0.5, 1. ],\n",
       "       [3. , 4. ]])"
      ]
     },
     "execution_count": 88,
     "metadata": {},
     "output_type": "execute_result"
    }
   ],
   "source": [
    "# 對陣列A和B做矩陣相除，並產生新陣列\n",
    "A / B"
   ]
  },
  {
   "cell_type": "code",
   "execution_count": 89,
   "metadata": {},
   "outputs": [
    {
     "name": "stdout",
     "output_type": "stream",
     "text": [
      "[[7 2]\n",
      " [3 4]]\n"
     ]
    }
   ],
   "source": [
    "# 使用np.array()函式建立一個2x2的NumPy二維陣列A，包含四個整數元素\n",
    "A = np.array([[1, 2], [3, 4]])\n",
    "\n",
    "# 將陣列A的第0列第0個元素設定為7\n",
    "A[0, 0] = 7\n",
    "\n",
    "# 輸出修改後的陣列A\n",
    "print(A)"
   ]
  },
  {
   "cell_type": "code",
   "execution_count": 90,
   "metadata": {},
   "outputs": [
    {
     "data": {
      "text/plain": [
       "array([0, 1, 2, 3, 4, 5])"
      ]
     },
     "execution_count": 90,
     "metadata": {},
     "output_type": "execute_result"
    }
   ],
   "source": [
    "# 使用np.array()函式建立一個2x3的NumPy二維陣列A，包含六個整數元素\n",
    "A = np.array([[0, 1, 2], [3, 4, 5]])\n",
    "\n",
    "# 使用ravel()方法將二維陣列攤平成一維陣列\n",
    "A.ravel()"
   ]
  },
  {
   "cell_type": "code",
   "execution_count": 91,
   "metadata": {},
   "outputs": [
    {
     "data": {
      "text/plain": [
       "array([[0, 1],\n",
       "       [2, 3],\n",
       "       [4, 5]])"
      ]
     },
     "execution_count": 91,
     "metadata": {},
     "output_type": "execute_result"
    }
   ],
   "source": [
    "# 使用reshape()方法將陣列A改成3x2的二維陣列\n",
    "A.reshape(3, 2)"
   ]
  },
  {
   "cell_type": "code",
   "execution_count": 92,
   "metadata": {},
   "outputs": [
    {
     "data": {
      "text/plain": [
       "array([[0, 1],\n",
       "       [2, 3],\n",
       "       [4, 5]])"
      ]
     },
     "execution_count": 92,
     "metadata": {},
     "output_type": "execute_result"
    }
   ],
   "source": [
    "# 使用resize()方法直接改變陣列A的形狀為3x2的二維陣列(原地修改，無傳回值)\n",
    "A.resize(3, 2)\n",
    "\n",
    "# 輸出陣列A的值\n",
    "A"
   ]
  },
  {
   "cell_type": "code",
   "execution_count": 93,
   "metadata": {},
   "outputs": [
    {
     "data": {
      "text/plain": [
       "array([[ 0,  1,  2,  3,  4,  5,  6,  7],\n",
       "       [ 8,  9, 10, 11, 12, 13, 14, 15]])"
      ]
     },
     "execution_count": 93,
     "metadata": {},
     "output_type": "execute_result"
    }
   ],
   "source": [
    "# 使用np.arange()函式建立一個NumPy一維陣列A，從0開始(包含0)到小於16結束，間隔值為1，並使用reshape()方法改成2x8的二維陣列\n",
    "A = np.arange(16).reshape(2, 8)\n",
    "\n",
    "# 輸出陣列A的值\n",
    "A"
   ]
  },
  {
   "cell_type": "code",
   "execution_count": 94,
   "metadata": {},
   "outputs": [
    {
     "data": {
      "text/plain": [
       "[array([[0, 1],\n",
       "        [8, 9]]),\n",
       " array([[ 2,  3],\n",
       "        [10, 11]]),\n",
       " array([[ 4,  5],\n",
       "        [12, 13]]),\n",
       " array([[ 6,  7],\n",
       "        [14, 15]])]"
      ]
     },
     "execution_count": 94,
     "metadata": {},
     "output_type": "execute_result"
    }
   ],
   "source": [
    "# 使用np.hsplit()函式將陣列A沿水平方向(水平分割)分成4個子陣列，並傳回包含4個子陣列的列表\n",
    "np.hsplit(A, 4)"
   ]
  },
  {
   "cell_type": "code",
   "execution_count": 95,
   "metadata": {},
   "outputs": [
    {
     "data": {
      "text/plain": [
       "[array([[0, 1, 2, 3, 4, 5, 6, 7]]), array([[ 8,  9, 10, 11, 12, 13, 14, 15]])]"
      ]
     },
     "execution_count": 95,
     "metadata": {},
     "output_type": "execute_result"
    }
   ],
   "source": [
    "# 使用np.vsplit()函式將陣列A沿垂直方向(垂直分割)分成2個子陣列，並傳回包含2個子陣列的列表\n",
    "np.vsplit(A, 2)"
   ]
  },
  {
   "cell_type": "code",
   "execution_count": 96,
   "metadata": {},
   "outputs": [
    {
     "data": {
      "text/plain": [
       "array([[0, 1, 4, 5],\n",
       "       [2, 3, 6, 7]])"
      ]
     },
     "execution_count": 96,
     "metadata": {},
     "output_type": "execute_result"
    }
   ],
   "source": [
    "# 使用np.array()函式建立一個2x2的NumPy二維陣列A，包含四個整數元素\n",
    "A = np.array([[0, 1], [2, 3]])\n",
    "\n",
    "# 使用np.array()函式建立一個2x2的NumPy二維陣列B，包含四個整數元素\n",
    "B = np.array([[4, 5], [6, 7]])\n",
    "\n",
    "# 使用np.array()函式建立一個一維NumPy陣列C，包含兩個整數元素\n",
    "C = np.array([8, 9])\n",
    "\n",
    "# 使用np.hstack()函式將陣列A和B沿水平方向(以欄為單位)合併，並產生一個新的二維陣列\n",
    "np.hstack((A, B))"
   ]
  },
  {
   "cell_type": "code",
   "execution_count": 97,
   "metadata": {},
   "outputs": [
    {
     "data": {
      "text/plain": [
       "array([[0, 1],\n",
       "       [2, 3],\n",
       "       [4, 5],\n",
       "       [6, 7]])"
      ]
     },
     "execution_count": 97,
     "metadata": {},
     "output_type": "execute_result"
    }
   ],
   "source": [
    "# 使用np.vstack()函式將陣列A和B沿垂直方向(以列為單位)堆疊，並產生一個新的二維陣列\n",
    "np.vstack((A, B))"
   ]
  },
  {
   "cell_type": "code",
   "execution_count": 98,
   "metadata": {},
   "outputs": [
    {
     "data": {
      "text/plain": [
       "array([[0, 1, 8],\n",
       "       [2, 3, 9]])"
      ]
     },
     "execution_count": 98,
     "metadata": {},
     "output_type": "execute_result"
    }
   ],
   "source": [
    "# 使用np.column_stack()函式將陣列A和C以欄為單位合併，沿水平方向(欄位方向)堆疊，並產生一個新的二維陣列\n",
    "np.column_stack((A, C))"
   ]
  },
  {
   "cell_type": "code",
   "execution_count": 99,
   "metadata": {},
   "outputs": [
    {
     "data": {
      "text/plain": [
       "array([[0, 1],\n",
       "       [2, 3],\n",
       "       [8, 9]])"
      ]
     },
     "execution_count": 99,
     "metadata": {},
     "output_type": "execute_result"
    }
   ],
   "source": [
    "# 使用np.vstack()函式將陣列A和C沿垂直方向(以列為單位)堆疊，並產生一個新的二維陣列\n",
    "np.vstack((A, C))"
   ]
  },
  {
   "cell_type": "code",
   "execution_count": 100,
   "metadata": {},
   "outputs": [
    {
     "name": "stdout",
     "output_type": "stream",
     "text": [
      "[[1 2 3]\n",
      " [4 5 6]]\n"
     ]
    }
   ],
   "source": [
    "# 使用np.array()函式建立一個NumPy一維陣列A，包含六個整數元素，並使用reshape()方法改成2x3的二維陣列A\n",
    "A = np.array([1, 2, 3, 4, 5, 6]).reshape(2, 3)\n",
    "\n",
    "# 輸出陣列A的值\n",
    "print(A)"
   ]
  },
  {
   "cell_type": "code",
   "execution_count": 101,
   "metadata": {},
   "outputs": [
    {
     "name": "stdout",
     "output_type": "stream",
     "text": [
      "[[1 4]\n",
      " [2 5]\n",
      " [3 6]]\n"
     ]
    }
   ],
   "source": [
    "# 使用np.transpose()函式對陣列A進行轉置(將原本的行變成列，列變成行)，並將轉置後的結果存放到二維陣列B\n",
    "B = np.transpose(A)\n",
    "\n",
    "# 輸出轉置後的陣列B\n",
    "print(B)"
   ]
  },
  {
   "cell_type": "code",
   "execution_count": 102,
   "metadata": {},
   "outputs": [
    {
     "name": "stdout",
     "output_type": "stream",
     "text": [
      "[[1 2 3]\n",
      " [4 5 6]]\n"
     ]
    }
   ],
   "source": [
    "# 使用np.array()函式建立一個NumPy一維陣列A，包含六個整數元素，並使用reshape()方法改成2x3的二維陣列A\n",
    "A = np.array([1, 2, 3, 4, 5, 6]).reshape(2, 3)\n",
    "\n",
    "# 輸出陣列A的值\n",
    "print(A)"
   ]
  },
  {
   "cell_type": "code",
   "execution_count": 103,
   "metadata": {},
   "outputs": [
    {
     "name": "stdout",
     "output_type": "stream",
     "text": [
      "[[ 2  4  6]\n",
      " [ 8 10 12]]\n"
     ]
    }
   ],
   "source": [
    "# 對陣列A與自身做矩陣相加，並將結果存放到二維陣列B\n",
    "B = A + A\n",
    "\n",
    "# 輸出陣列B的值\n",
    "print(B)"
   ]
  },
  {
   "cell_type": "code",
   "execution_count": 104,
   "metadata": {},
   "outputs": [
    {
     "name": "stdout",
     "output_type": "stream",
     "text": [
      "[[1 2]\n",
      " [3 4]\n",
      " [5 6]]\n"
     ]
    }
   ],
   "source": [
    "# 使用np.array()函式建立一個NumPy一維陣列A，包含六個整數元素，並使用reshape()方法改成3x2的二維陣列A\n",
    "A = np.array([1, 2, 3, 4, 5, 6]).reshape(3, 2)\n",
    "\n",
    "# 輸出陣列A的值\n",
    "print(A)"
   ]
  },
  {
   "cell_type": "code",
   "execution_count": 105,
   "metadata": {},
   "outputs": [
    {
     "name": "stdout",
     "output_type": "stream",
     "text": [
      "[[1 2 3]\n",
      " [4 5 6]]\n"
     ]
    }
   ],
   "source": [
    "# 使用np.array()函式建立一個NumPy一維陣列B，包含六個整數元素，並使用reshape()方法改成2x3的二維陣列B\n",
    "B = np.array([1, 2, 3, 4, 5, 6]).reshape(2, 3)\n",
    "\n",
    "# 輸出陣列B的值\n",
    "print(B)"
   ]
  },
  {
   "cell_type": "code",
   "execution_count": 106,
   "metadata": {},
   "outputs": [
    {
     "name": "stdout",
     "output_type": "stream",
     "text": [
      "[[ 9 12 15]\n",
      " [19 26 33]\n",
      " [29 40 51]]\n"
     ]
    }
   ],
   "source": [
    "# 使用@符號對陣列A和B做矩陣相乘，並將結果存放到二維陣列C\n",
    "C = A @ B\n",
    "\n",
    "# 輸出陣列C的值\n",
    "print(C)"
   ]
  },
  {
   "cell_type": "code",
   "execution_count": 107,
   "metadata": {},
   "outputs": [
    {
     "name": "stdout",
     "output_type": "stream",
     "text": [
      "[[ 9 12 15]\n",
      " [19 26 33]\n",
      " [29 40 51]]\n"
     ]
    }
   ],
   "source": [
    "# 使用np.dot()函式對陣列A和B做矩陣相乘，並將結果存放到二維陣列C\n",
    "C = np.dot(A, B)\n",
    "\n",
    "# 輸出陣列C的值\n",
    "print(C)"
   ]
  },
  {
   "cell_type": "code",
   "execution_count": 108,
   "metadata": {},
   "outputs": [
    {
     "data": {
      "text/plain": [
       "array([1, 4, 9])"
      ]
     },
     "execution_count": 108,
     "metadata": {},
     "output_type": "execute_result"
    }
   ],
   "source": [
    "# 使用np.array()函式建立一個NumPy一維陣列A，包含三個整數元素\n",
    "A = np.array([1, 2, 3])\n",
    "\n",
    "# 使用np.square()函式對陣列A的每個元素取平方，並將結果存放到二維陣列B\n",
    "B = np.square(A)\n",
    "\n",
    "# 輸出陣列B的值\n",
    "B"
   ]
  },
  {
   "cell_type": "code",
   "execution_count": 109,
   "metadata": {},
   "outputs": [
    {
     "name": "stdout",
     "output_type": "stream",
     "text": [
      "[[1 2]\n",
      " [3 4]\n",
      " [5 6]\n",
      " [7 8]]\n"
     ]
    }
   ],
   "source": [
    "# 使用np.array()函式建立一個NumPy一維陣列A，包含八個整數元素，並使用reshape()方法改成4x2的二維陣列A\n",
    "A = np.array([1, 2, 3, 4, 5, 6, 7, 8]).reshape(4, 2)\n",
    "\n",
    "# 輸出陣列A的值\n",
    "print(A)"
   ]
  },
  {
   "cell_type": "code",
   "execution_count": 110,
   "metadata": {},
   "outputs": [
    {
     "name": "stdout",
     "output_type": "stream",
     "text": [
      "[[1. 1.]\n",
      " [1. 1.]\n",
      " [1. 1.]\n",
      " [1. 1.]]\n"
     ]
    }
   ],
   "source": [
    "# 使用np.ones()函式建立一個4x2的NumPy二維陣列B，元素全為1，資料型別預設為float64\n",
    "B = np.ones((4, 2))\n",
    "\n",
    "# 輸出陣列B的值\n",
    "print(B)"
   ]
  },
  {
   "cell_type": "code",
   "execution_count": 111,
   "metadata": {},
   "outputs": [
    {
     "name": "stdout",
     "output_type": "stream",
     "text": [
      "[[1 2 3]\n",
      " [4 5 6]]\n"
     ]
    }
   ],
   "source": [
    "# 使用np.array()函式建立一個NumPy一維陣列C，包含6個元素，並使用reshape()方法改成2x3的二維陣列C\n",
    "C = np.array([1, 2, 3, 4, 5, 6]).reshape(2, 3)\n",
    "\n",
    "# 輸出陣列C的值\n",
    "print(C)"
   ]
  },
  {
   "cell_type": "code",
   "execution_count": 112,
   "metadata": {},
   "outputs": [
    {
     "data": {
      "text/plain": [
       "2"
      ]
     },
     "execution_count": 112,
     "metadata": {},
     "output_type": "execute_result"
    }
   ],
   "source": [
    "# 輸出陣列A的維度(代表陣列有幾個維度，例如二維陣列ndim = 2)\n",
    "A.ndim"
   ]
  },
  {
   "cell_type": "code",
   "execution_count": 113,
   "metadata": {},
   "outputs": [
    {
     "data": {
      "text/plain": [
       "(4, 2)"
      ]
     },
     "execution_count": 113,
     "metadata": {},
     "output_type": "execute_result"
    }
   ],
   "source": [
    "# 輸出陣列A的形狀(以元組tuple形式呈現陣列每個維度的大小，例如(4, 2)表示有4行2列，共八個元素的二維陣列)\n",
    "A.shape"
   ]
  },
  {
   "cell_type": "code",
   "execution_count": 114,
   "metadata": {},
   "outputs": [
    {
     "data": {
      "text/plain": [
       "4"
      ]
     },
     "execution_count": 114,
     "metadata": {},
     "output_type": "execute_result"
    }
   ],
   "source": [
    "# 輸出陣列A在第0維的大小(也就是陣列的行數)\n",
    "A.shape[0]"
   ]
  },
  {
   "cell_type": "code",
   "execution_count": 115,
   "metadata": {},
   "outputs": [
    {
     "data": {
      "text/plain": [
       "2"
      ]
     },
     "execution_count": 115,
     "metadata": {},
     "output_type": "execute_result"
    }
   ],
   "source": [
    "# 輸出陣列A在第1維的大小(也就是陣列的列數)\n",
    "A.shape[1]"
   ]
  },
  {
   "cell_type": "code",
   "execution_count": 116,
   "metadata": {},
   "outputs": [
    {
     "data": {
      "text/plain": [
       "8"
      ]
     },
     "execution_count": 116,
     "metadata": {},
     "output_type": "execute_result"
    }
   ],
   "source": [
    "# 輸出陣列A的元素個數(陣列中所有元素的總數)\n",
    "A.size"
   ]
  },
  {
   "cell_type": "code",
   "execution_count": 117,
   "metadata": {},
   "outputs": [
    {
     "data": {
      "text/plain": [
       "array([[1., 2.],\n",
       "       [3., 4.],\n",
       "       [5., 6.],\n",
       "       [7., 8.],\n",
       "       [1., 1.],\n",
       "       [1., 1.],\n",
       "       [1., 1.],\n",
       "       [1., 1.]])"
      ]
     },
     "execution_count": 117,
     "metadata": {},
     "output_type": "execute_result"
    }
   ],
   "source": [
    "# 使用np.vstack()函式將陣列A和B沿垂直方向(以列為單位)堆疊，並產生一個新的二維陣列\n",
    "np.vstack((A, B))"
   ]
  },
  {
   "cell_type": "code",
   "execution_count": 118,
   "metadata": {},
   "outputs": [
    {
     "data": {
      "text/plain": [
       "array([[1, 2, 3, 4],\n",
       "       [5, 6, 7, 8]])"
      ]
     },
     "execution_count": 118,
     "metadata": {},
     "output_type": "execute_result"
    }
   ],
   "source": [
    "# 使用reshape()方法將陣列A改成2x4的二維陣列D，並將結果存放到陣列D\n",
    "D = A.reshape(2, 4)\n",
    "\n",
    "# 輸出陣列D的值\n",
    "D"
   ]
  },
  {
   "cell_type": "code",
   "execution_count": 119,
   "metadata": {},
   "outputs": [
    {
     "data": {
      "text/plain": [
       "array([[1, 3, 5, 7],\n",
       "       [2, 4, 6, 8]])"
      ]
     },
     "execution_count": 119,
     "metadata": {},
     "output_type": "execute_result"
    }
   ],
   "source": [
    "# 使用np.transpose()函式對陣列A進行轉置(將原本的行變成列，列變成行)，並輸出轉置後的二維陣列A\n",
    "np.transpose(A)"
   ]
  },
  {
   "cell_type": "code",
   "execution_count": 120,
   "metadata": {},
   "outputs": [
    {
     "data": {
      "text/plain": [
       "array([[2., 3.],\n",
       "       [4., 5.],\n",
       "       [6., 7.],\n",
       "       [8., 9.]])"
      ]
     },
     "execution_count": 120,
     "metadata": {},
     "output_type": "execute_result"
    }
   ],
   "source": [
    "# 對陣列A和B做矩陣相加，並產生新陣列\n",
    "A + B"
   ]
  },
  {
   "cell_type": "code",
   "execution_count": 121,
   "metadata": {},
   "outputs": [
    {
     "data": {
      "text/plain": [
       "array([[0., 1.],\n",
       "       [2., 3.],\n",
       "       [4., 5.],\n",
       "       [6., 7.]])"
      ]
     },
     "execution_count": 121,
     "metadata": {},
     "output_type": "execute_result"
    }
   ],
   "source": [
    "# 對陣列A和B做矩陣相減，並產生新陣列\n",
    "A - B"
   ]
  },
  {
   "cell_type": "code",
   "execution_count": 122,
   "metadata": {},
   "outputs": [
    {
     "data": {
      "text/plain": [
       "array([[ 9, 12, 15],\n",
       "       [19, 26, 33],\n",
       "       [29, 40, 51],\n",
       "       [39, 54, 69]])"
      ]
     },
     "execution_count": 122,
     "metadata": {},
     "output_type": "execute_result"
    }
   ],
   "source": [
    "# 使用@符號對陣列A和C做矩陣相乘\n",
    "A @ C"
   ]
  },
  {
   "cell_type": "code",
   "execution_count": 123,
   "metadata": {},
   "outputs": [
    {
     "data": {
      "text/plain": [
       "array([[ 9, 12, 15],\n",
       "       [19, 26, 33],\n",
       "       [29, 40, 51],\n",
       "       [39, 54, 69]])"
      ]
     },
     "execution_count": 123,
     "metadata": {},
     "output_type": "execute_result"
    }
   ],
   "source": [
    "# 使用np.dot()函式對陣列A和C做矩陣相乘\n",
    "np.dot(A, C)"
   ]
  },
  {
   "cell_type": "code",
   "execution_count": 124,
   "metadata": {},
   "outputs": [
    {
     "data": {
      "text/plain": [
       "array([11, 12, 13])"
      ]
     },
     "execution_count": 124,
     "metadata": {},
     "output_type": "execute_result"
    }
   ],
   "source": [
    "# 使用np.array()函式建立一個NumPy一維陣列A，包含三個整數元素\n",
    "A = np.array([1, 2, 3])\n",
    "\n",
    "# 設定一個標量B，值為10\n",
    "B = 10\n",
    "\n",
    "# 對陣列A的每個元素加上標量B，產生一個新的陣列(利用NumPy的廣播機制)\n",
    "A + B"
   ]
  },
  {
   "cell_type": "code",
   "execution_count": 125,
   "metadata": {},
   "outputs": [
    {
     "data": {
      "text/plain": [
       "array([[11, 22, 33],\n",
       "       [41, 52, 63]])"
      ]
     },
     "execution_count": 125,
     "metadata": {},
     "output_type": "execute_result"
    }
   ],
   "source": [
    "# 使用np.array()函式建立一個NumPy一維陣列A，包含三個整數元素\n",
    "A = np.array([1, 2, 3])\n",
    "\n",
    "# 使用np.array()函式建立一個2x3的NumPy二維陣列A，包含六個整數元素\n",
    "C = np.array([[10, 20, 30], [40, 50, 60]])\n",
    "\n",
    "# 對陣列A的每個元素加上陣列C對應位置的元素，產生一個新的陣列(利用NumPy的廣播機制)\n",
    "A + C"
   ]
  },
  {
   "cell_type": "code",
   "execution_count": 126,
   "metadata": {},
   "outputs": [
    {
     "data": {
      "text/plain": [
       "array([11, 22, 33])"
      ]
     },
     "execution_count": 126,
     "metadata": {},
     "output_type": "execute_result"
    }
   ],
   "source": [
    "# 使用np.array()函式建立一個NumPy一維陣列A，包含三個整數元素\n",
    "A = np.array([1, 2, 3])\n",
    "\n",
    "# 使用np.array()函式建立一個NumPy一維陣列D，包含三個整數元素\n",
    "D = np.array([10, 20, 30])\n",
    "\n",
    "# 對陣列A的每個元素加上陣列D對應位置的元素，產生一個新的陣列\n",
    "A + D"
   ]
  },
  {
   "cell_type": "code",
   "execution_count": 127,
   "metadata": {},
   "outputs": [
    {
     "data": {
      "text/plain": [
       "array([1, 3, 5, 7])"
      ]
     },
     "execution_count": 127,
     "metadata": {},
     "output_type": "execute_result"
    }
   ],
   "source": [
    "# 使用np.array()函式建立一個NumPy一維陣列W，包含四個整數元素\n",
    "W = np.array([0, 1, 2, 3])\n",
    "\n",
    "# 使用np.array()函式建立一個NumPy一維陣列X，包含四個整數元素\n",
    "X = np.array([1, 2, 3, 4])\n",
    "\n",
    "# 對陣列W的每個元素加上陣列X對應位置的元素，產生一個新的陣列\n",
    "W + X"
   ]
  },
  {
   "cell_type": "code",
   "execution_count": 128,
   "metadata": {},
   "outputs": [
    {
     "data": {
      "text/plain": [
       "array([[1, 2, 3],\n",
       "       [2, 3, 4],\n",
       "       [3, 4, 5],\n",
       "       [4, 5, 6]])"
      ]
     },
     "execution_count": 128,
     "metadata": {},
     "output_type": "execute_result"
    }
   ],
   "source": [
    "# 使用np.array()函式建立一個NumPy一維陣列W，包含四個整數元素\n",
    "W = np.array([0, 1, 2, 3])\n",
    "\n",
    "# 使用np.array()函式建立一個NumPy一維陣列X，包含三個整數元素\n",
    "X = np.array([1, 2, 3])\n",
    "\n",
    "# 對W陣列加入新軸，將形狀從(4,)變成(4, 1)，使其可與形狀為(3,)的陣列X進行廣播相加\n",
    "# 結果會產生一個形狀為(4, 3)的二維陣列\n",
    "\n",
    "W[:, np.newaxis] + X"
   ]
  },
  {
   "cell_type": "code",
   "execution_count": 129,
   "metadata": {},
   "outputs": [
    {
     "data": {
      "text/plain": [
       "True"
      ]
     },
     "execution_count": 129,
     "metadata": {},
     "output_type": "execute_result"
    }
   ],
   "source": [
    "# 使用np.array()函式建立一個NumPy一維陣列A，包含三個整數元素\n",
    "A = np.array([1, 2, 3])\n",
    "\n",
    "# 將變數B指向A陣列，這不是複製，而是建立對同一個陣列的參照(reference)\n",
    "B = A\n",
    "\n",
    "# 判斷B陣列和A陣列是否是同一個物件(是否指向同一個記憶體位置)\n",
    "# 這裡會輸出True，因為B和A指向相同的陣列物件\n",
    "\n",
    "B is A"
   ]
  },
  {
   "cell_type": "code",
   "execution_count": 130,
   "metadata": {},
   "outputs": [
    {
     "data": {
      "text/plain": [
       "array([7, 2, 3])"
      ]
     },
     "execution_count": 130,
     "metadata": {},
     "output_type": "execute_result"
    }
   ],
   "source": [
    "# 將B陣列(也是A陣列的參照)的第0個元素設定為7，會同時改變A陣列的內容\n",
    "B[0] = 7\n",
    "\n",
    "# 輸出修改後的A陣列，因為A和B指向同一個陣列，A陣列的第一個元素也會變成7\n",
    "A"
   ]
  },
  {
   "cell_type": "code",
   "execution_count": 131,
   "metadata": {},
   "outputs": [
    {
     "data": {
      "text/plain": [
       "False"
      ]
     },
     "execution_count": 131,
     "metadata": {},
     "output_type": "execute_result"
    }
   ],
   "source": [
    "# 使用np.array()函式建立一個NumPy一維陣列A，包含三個整數元素\n",
    "A = np.array([1, 2, 3])\n",
    "\n",
    "# 使用view()方法建立A陣列的視圖(shallow copy)\n",
    "# C是一個新的物件，但它和A陣列共用相同的資料記憶體(內容共用)\n",
    "\n",
    "C = A.view()\n",
    "\n",
    "# 判斷C陣列和A陣列是否是同一個物件(是否指向同一個記憶體位置)\n",
    "# 這裡會輸出False，因為C和A指向不同的陣列物件\n",
    "\n",
    "C is A"
   ]
  },
  {
   "cell_type": "code",
   "execution_count": 132,
   "metadata": {},
   "outputs": [
    {
     "data": {
      "text/plain": [
       "True"
      ]
     },
     "execution_count": 132,
     "metadata": {},
     "output_type": "execute_result"
    }
   ],
   "source": [
    "# 判斷C陣列的資料是否基於A陣列，也就是兩者是否共用同一個資料區塊(底層記憶體是否相同)\n",
    "# 這裡會輸出True，因為C陣列是A陣列的視圖，共用底層資料，但屬於不同的物件\n",
    "\n",
    "C.base is A"
   ]
  },
  {
   "cell_type": "code",
   "execution_count": 133,
   "metadata": {},
   "outputs": [
    {
     "data": {
      "text/plain": [
       "array([7, 2, 3])"
      ]
     },
     "execution_count": 133,
     "metadata": {},
     "output_type": "execute_result"
    }
   ],
   "source": [
    "# 將C陣列(A陣列的視圖)第0個元素設定為7，會同時改變A陣列的內容\n",
    "C[0] = 7\n",
    "\n",
    "# 輸出修改後的C陣列\n",
    "C"
   ]
  },
  {
   "cell_type": "code",
   "execution_count": 134,
   "metadata": {},
   "outputs": [
    {
     "data": {
      "text/plain": [
       "array([7, 2, 3])"
      ]
     },
     "execution_count": 134,
     "metadata": {},
     "output_type": "execute_result"
    }
   ],
   "source": [
    "# 輸出修改後的A陣列，因為A陣列和C陣列共用相同的資料記憶體，A陣列的第一個元素也會變成7\n",
    "A"
   ]
  },
  {
   "cell_type": "code",
   "execution_count": 135,
   "metadata": {},
   "outputs": [
    {
     "data": {
      "text/plain": [
       "False"
      ]
     },
     "execution_count": 135,
     "metadata": {},
     "output_type": "execute_result"
    }
   ],
   "source": [
    "# 使用np.array()函式建立一個NumPy一維陣列A，包含三個整數元素\n",
    "A = np.array([1, 2, 3])\n",
    "\n",
    "# 使用copy()方法建立A陣列的深拷貝(copy)，會是新的物件，且不共用資料\n",
    "D = A.copy()\n",
    "\n",
    "# 判斷D陣列和A陣列是否是同一個物件(是否指向同一個記憶體位置)\n",
    "# 這裡會輸出False，因為copy()方法會傳回新的物件\n",
    "\n",
    "D is A"
   ]
  },
  {
   "cell_type": "code",
   "execution_count": 136,
   "metadata": {},
   "outputs": [
    {
     "data": {
      "text/plain": [
       "False"
      ]
     },
     "execution_count": 136,
     "metadata": {},
     "output_type": "execute_result"
    }
   ],
   "source": [
    "# 判斷D陣列的資料是否基於A陣列，也就是兩者是否共用同一個資料區塊(底層記憶體是否相同)\n",
    "# 這裡會輸出False，因為D陣列是A陣列的深拷貝，不共用底層資料，而且是不同物件\n",
    "\n",
    "D.base is A"
   ]
  },
  {
   "cell_type": "code",
   "execution_count": 137,
   "metadata": {},
   "outputs": [
    {
     "data": {
      "text/plain": [
       "array([7, 2, 3])"
      ]
     },
     "execution_count": 137,
     "metadata": {},
     "output_type": "execute_result"
    }
   ],
   "source": [
    "# 將D陣列的第0個元素設定為7，D陣列是A陣列的深拷貝，修改不會影響A\n",
    "D[0] = 7\n",
    "\n",
    "# 輸出修改後的D陣列\n",
    "D"
   ]
  },
  {
   "cell_type": "code",
   "execution_count": 138,
   "metadata": {},
   "outputs": [
    {
     "data": {
      "text/plain": [
       "array([1, 2, 3])"
      ]
     },
     "execution_count": 138,
     "metadata": {},
     "output_type": "execute_result"
    }
   ],
   "source": [
    "# 輸出修改後的A陣列，因為D和A是不同的陣列，A陣列不會被改變\n",
    "A"
   ]
  },
  {
   "cell_type": "code",
   "execution_count": 139,
   "metadata": {},
   "outputs": [
    {
     "data": {
      "text/plain": [
       "array([0.        , 0.5       , 0.70710678])"
      ]
     },
     "execution_count": 139,
     "metadata": {},
     "output_type": "execute_result"
    }
   ],
   "source": [
    "# 使用np.sin()函式計算角度[0, 30, 45]的正弦值\n",
    "# 由於np.sin()接收的是弧度，因此先將角度轉換為弧度(乘以np.pi / 180.)\n",
    "\n",
    "np.sin(np.array([0, 30, 45]) * np.pi / 180.)"
   ]
  },
  {
   "cell_type": "code",
   "execution_count": 140,
   "metadata": {},
   "outputs": [
    {
     "data": {
      "text/plain": [
       "array([0.8660254 , 0.70710678, 0.5       ])"
      ]
     },
     "execution_count": 140,
     "metadata": {},
     "output_type": "execute_result"
    }
   ],
   "source": [
    "# 使用np.cos()函式計算角度[30, 45, 60]的餘弦值\n",
    "# 由於np.cos()接收的是弧度，因此先將角度轉換為弧度(乘以np.pi / 180.)\n",
    "\n",
    "np.cos(np.array([30, 45, 60]) * np.pi / 180.)"
   ]
  },
  {
   "cell_type": "code",
   "execution_count": 141,
   "metadata": {},
   "outputs": [
    {
     "data": {
      "text/plain": [
       "array([0.57735027, 1.        , 1.73205081])"
      ]
     },
     "execution_count": 141,
     "metadata": {},
     "output_type": "execute_result"
    }
   ],
   "source": [
    "# 使用np.tan()函式計算角度[30, 45, 60]的正切值\n",
    "# 由於np.tan()接收的是弧度，因此先將角度轉換為弧度(乘以np.pi / 180.)\n",
    "\n",
    "np.tan(np.array([30, 45, 60]) * np.pi / 180.)"
   ]
  },
  {
   "cell_type": "code",
   "execution_count": 142,
   "metadata": {},
   "outputs": [
    {
     "name": "stdout",
     "output_type": "stream",
     "text": [
      "3.4420267542455742\n"
     ]
    }
   ],
   "source": [
    "# 使用np.sqrt()函式計算3的平方根，使用np.cbrt()函式計算5的立方根，並將兩者相加後輸出結果\n",
    "print(np.sqrt(3) + np.cbrt(5))"
   ]
  },
  {
   "cell_type": "code",
   "execution_count": 143,
   "metadata": {},
   "outputs": [
    {
     "name": "stdout",
     "output_type": "stream",
     "text": [
      "2.7178571428571425\n"
     ]
    }
   ],
   "source": [
    "# 使用np.array()函式建立一個NumPy一維陣列A，包含8個元素：1、1/2、1/3、1/4、1/5、1/6、1/7、1/8\n",
    "A = np.array([1, 1/2, 1/3, 1/4, 1/5, 1/6, 1/7, 1/8])\n",
    "\n",
    "# 使用np.sum()函式計算A陣列所有元素的總和，並輸出結果\n",
    "print(np.sum(A))"
   ]
  },
  {
   "cell_type": "code",
   "execution_count": 144,
   "metadata": {},
   "outputs": [
    {
     "name": "stdout",
     "output_type": "stream",
     "text": [
      "2.4801587301587298e-05\n"
     ]
    }
   ],
   "source": [
    "# 使用np.array()函式建立一個NumPy一維陣列A，包含8個元素：1、1/2、1/3、1/4、1/5、1/6、1/7、1/8\n",
    "A = np.array([1, 1/2, 1/3, 1/4, 1/5, 1/6, 1/7, 1/8])\n",
    "\n",
    "# 使用np.prod()函式計算A陣列所有元素的乘積，並輸出結果\n",
    "print(np.prod(A))"
   ]
  },
  {
   "cell_type": "code",
   "execution_count": 145,
   "metadata": {},
   "outputs": [
    {
     "name": "stdout",
     "output_type": "stream",
     "text": [
      "3.111111111111111\n"
     ]
    }
   ],
   "source": [
    "# 使用np.log2()函式計算3以2為底的對數，並將結果存放到變數x中\n",
    "x = np.log2(3)\n",
    "\n",
    "# 使用np.power()函式計算2的x次方，加上4的(-x)次方\n",
    "# np.power(2, x) = 3 (因為x = log2(3))\n",
    "# np.power(4, -x) = (2 ^ 2) ^ (-x) = 2 ^ (-2x)\n",
    "\n",
    "print(np.power(2, x) + np.power(4, -x))"
   ]
  },
  {
   "cell_type": "code",
   "execution_count": 146,
   "metadata": {},
   "outputs": [
    {
     "data": {
      "text/plain": [
       "array([ 1,  4, 10,  5, 20, 50, 10, 20])"
      ]
     },
     "execution_count": 146,
     "metadata": {},
     "output_type": "execute_result"
    }
   ],
   "source": [
    "# 使用np.gcd()函式計算陣列[1, 8, 10, 15, 20, 50, 210, 980]中每個元素與100的最大公因數，並輸出結果\n",
    "np.gcd([1, 8, 10, 15, 20, 50, 210, 980], 100)"
   ]
  },
  {
   "cell_type": "code",
   "execution_count": 147,
   "metadata": {},
   "outputs": [
    {
     "data": {
      "text/plain": [
       "array([[2, 3, 5, 6],\n",
       "       [1, 4, 7, 8]])"
      ]
     },
     "execution_count": 147,
     "metadata": {},
     "output_type": "execute_result"
    }
   ],
   "source": [
    "# 使用np.array()函式建立一個NumPy二維陣列，包含8個元素\n",
    "# 使用np.sort()函式對該陣列的每一列進行排序(預設axis = 1)\n",
    "\n",
    "np.sort(np.array([[5, 3, 2, 6], [1, 7, 8, 4]]))"
   ]
  },
  {
   "cell_type": "code",
   "execution_count": 148,
   "metadata": {},
   "outputs": [
    {
     "name": "stdout",
     "output_type": "stream",
     "text": [
      "-5.48\n"
     ]
    }
   ],
   "source": [
    "# 使用np.round()函式將-5.4789四捨五入到小數點後2位，並輸出結果\n",
    "print(np.round(-5.4789, 2))"
   ]
  },
  {
   "cell_type": "code",
   "execution_count": 149,
   "metadata": {},
   "outputs": [
    {
     "name": "stdout",
     "output_type": "stream",
     "text": [
      "-5.0\n"
     ]
    }
   ],
   "source": [
    "# 使用np.rint()函式將-5.4789四捨五入到最接近的整數，並輸出結果\n",
    "print(np.rint(-5.4789))"
   ]
  },
  {
   "cell_type": "code",
   "execution_count": 150,
   "metadata": {},
   "outputs": [
    {
     "name": "stdout",
     "output_type": "stream",
     "text": [
      "-6.0\n"
     ]
    }
   ],
   "source": [
    "# 使用np.floor()函式將-5.4789向下取整，並輸出結果\n",
    "print(np.floor(-5.4789))"
   ]
  },
  {
   "cell_type": "code",
   "execution_count": 151,
   "metadata": {},
   "outputs": [
    {
     "name": "stdout",
     "output_type": "stream",
     "text": [
      "-5.0\n"
     ]
    }
   ],
   "source": [
    "# 使用np.ceil()函式將-5.4789向上取整，並輸出結果\n",
    "print(np.ceil(-5.4789))"
   ]
  },
  {
   "cell_type": "code",
   "execution_count": 152,
   "metadata": {},
   "outputs": [
    {
     "name": "stdout",
     "output_type": "stream",
     "text": [
      "-5.0\n"
     ]
    }
   ],
   "source": [
    "# 使用np.trunc()函式將-5.4789截斷至整數部分(去除小數部分)，並輸出結果\n",
    "print(np.trunc(-5.4789))"
   ]
  },
  {
   "cell_type": "code",
   "execution_count": 153,
   "metadata": {},
   "outputs": [
    {
     "name": "stdout",
     "output_type": "stream",
     "text": [
      "26\n"
     ]
    }
   ],
   "source": [
    "# 使用np.array()函式建立一個NumPy一維陣列U，包含三個整數元素\n",
    "U = np.array([0, 2, 4])\n",
    "\n",
    "# 使用np.array()函式建立一個NumPy一維陣列V，包含三個整數元素\n",
    "V = np.array([1, 3, 5])\n",
    "\n",
    "# 使用np.inner()函式計算並輸出陣列U和V的內積\n",
    "print(np.inner(U, V))"
   ]
  },
  {
   "cell_type": "code",
   "execution_count": 154,
   "metadata": {},
   "outputs": [
    {
     "data": {
      "text/plain": [
       "array([-2,  4, -2])"
      ]
     },
     "execution_count": 154,
     "metadata": {},
     "output_type": "execute_result"
    }
   ],
   "source": [
    "# 使用np.cross()函式計算並輸出陣列U和V的叉積(只適用於三維向量)\n",
    "np.cross(U, V)"
   ]
  },
  {
   "cell_type": "code",
   "execution_count": 155,
   "metadata": {},
   "outputs": [
    {
     "data": {
      "text/plain": [
       "array([[ 0,  0,  0],\n",
       "       [ 2,  6, 10],\n",
       "       [ 4, 12, 20]])"
      ]
     },
     "execution_count": 155,
     "metadata": {},
     "output_type": "execute_result"
    }
   ],
   "source": [
    "# 使用np.outer()函式計算並輸出陣列U和V的外積\n",
    "np.outer(U, V)"
   ]
  },
  {
   "cell_type": "code",
   "execution_count": 156,
   "metadata": {},
   "outputs": [
    {
     "data": {
      "image/png": "[encoded data removed]",
      "text/plain": [
       "<Figure size 640x480 with 1 Axes>"
      ]
     },
     "metadata": {},
     "output_type": "display_data"
    }
   ],
   "source": [
    "# 匯入matplotlib.pyplot模組，用於繪製圖表\n",
    "import matplotlib.pyplot as plt\n",
    "\n",
    "# 使用np.random.normal()函式從標準常態分佈取樣10000個數值\n",
    "# loc：平均值，預設0\n",
    "# scale：標準差，預設1\n",
    "# size：生成隨機數的個數，這裡指定為10000\n",
    "\n",
    "samples = np.random.normal(loc = 0, scale = 1, size = 10000)\n",
    "\n",
    "# 繪製樣本的直方圖，將數據分成30個區間\n",
    "# samples：要繪製直方圖的數據\n",
    "# bins：將數據分成多少個區間，預設30\n",
    "\n",
    "plt.hist(samples, bins = 30)\n",
    "\n",
    "# 顯示圖表\n",
    "plt.show()"
   ]
  },
  {
   "cell_type": "code",
   "execution_count": 157,
   "metadata": {},
   "outputs": [
    {
     "data": {
      "image/png": "[encoded data removed]",
      "text/plain": [
       "<Figure size 640x480 with 1 Axes>"
      ]
     },
     "metadata": {},
     "output_type": "display_data"
    }
   ],
   "source": [
    "# 使用np.random.triangular()函式從三角形機率分佈取樣10000個數值\n",
    "# left：分布最小值(左邊界)，這裡指定為-3\n",
    "# mode：分布的峰值(最可能出現的值)，這裡指定為0\n",
    "# right：分布最大值(右邊界)，這裡指定為8\n",
    "# size：生成隨機數的個數，這裡指定為10000\n",
    "\n",
    "samples = np.random.triangular(left = -3, mode = 0, right = 8, size = 10000)\n",
    "\n",
    "# 繪製樣本的直方圖，將數據分成100個區間\n",
    "# samples：要繪製直方圖的數據\n",
    "# bins：將數據分成多少個區間，預設100\n",
    "\n",
    "plt.hist(samples, bins = 100)\n",
    "\n",
    "# 顯示圖表\n",
    "plt.show()"
   ]
  },
  {
   "cell_type": "code",
   "execution_count": 158,
   "metadata": {},
   "outputs": [
    {
     "data": {
      "text/plain": [
       "array([80.2, 89. , 91.4, 83.2, 76.6])"
      ]
     },
     "execution_count": 158,
     "metadata": {},
     "output_type": "execute_result"
    }
   ],
   "source": [
    "# 使用np.array()函式建立一個5x5的NumPy二維陣列score，包含二十五個整數元素(5位學生的五筆成績)\n",
    "score = np.array([[80, 75, 88, 80, 78],   # 第1位學生的成績\n",
    "                  [88, 86, 90, 95, 86],   # 第2位學生的成績\n",
    "                  [92, 85, 92, 98, 90],   # 第3位學生的成績\n",
    "                  [81, 88, 80, 82, 85],   # 第4位學生的成績\n",
    "                  [75, 80, 78, 80, 70]])  # 第5位學生的成績\n",
    "\n",
    "# 使用np.mean()函式計算每位學生的平均成績\n",
    "# axis = 1：表示對每列(每位學生)的多筆成績做平均，屬於橫向計算\n",
    "\n",
    "np.mean(score, axis = 1)"
   ]
  },
  {
   "cell_type": "code",
   "execution_count": 159,
   "metadata": {},
   "outputs": [
    {
     "data": {
      "text/plain": [
       "array([79.6, 88.3, 91. , 82.8, 76.3])"
      ]
     },
     "execution_count": 159,
     "metadata": {},
     "output_type": "execute_result"
    }
   ],
   "source": [
    "# 使用np.average()函式計算每位學生的加權平均成績\n",
    "# axis = 1：表示對每列(每位學生)的多筆成績做平均，屬於橫向計算\n",
    "# weights：指定各科成績的權重，依序為0.5、0.2、0.1、0.1、0.1\n",
    "\n",
    "np.average(score, axis = 1, weights = [0.5, 0.2, 0.1, 0.1, 0.1])"
   ]
  },
  {
   "cell_type": "code",
   "execution_count": 160,
   "metadata": {},
   "outputs": [
    {
     "data": {
      "text/plain": [
       "array([80., 88., 92., 82., 78.])"
      ]
     },
     "execution_count": 160,
     "metadata": {},
     "output_type": "execute_result"
    }
   ],
   "source": [
    "# 使用np.median()函式計算每位學生的中位數成績\n",
    "# axis = 1：表示對每列(每位學生)的多筆成績進行橫向計算\n",
    "\n",
    "np.median(score, axis = 1)"
   ]
  },
  {
   "cell_type": "code",
   "execution_count": 161,
   "metadata": {},
   "outputs": [
    {
     "data": {
      "text/plain": [
       "array([4.30813185, 3.34664011, 4.1761226 , 2.92574777, 3.77359245])"
      ]
     },
     "execution_count": 161,
     "metadata": {},
     "output_type": "execute_result"
    }
   ],
   "source": [
    "# 使用np.std()函式計算每位學生的成績標準差\n",
    "# axis = 1：表示對每列(每位學生)的多筆成績進行橫向計算\n",
    "\n",
    "np.std(score, axis = 1)"
   ]
  },
  {
   "cell_type": "code",
   "execution_count": 162,
   "metadata": {},
   "outputs": [
    {
     "data": {
      "text/plain": [
       "array([18.56, 11.2 , 17.44,  8.56, 14.24])"
      ]
     },
     "execution_count": 162,
     "metadata": {},
     "output_type": "execute_result"
    }
   ],
   "source": [
    "# 使用np.var()函式計算每位學生成績的變異數\n",
    "# axis = 1：表示對每列(每位學生)的多筆成績進行橫向計算\n",
    "\n",
    "np.var(score, axis = 1)"
   ]
  },
  {
   "cell_type": "code",
   "execution_count": 163,
   "metadata": {},
   "outputs": [
    {
     "data": {
      "text/plain": [
       "array([[ 15., 160.,  48.],\n",
       "       [ 14., 175.,  66.],\n",
       "       [ 15., 153.,  50.],\n",
       "       [ 15., 162.,  44.]])"
      ]
     },
     "execution_count": 163,
     "metadata": {},
     "output_type": "execute_result"
    }
   ],
   "source": [
    "# 使用np.loadtxt()函式讀取指定路徑的文字檔，並以逗號作為欄位分隔符號\n",
    "# 此函式會將檔案中的數值資料載入為一個NumPy二維陣列\n",
    "\n",
    "np.loadtxt(\"E:\\\\Python\\\\Python1-基礎Python開發實務\\\\data.txt\", delimiter = ',')"
   ]
  },
  {
   "cell_type": "code",
   "execution_count": 164,
   "metadata": {},
   "outputs": [
    {
     "data": {
      "text/plain": [
       "array([[ 15., 153.,  50.],\n",
       "       [ 15., 162.,  44.]])"
      ]
     },
     "execution_count": 164,
     "metadata": {},
     "output_type": "execute_result"
    }
   ],
   "source": [
    "# 使用np.loadtxt()函式讀取指定路徑的文字檔，並以逗號作為欄位分隔符號\n",
    "# skiprows = 2：表示跳過檔案前兩列(常用於跳過標題或說明文字)\n",
    "# 此函式會將剩餘的數值資料載入為一個NumPy的二維陣列\n",
    "\n",
    "np.loadtxt(\"E:\\\\Python\\\\Python1-基礎Python開發實務\\\\data.txt\", delimiter = ',', skiprows = 2)"
   ]
  },
  {
   "cell_type": "code",
   "execution_count": 165,
   "metadata": {},
   "outputs": [
    {
     "data": {
      "text/plain": [
       "array([[15., 48.],\n",
       "       [14., 66.],\n",
       "       [15., 50.],\n",
       "       [15., 44.]])"
      ]
     },
     "execution_count": 165,
     "metadata": {},
     "output_type": "execute_result"
    }
   ],
   "source": [
    "# 使用np.loadtxt()函式讀取指定路徑的文字檔，並以逗號作為欄位分隔符號\n",
    "# usecols = (0, 2)：只讀取第0與第2欄(索引從0開始)的數值資料\n",
    "# 此函式會將指定欄位的數值資料載入為一個NumPy二維陣列\n",
    "\n",
    "np.loadtxt(\"E:\\\\Python\\\\Python1-基礎Python開發實務\\\\data.txt\", delimiter = ',', usecols = (0, 2))"
   ]
  },
  {
   "cell_type": "code",
   "execution_count": 166,
   "metadata": {},
   "outputs": [
    {
     "name": "stdout",
     "output_type": "stream",
     "text": [
      "0.00, 1.00, 2.00, 3.00, 4.00\n",
      "0.00, 1.00, 2.00, 3.00, 4.00\n",
      "0.00, 1.00, 2.00, 3.00, 4.00\n"
     ]
    }
   ],
   "source": [
    "# 使用np.arange()函式建立一個NumPy一維陣列x，從0開始(包含0)到小於5結束，間隔為1\n",
    "# 同時將y和z指向相同的陣列物件，因此x、y、z都是相同的陣列\n",
    "\n",
    "x = y = z = np.arange(0, 5, 1)\n",
    "\n",
    "# 將(x, y, z)這三組陣列(3行5列)存成文字檔test.txt，欄位用逗號分隔，數字格式為浮點數(小數點後2位)\n",
    "np.savetxt(\"E:\\\\Python\\\\Python1-基礎Python開發實務\\\\test.txt\", (x, y, z), delimiter = ',', fmt = \"%1.2f\")\n",
    "\n",
    "# 使用np.loadtxt()函式讀取指定路徑的文字檔，並以逗號作為欄位分隔符號\n",
    "# 此函式會將指定欄位的數值資料載入為一個NumPy二維陣列\n",
    "# data為讀入的數值二維陣列，每一列代表檔案中的一行數據\n",
    "\n",
    "data = np.loadtxt(\"E:\\\\Python\\\\Python1-基礎Python開發實務\\\\test.txt\", delimiter = ',')\n",
    "\n",
    "# 將讀入的數據逐列輸出，並使用Python字串格式化指定每個浮點數顯示小數點後2位\n",
    "for row in data:\n",
    "    print(\", \".join(f\"{num:.2f}\" for num in row))"
   ]
  },
  {
   "cell_type": "code",
   "execution_count": 167,
   "metadata": {},
   "outputs": [
    {
     "data": {
      "text/plain": [
       "array([0, 1, 2, 3, 4, 5])"
      ]
     },
     "execution_count": 167,
     "metadata": {},
     "output_type": "execute_result"
    }
   ],
   "source": [
    "# 使用np.array()函式建立一個NumPy一維陣列A，包含六個整數元素\n",
    "A = np.array([0, 1, 2, 3, 4, 5])\n",
    "\n",
    "# 輸出陣列A的值\n",
    "A"
   ]
  },
  {
   "cell_type": "code",
   "execution_count": 168,
   "metadata": {},
   "outputs": [
    {
     "data": {
      "text/plain": [
       "1"
      ]
     },
     "execution_count": 168,
     "metadata": {},
     "output_type": "execute_result"
    }
   ],
   "source": [
    "# 輸出陣列A的維度(代表陣列有幾個維度，例如一維陣列ndim = 1)\n",
    "A.ndim"
   ]
  },
  {
   "cell_type": "code",
   "execution_count": 169,
   "metadata": {},
   "outputs": [
    {
     "data": {
      "text/plain": [
       "(6,)"
      ]
     },
     "execution_count": 169,
     "metadata": {},
     "output_type": "execute_result"
    }
   ],
   "source": [
    "# 輸出陣列A的形狀(以元組tuple形式呈現陣列每個維度的大小，例如(6,)表示有六個元素的一維陣列)\n",
    "A.shape"
   ]
  },
  {
   "cell_type": "code",
   "execution_count": 170,
   "metadata": {},
   "outputs": [
    {
     "data": {
      "text/plain": [
       "6"
      ]
     },
     "execution_count": 170,
     "metadata": {},
     "output_type": "execute_result"
    }
   ],
   "source": [
    "# 輸出陣列A的元素個數(陣列中所有元素的總數)\n",
    "A.size"
   ]
  },
  {
   "cell_type": "code",
   "execution_count": 171,
   "metadata": {},
   "outputs": [
    {
     "data": {
      "text/plain": [
       "8"
      ]
     },
     "execution_count": 171,
     "metadata": {},
     "output_type": "execute_result"
    }
   ],
   "source": [
    "# 輸出陣列A中每個元素所佔的記憶體大小(單位：位元組bytes)\n",
    "A.itemsize"
   ]
  },
  {
   "cell_type": "code",
   "execution_count": 172,
   "metadata": {},
   "outputs": [
    {
     "data": {
      "text/plain": [
       "array([9, 1, 2, 3, 4, 5])"
      ]
     },
     "execution_count": 172,
     "metadata": {},
     "output_type": "execute_result"
    }
   ],
   "source": [
    "# 將陣列A的第一個元素設定為9\n",
    "A[0] = 9\n",
    "\n",
    "# 輸出修改後的陣列A\n",
    "A"
   ]
  },
  {
   "cell_type": "code",
   "execution_count": 173,
   "metadata": {},
   "outputs": [
    {
     "data": {
      "text/plain": [
       "array([1, 3, 4, 5])"
      ]
     },
     "execution_count": 173,
     "metadata": {},
     "output_type": "execute_result"
    }
   ],
   "source": [
    "# 使用np.delete()函式刪除陣列A中索引位置為0和2的元素，並傳回刪除後的新陣列B\n",
    "B = np.delete(A, [0, 2])\n",
    "\n",
    "# 輸出刪除元素後的新陣列B\n",
    "B"
   ]
  },
  {
   "cell_type": "code",
   "execution_count": 174,
   "metadata": {},
   "outputs": [
    {
     "data": {
      "text/plain": [
       "array([9, 1, 2, 3, 4, 5, 1, 3, 4, 5])"
      ]
     },
     "execution_count": 174,
     "metadata": {},
     "output_type": "execute_result"
    }
   ],
   "source": [
    "# 使用np.concatenate()函式串接陣列A和B，並傳回產生的新陣列C\n",
    "C = np.concatenate((A, B))\n",
    "\n",
    "# 輸出串接後的新陣列C\n",
    "C"
   ]
  },
  {
   "cell_type": "code",
   "execution_count": 175,
   "metadata": {},
   "outputs": [
    {
     "data": {
      "text/plain": [
       "array([0, 1, 2, 0, 1, 2, 1, 0, 1, 2])"
      ]
     },
     "execution_count": 175,
     "metadata": {},
     "output_type": "execute_result"
    }
   ],
   "source": [
    "# 對C陣列每個元素取3的餘數，並產生新陣列\n",
    "C % 3"
   ]
  },
  {
   "cell_type": "code",
   "execution_count": 176,
   "metadata": {},
   "outputs": [
    {
     "data": {
      "text/plain": [
       "array([ 9,  2,  4,  6,  8, 10])"
      ]
     },
     "execution_count": 176,
     "metadata": {},
     "output_type": "execute_result"
    }
   ],
   "source": [
    "# 使用np.array()函式建立一個NumPy一維陣列B，包含六個整數元素\n",
    "B = np.array([0, 1, 2, 3, 4, 5])\n",
    "\n",
    "# 對陣列A和B做矩陣相加，並產生新陣列\n",
    "A + B"
   ]
  },
  {
   "cell_type": "code",
   "execution_count": 177,
   "metadata": {},
   "outputs": [
    {
     "data": {
      "text/plain": [
       "array([[ 1.,  3.,  5.],\n",
       "       [ 7.,  9., 11.]])"
      ]
     },
     "execution_count": 177,
     "metadata": {},
     "output_type": "execute_result"
    }
   ],
   "source": [
    "# 使用np.linspace()函式建立一個NumPy一維陣列，從1到11(包含)，產生6個平均分佈的數值，並使用reshape()方法改成2x3的二維陣列\n",
    "A = np.linspace(1, 11, 6).reshape(2, 3)\n",
    "\n",
    "# 輸出陣列A的值\n",
    "A"
   ]
  },
  {
   "cell_type": "code",
   "execution_count": 178,
   "metadata": {},
   "outputs": [
    {
     "data": {
      "text/plain": [
       "2"
      ]
     },
     "execution_count": 178,
     "metadata": {},
     "output_type": "execute_result"
    }
   ],
   "source": [
    "# 輸出陣列A的維度(代表陣列有幾個維度，例如二維陣列ndim = 2)\n",
    "A.ndim"
   ]
  },
  {
   "cell_type": "code",
   "execution_count": 179,
   "metadata": {},
   "outputs": [
    {
     "data": {
      "text/plain": [
       "(2, 3)"
      ]
     },
     "execution_count": 179,
     "metadata": {},
     "output_type": "execute_result"
    }
   ],
   "source": [
    "# 輸出陣列A的形狀(以元組tuple形式呈現陣列每個維度的大小，例如(2, 3)表示有2行3列，共六個元素的二維陣列)\n",
    "A.shape"
   ]
  },
  {
   "cell_type": "code",
   "execution_count": 180,
   "metadata": {},
   "outputs": [
    {
     "data": {
      "text/plain": [
       "6"
      ]
     },
     "execution_count": 180,
     "metadata": {},
     "output_type": "execute_result"
    }
   ],
   "source": [
    "# 輸出陣列A的元素個數(陣列中所有元素的總數)\n",
    "A.size"
   ]
  },
  {
   "cell_type": "code",
   "execution_count": 181,
   "metadata": {},
   "outputs": [
    {
     "data": {
      "text/plain": [
       "8"
      ]
     },
     "execution_count": 181,
     "metadata": {},
     "output_type": "execute_result"
    }
   ],
   "source": [
    "# 輸出陣列A中每個元素所佔的記憶體大小(單位：位元組bytes)\n",
    "A.itemsize"
   ]
  },
  {
   "cell_type": "code",
   "execution_count": 182,
   "metadata": {},
   "outputs": [
    {
     "name": "stdout",
     "output_type": "stream",
     "text": [
      "11.0\n"
     ]
    }
   ],
   "source": [
    "# 使用max()函式計算陣列A的最大元素並輸出結果\n",
    "print(A.max())"
   ]
  },
  {
   "cell_type": "code",
   "execution_count": 183,
   "metadata": {},
   "outputs": [
    {
     "name": "stdout",
     "output_type": "stream",
     "text": [
      "1.0\n"
     ]
    }
   ],
   "source": [
    "# 使用min()函式計算陣列A的最小元素並輸出結果\n",
    "print(A.min())"
   ]
  },
  {
   "cell_type": "code",
   "execution_count": 184,
   "metadata": {},
   "outputs": [
    {
     "data": {
      "text/plain": [
       "array([[ 1.,  7.],\n",
       "       [ 3.,  9.],\n",
       "       [ 5., 11.]])"
      ]
     },
     "execution_count": 184,
     "metadata": {},
     "output_type": "execute_result"
    }
   ],
   "source": [
    "# 使用np.transpose()函式對陣列A進行轉置(將原本的行變成列，列變成行)，並將轉置後的結果存放到二維陣列B中\n",
    "B = np.transpose(A)\n",
    "\n",
    "# 輸出轉置後的陣列B\n",
    "B"
   ]
  },
  {
   "cell_type": "code",
   "execution_count": 185,
   "metadata": {},
   "outputs": [
    {
     "data": {
      "text/plain": [
       "array([[ 2.,  6., 10.],\n",
       "       [14., 18., 22.]])"
      ]
     },
     "execution_count": 185,
     "metadata": {},
     "output_type": "execute_result"
    }
   ],
   "source": [
    "# 對陣列A與自身做矩陣相加，並將結果存放到二維陣列C\n",
    "C = A + A\n",
    "\n",
    "# 輸出陣列C的值\n",
    "C"
   ]
  },
  {
   "cell_type": "code",
   "execution_count": 186,
   "metadata": {},
   "outputs": [
    {
     "data": {
      "text/plain": [
       "array([[ 35.,  89.],\n",
       "       [ 89., 251.]])"
      ]
     },
     "execution_count": 186,
     "metadata": {},
     "output_type": "execute_result"
    }
   ],
   "source": [
    "# 使用@符號對陣列A和B做矩陣相乘，並將結果存放到二維陣列D\n",
    "D = A @ B\n",
    "\n",
    "# 輸出陣列D的值\n",
    "D"
   ]
  },
  {
   "cell_type": "code",
   "execution_count": 187,
   "metadata": {},
   "outputs": [
    {
     "data": {
      "text/plain": [
       "array([[ 35.,  89.],\n",
       "       [ 89., 251.]])"
      ]
     },
     "execution_count": 187,
     "metadata": {},
     "output_type": "execute_result"
    }
   ],
   "source": [
    "# 使用np.dot()函式對陣列A和B做矩陣相乘，並將結果存放到二維陣列D\n",
    "D = np.dot(A, B)\n",
    "\n",
    "# 輸出陣列D的值\n",
    "D"
   ]
  },
  {
   "cell_type": "code",
   "execution_count": 188,
   "metadata": {},
   "outputs": [
    {
     "data": {
      "text/plain": [
       "array([[ 3.,  9., 15.],\n",
       "       [21., 27., 33.]])"
      ]
     },
     "execution_count": 188,
     "metadata": {},
     "output_type": "execute_result"
    }
   ],
   "source": [
    "# 將陣列A的每個元素乘以3，並產生新陣列E\n",
    "E = A * 3\n",
    "\n",
    "# 輸出陣列E的值\n",
    "E"
   ]
  },
  {
   "cell_type": "code",
   "execution_count": 189,
   "metadata": {},
   "outputs": [
    {
     "data": {
      "text/plain": [
       "array([[ 1.,  3.,  5.],\n",
       "       [ 7.,  9., 11.],\n",
       "       [ 3.,  9., 15.],\n",
       "       [21., 27., 33.]])"
      ]
     },
     "execution_count": 189,
     "metadata": {},
     "output_type": "execute_result"
    }
   ],
   "source": [
    "# 使用np.vstack()函式將陣列A和E沿垂直方向(以列為單位)堆疊，並產生一個新的二維陣列\n",
    "np.vstack((A, E))"
   ]
  },
  {
   "cell_type": "code",
   "execution_count": 190,
   "metadata": {},
   "outputs": [
    {
     "data": {
      "text/plain": [
       "array([1.])"
      ]
     },
     "execution_count": 190,
     "metadata": {},
     "output_type": "execute_result"
    }
   ],
   "source": [
    "# 使用np.sin()函式計算角度30的正弦值\n",
    "# 由於np.sin()接收的是弧度，因此先將角度轉換為弧度(乘以np.pi / 180.)\n",
    "\n",
    "sin30 = np.sin(np.array([30]) * np.pi / 180.)\n",
    "\n",
    "# 使用np.cos()函式計算角度60的餘弦值\n",
    "# 由於np.cos()接收的是弧度，因此先將角度轉換為弧度(乘以np.pi / 180.)\n",
    "\n",
    "cos60 = np.cos(np.array([60]) * np.pi / 180.)\n",
    "\n",
    "# 輸出兩者相加的結果\n",
    "sin30 + cos60"
   ]
  },
  {
   "cell_type": "code",
   "execution_count": 191,
   "metadata": {},
   "outputs": [
    {
     "name": "stdout",
     "output_type": "stream",
     "text": [
      "0.5000000000000001\n"
     ]
    }
   ],
   "source": [
    "# 使用np.sqrt()函式計算√2的結果\n",
    "# 使用np.log2()函式計算√2的二進位對數，並輸出結果\n",
    "\n",
    "print(np.log2(np.sqrt(2)))"
   ]
  },
  {
   "cell_type": "code",
   "execution_count": 192,
   "metadata": {},
   "outputs": [
    {
     "name": "stdout",
     "output_type": "stream",
     "text": [
      "7.848668270144524\n"
     ]
    }
   ],
   "source": [
    "# 使用np.log()函式計算以e為底的自然對數\n",
    "# 計算2的自然對數的立方、5的自然對數的立方，以及5的自然對數乘以8的自然對數，並將三者相加後輸出結果\n",
    "\n",
    "print((np.log(2)) ** 3 + (np.log(5)) ** 3 + (np.log(5) * np.log(8)))"
   ]
  },
  {
   "cell_type": "code",
   "execution_count": 193,
   "metadata": {},
   "outputs": [
    {
     "data": {
      "text/plain": [
       "array([-1., -3.])"
      ]
     },
     "execution_count": 193,
     "metadata": {},
     "output_type": "execute_result"
    }
   ],
   "source": [
    "# 計算一元二次方程式(求兩根解)，公式為(-b +- √(b² - 4ac)) / (2a)\n",
    "\n",
    "# 一元二次方程式的係數a, b, c (對應 ax² + bx + c = 0)\n",
    "a = 2\n",
    "b = 8\n",
    "c = 6\n",
    "\n",
    "# 使用公式b² - 4ac計算判別式，並將結果存放在變數discriminant中\n",
    "discriminant = (b ** 2) - (4 * a * c)\n",
    "\n",
    "# 計算正負根解，使用np.array()函式和np.sqrt()函式計算平方根，並輸出結果\n",
    "np.array([(-b + np.sqrt(discriminant)) / (2 * a), (-b - np.sqrt(discriminant)) / (2 * a)])"
   ]
  },
  {
   "cell_type": "code",
   "execution_count": 194,
   "metadata": {},
   "outputs": [
    {
     "data": {
      "text/plain": [
       "array([30, 70,  9, 63,  2, 18, 25])"
      ]
     },
     "execution_count": 194,
     "metadata": {},
     "output_type": "execute_result"
    }
   ],
   "source": [
    "# 使用np.array()函式建立一個NumPy一維陣列，包含七個整數元素，並將結果存放到變數arr中\n",
    "arr = np.array([330, 70, 99, 63, 128, 36, 25])\n",
    "\n",
    "# 計算每個元素與3150的最大公因數，並輸出結果\n",
    "np.gcd(arr, 3150)"
   ]
  },
  {
   "cell_type": "code",
   "execution_count": 195,
   "metadata": {},
   "outputs": [
    {
     "data": {
      "text/plain": [
       "array([ 25,  36,  63,  70,  99, 128, 330])"
      ]
     },
     "execution_count": 195,
     "metadata": {},
     "output_type": "execute_result"
    }
   ],
   "source": [
    "# 使用np.array()函式建立一個NumPy二維陣列，包含七個整數元素\n",
    "# 使用np.sort()函式對該陣列的每一列進行排序\n",
    "\n",
    "np.sort(np.array([330, 70, 99, 63, 128, 36, 25]))"
   ]
  },
  {
   "cell_type": "code",
   "execution_count": 196,
   "metadata": {},
   "outputs": [
    {
     "data": {
      "text/plain": [
       "array([   1.24,    2.78, -100.  , -100.12])"
      ]
     },
     "execution_count": 196,
     "metadata": {},
     "output_type": "execute_result"
    }
   ],
   "source": [
    "# 使用np.round()函式將一維陣列[1.235, 2.7834, -99.9999, -100.1234]中的每個元素四捨五入到小數點後2位，並輸出結果\n",
    "np.round([1.235, 2.7834, -99.9999, -100.1234], 2)"
   ]
  },
  {
   "cell_type": "code",
   "execution_count": 197,
   "metadata": {},
   "outputs": [
    {
     "data": {
      "text/plain": [
       "array([0.19369635, 0.41399817, 0.463676  , 0.30560365, 0.48502302])"
      ]
     },
     "execution_count": 197,
     "metadata": {},
     "output_type": "execute_result"
    }
   ],
   "source": [
    "# 使用np.random.rand()函式生成一個包含5個隨機浮點數的一維陣列\n",
    "# 這些隨機數的範圍在0(含)到1(不含)之間\n",
    "\n",
    "np.random.rand(5)"
   ]
  },
  {
   "cell_type": "code",
   "execution_count": 198,
   "metadata": {},
   "outputs": [
    {
     "data": {
      "text/plain": [
       "array([1, 9, 3, 8, 6], dtype=int32)"
      ]
     },
     "execution_count": 198,
     "metadata": {},
     "output_type": "execute_result"
    }
   ],
   "source": [
    "# 使用np.random.randint()函式生成一個包含5個隨機整數的一維陣列\n",
    "# 這些隨機數的範圍是[1, 10)，也就是在1(含)到10(不含)之間\n",
    "\n",
    "np.random.randint(1, 10, 5)"
   ]
  },
  {
   "cell_type": "code",
   "execution_count": 199,
   "metadata": {},
   "outputs": [
    {
     "data": {
      "text/plain": [
       "array([ 0.99391625,  3.21788715, -2.5646872 ,  1.17921   , -2.29866566])"
      ]
     },
     "execution_count": 199,
     "metadata": {},
     "output_type": "execute_result"
    }
   ],
   "source": [
    "# 使用np.random.triangular()函式從三角形機率分佈取樣5個數值\n",
    "# left：分布最小值(左邊界)，這裡指定為-10\n",
    "# mode：分布的峰值(最可能出現的值)，這裡指定為0\n",
    "# right：分布最大值(右邊界)，這裡指定為10\n",
    "# size：生成隨機數的個數，這裡指定為5\n",
    "\n",
    "np.random.triangular(left = -10, mode = 0, right = 10, size = 5)"
   ]
  },
  {
   "cell_type": "code",
   "execution_count": 200,
   "metadata": {},
   "outputs": [
    {
     "data": {
      "text/plain": [
       "array([0.02848403, 0.11679014, 0.14709203, 0.08446572, 0.04781847])"
      ]
     },
     "execution_count": 200,
     "metadata": {},
     "output_type": "execute_result"
    }
   ],
   "source": [
    "# 使用np.random.normal()函式從標準常態分佈取樣5個數值\n",
    "# loc：平均值，預設0\n",
    "# scale：標準差，這裡指定為0.1\n",
    "# size：生成隨機數的個數，這裡指定為5\n",
    "\n",
    "np.random.normal(loc = 0, scale = 0.1, size = 5)"
   ]
  },
  {
   "cell_type": "code",
   "execution_count": 201,
   "metadata": {},
   "outputs": [
    {
     "data": {
      "text/plain": [
       "array([10, 11,  9, 14,  9], dtype=int32)"
      ]
     },
     "execution_count": 201,
     "metadata": {},
     "output_type": "execute_result"
    }
   ],
   "source": [
    "# 使用np.random.poisson()函式從卜瓦松(Poisson)分布取樣5個數值\n",
    "# lam：事件的期望值 / 平均發生率λ，這裡設定為10\n",
    "# size：生成隨機數的個數，這裡設定為5\n",
    "\n",
    "np.random.poisson(lam = 10, size = 5)"
   ]
  },
  {
   "cell_type": "code",
   "execution_count": 202,
   "metadata": {},
   "outputs": [
    {
     "name": "stdout",
     "output_type": "stream",
     "text": [
      "90\n"
     ]
    }
   ],
   "source": [
    "# 使用np.array()函式建立一個NumPy一維陣列weights，包含9位球員的體重(公斤)\n",
    "weights = np.array([70, 68, 82, 65, 76, 71, 62, 74, 90])\n",
    "\n",
    "# 使用np.max()函式計算所有球員的最大體重\n",
    "print(np.max(weights))"
   ]
  },
  {
   "cell_type": "code",
   "execution_count": 203,
   "metadata": {},
   "outputs": [
    {
     "name": "stdout",
     "output_type": "stream",
     "text": [
      "62\n"
     ]
    }
   ],
   "source": [
    "# 使用np.min()函式計算所有球員的最小體重\n",
    "print(np.min(weights))"
   ]
  },
  {
   "cell_type": "code",
   "execution_count": 204,
   "metadata": {},
   "outputs": [
    {
     "name": "stdout",
     "output_type": "stream",
     "text": [
      "73.11111111111111\n"
     ]
    }
   ],
   "source": [
    "# 使用np.mean()函式計算所有球員的平均體重\n",
    "print(np.mean(weights))"
   ]
  },
  {
   "cell_type": "code",
   "execution_count": 205,
   "metadata": {},
   "outputs": [
    {
     "name": "stdout",
     "output_type": "stream",
     "text": [
      "71.0\n"
     ]
    }
   ],
   "source": [
    "# 使用np.median()函式計算所有球員的中位數體重\n",
    "print(np.median(weights))"
   ]
  },
  {
   "cell_type": "code",
   "execution_count": 206,
   "metadata": {},
   "outputs": [
    {
     "name": "stdout",
     "output_type": "stream",
     "text": [
      "8.184598604756843\n"
     ]
    }
   ],
   "source": [
    "# 使用np.std()函式計算所有球員的體重標準差\n",
    "print(np.std(weights))"
   ]
  },
  {
   "cell_type": "code",
   "execution_count": 207,
   "metadata": {},
   "outputs": [
    {
     "name": "stdout",
     "output_type": "stream",
     "text": [
      "66.98765432098766\n"
     ]
    }
   ],
   "source": [
    "# 使用np.var()函式計算所有球員的體重變異數\n",
    "print(np.var(weights))"
   ]
  }
 ],
 "metadata": {
  "kernelspec": {
   "display_name": "base",
   "language": "python",
   "name": "python3"
  },
  "language_info": {
   "codemirror_mode": {
    "name": "ipython",
    "version": 3
   },
   "file_extension": ".py",
   "mimetype": "text/x-python",
   "name": "python",
   "nbconvert_exporter": "python",
   "pygments_lexer": "ipython3",
   "version": "3.12.3"
  }
 },
 "nbformat": 4,
 "nbformat_minor": 2
}
